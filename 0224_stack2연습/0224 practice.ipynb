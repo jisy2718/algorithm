{
 "cells": [
  {
   "cell_type": "markdown",
   "metadata": {},
   "source": [
    "1초 제한은 1억 반복에 10억연산의미"
   ]
  },
  {
   "cell_type": "markdown",
   "metadata": {},
   "source": [
    "# 4874. Forth"
   ]
  },
  {
   "cell_type": "code",
   "execution_count": 7,
   "metadata": {},
   "outputs": [
    {
     "name": "stdout",
     "output_type": "stream",
     "text": [
      "1\n",
      "10 2 + 3 4 + * .\n",
      "#1 84\n"
     ]
    }
   ],
   "source": [
    "T = int(input())\n",
    "for tc in range(1,T+1):\n",
    "    expression = input().split()\n",
    "    \n",
    "    stack = []\n",
    "    for element in expression:\n",
    "        # 1 연산자\n",
    "        if element in '+-*/':\n",
    "            # 1-1 error case\n",
    "            if len(stack) < 2 :\n",
    "                print(f'#{tc} error')\n",
    "                break\n",
    "            # 숫자 2개인 경우\n",
    "            else:\n",
    "                back = stack.pop()\n",
    "                front = stack.pop()\n",
    "                if element == '+':\n",
    "                    stack.append(front+back)\n",
    "                elif element == '-':\n",
    "                    stack.append(front-back)\n",
    "                elif element == '*':\n",
    "                    stack.append(front*back)\n",
    "                else:\n",
    "                    stack.append(front//back) # 정수화\n",
    "                    \n",
    "        # 2  . 경우\n",
    "        elif element =='.':\n",
    "            if len(stack) == 1:\n",
    "                print(f'#{tc} {stack.pop()}')\n",
    "            else:\n",
    "                print(f'#{tc} error')\n",
    "            \n",
    "            \n",
    "        # 3 숫자 경우\n",
    "        else:\n",
    "            stack.append(int(element))\n",
    "                  \n",
    "            \n",
    "        "
   ]
  },
  {
   "cell_type": "markdown",
   "metadata": {},
   "source": [
    "# 4875 미로"
   ]
  },
  {
   "cell_type": "code",
   "execution_count": 11,
   "metadata": {},
   "outputs": [
    {
     "name": "stdout",
     "output_type": "stream",
     "text": [
      "1\n",
      "5\n",
      "13101\n",
      "10101\n",
      "10101\n",
      "10101\n",
      "10021\n"
     ]
    },
    {
     "ename": "IndexError",
     "evalue": "list index out of range",
     "output_type": "error",
     "traceback": [
      "\u001b[1;31m---------------------------------------------------------------------------\u001b[0m",
      "\u001b[1;31mIndexError\u001b[0m                                Traceback (most recent call last)",
      "\u001b[1;32m<ipython-input-11-1340abb3e204>\u001b[0m in \u001b[0;36m<module>\u001b[1;34m\u001b[0m\n\u001b[0;32m     39\u001b[0m                 \u001b[0mstack\u001b[0m\u001b[1;33m.\u001b[0m\u001b[0mappend\u001b[0m\u001b[1;33m(\u001b[0m\u001b[1;33m(\u001b[0m\u001b[0mnr\u001b[0m\u001b[1;33m,\u001b[0m\u001b[0mnc\u001b[0m\u001b[1;33m)\u001b[0m\u001b[1;33m)\u001b[0m\u001b[1;33m\u001b[0m\u001b[1;33m\u001b[0m\u001b[0m\n\u001b[0;32m     40\u001b[0m                 \u001b[1;32mbreak\u001b[0m\u001b[1;33m\u001b[0m\u001b[1;33m\u001b[0m\u001b[0m\n\u001b[1;32m---> 41\u001b[1;33m             \u001b[1;32melif\u001b[0m \u001b[0mmaze\u001b[0m\u001b[1;33m[\u001b[0m\u001b[0mnr\u001b[0m\u001b[1;33m]\u001b[0m\u001b[1;33m[\u001b[0m\u001b[0mnc\u001b[0m\u001b[1;33m]\u001b[0m \u001b[1;33m==\u001b[0m \u001b[1;36m3\u001b[0m\u001b[1;33m:\u001b[0m  \u001b[1;31m# 도착성공\u001b[0m\u001b[1;33m\u001b[0m\u001b[1;33m\u001b[0m\u001b[0m\n\u001b[0m\u001b[0;32m     42\u001b[0m                 \u001b[0mresult\u001b[0m \u001b[1;33m=\u001b[0m \u001b[1;36m1\u001b[0m \u001b[1;31m# 결과 표시\u001b[0m\u001b[1;33m\u001b[0m\u001b[1;33m\u001b[0m\u001b[0m\n\u001b[0;32m     43\u001b[0m                 \u001b[1;32mwhile\u001b[0m \u001b[0mstack\u001b[0m\u001b[1;33m:\u001b[0m\u001b[1;33m\u001b[0m\u001b[1;33m\u001b[0m\u001b[0m\n",
      "\u001b[1;31mIndexError\u001b[0m: list index out of range"
     ]
    }
   ],
   "source": [
    "T = int(input())\n",
    "for tc in range(1,T+1):\n",
    "    # 1. input\n",
    "    N = int(input())\n",
    "    maze = [list(map(int,input())) for _ in range(N)]\n",
    "    \n",
    "    # 2. 이동 규칙 (상우하좌)\n",
    "    dr = [-1,0,1,0]\n",
    "    dc = [0,1,0,-1]\n",
    "    \n",
    "    # 3. visited & stack\n",
    "    visited = [[False]*N for _ in range(N)]\n",
    "    stack = []\n",
    "    \n",
    "    # 4. 출발/ 도착 찾기\n",
    "    sr = sc = 0 # 출발(행,열)\n",
    "    er = ec = 0 # 도착(행,열)\n",
    "    \n",
    "    for i in range(N):\n",
    "        for j in range(N):\n",
    "            if maze[i][j] == 2:\n",
    "                sr, sc = i, j\n",
    "            elif maze[i][j] == 3:\n",
    "                er, ec = i, j\n",
    "    \n",
    "    # 5. 이동하기\n",
    "    stack.append((sr,sc))\n",
    "    visited[sr][sc] = True\n",
    "    result = 0\n",
    "    while stack:\n",
    "        cr, cc = stack[-1] # 현재 위치\n",
    "        \n",
    "        # 이동\n",
    "        for d in range(4):\n",
    "            nr = cr + dr[d]\n",
    "            nc = cc + dc[d]\n",
    "            if 0<= nr < N and 0 <= nc < N and not visited[nr][nc] and maze[nr][nc] ==0:  # 방문가능 조건\n",
    "                visited[nr][nc] = True #방문\n",
    "                stack.append((nr,nc))\n",
    "                break\n",
    "            elif 0<= nr < N and 0 <= nc < N and maze[nr][nc] == 3:  # 도착성공\n",
    "                result = 1 # 결과 표시\n",
    "                while stack:\n",
    "                    stack.pop() # break 후에 밖의 while 문 빠져나가기 위해\n",
    "                break\n",
    "        else:\n",
    "            stack.pop()  # break 안일어나면 경로나 도착지를 못찾은 것이므로 pop\n",
    "        \n",
    "   # while 문 탈출 후에, result 인쇄\n",
    "    print(f'#{tc} {result}')\n",
    "            "
   ]
  },
  {
   "cell_type": "code",
   "execution_count": null,
   "metadata": {},
   "outputs": [],
   "source": [
    "\n",
    "3\n",
    "5\n",
    "13101\n",
    "10101\n",
    "10101\n",
    "10101\n",
    "10021"
   ]
  },
  {
   "cell_type": "code",
   "execution_count": null,
   "metadata": {},
   "outputs": [],
   "source": []
  },
  {
   "cell_type": "markdown",
   "metadata": {},
   "source": [
    "# 4880 토너먼트게임"
   ]
  },
  {
   "cell_type": "code",
   "execution_count": 21,
   "metadata": {},
   "outputs": [
    {
     "name": "stdout",
     "output_type": "stream",
     "text": [
      "1\n",
      "4\n",
      "1 3 2 1\n",
      "[[0, 1], [1, 3], [2, 2], [3, 1]]\n"
     ]
    },
    {
     "ename": "TypeError",
     "evalue": "list indices must be integers or slices, not tuple",
     "output_type": "error",
     "traceback": [
      "\u001b[1;31m---------------------------------------------------------------------------\u001b[0m",
      "\u001b[1;31mTypeError\u001b[0m                                 Traceback (most recent call last)",
      "\u001b[1;32m<ipython-input-21-b9af2a135250>\u001b[0m in \u001b[0;36m<module>\u001b[1;34m\u001b[0m\n\u001b[0;32m     39\u001b[0m     \u001b[0midx_value_lst\u001b[0m \u001b[1;33m=\u001b[0m \u001b[1;33m[\u001b[0m \u001b[1;33m[\u001b[0m\u001b[0mi\u001b[0m\u001b[1;33m,\u001b[0m\u001b[0mlst\u001b[0m\u001b[1;33m[\u001b[0m\u001b[0mi\u001b[0m\u001b[1;33m]\u001b[0m\u001b[1;33m]\u001b[0m \u001b[1;32mfor\u001b[0m \u001b[0mi\u001b[0m \u001b[1;32min\u001b[0m \u001b[0mrange\u001b[0m\u001b[1;33m(\u001b[0m\u001b[0mN\u001b[0m\u001b[1;33m)\u001b[0m\u001b[1;33m]\u001b[0m\u001b[1;33m\u001b[0m\u001b[1;33m\u001b[0m\u001b[0m\n\u001b[0;32m     40\u001b[0m     \u001b[0mprint\u001b[0m\u001b[1;33m(\u001b[0m\u001b[0midx_value_lst\u001b[0m\u001b[1;33m)\u001b[0m\u001b[1;33m\u001b[0m\u001b[1;33m\u001b[0m\u001b[0m\n\u001b[1;32m---> 41\u001b[1;33m     \u001b[0mprint\u001b[0m\u001b[1;33m(\u001b[0m\u001b[0mdivide_match\u001b[0m\u001b[1;33m(\u001b[0m\u001b[0midx_value_lst\u001b[0m\u001b[1;33m,\u001b[0m\u001b[1;36m0\u001b[0m\u001b[1;33m,\u001b[0m\u001b[0mN\u001b[0m\u001b[1;33m-\u001b[0m\u001b[1;36m1\u001b[0m\u001b[1;33m)\u001b[0m\u001b[1;33m)\u001b[0m\u001b[1;33m\u001b[0m\u001b[1;33m\u001b[0m\u001b[0m\n\u001b[0m",
      "\u001b[1;32m<ipython-input-21-b9af2a135250>\u001b[0m in \u001b[0;36mdivide_match\u001b[1;34m(idx_value_lst, start, end)\u001b[0m\n\u001b[0;32m     17\u001b[0m     \u001b[0mmid\u001b[0m \u001b[1;33m=\u001b[0m \u001b[1;33m(\u001b[0m\u001b[0mstart\u001b[0m \u001b[1;33m+\u001b[0m \u001b[0mend\u001b[0m\u001b[1;33m)\u001b[0m\u001b[1;33m//\u001b[0m\u001b[1;36m2\u001b[0m\u001b[1;33m\u001b[0m\u001b[1;33m\u001b[0m\u001b[0m\n\u001b[0;32m     18\u001b[0m     \u001b[0mleft\u001b[0m \u001b[1;33m=\u001b[0m \u001b[0midx_value_lst\u001b[0m\u001b[1;33m[\u001b[0m\u001b[0mstart\u001b[0m\u001b[1;33m:\u001b[0m\u001b[0mmid\u001b[0m\u001b[1;33m]\u001b[0m\u001b[1;33m\u001b[0m\u001b[1;33m\u001b[0m\u001b[0m\n\u001b[1;32m---> 19\u001b[1;33m     \u001b[0mright\u001b[0m \u001b[1;33m=\u001b[0m  \u001b[0midx_value_lst\u001b[0m\u001b[1;33m[\u001b[0m\u001b[0mmid\u001b[0m\u001b[1;33m+\u001b[0m\u001b[1;36m1\u001b[0m\u001b[1;33m,\u001b[0m\u001b[0mend\u001b[0m\u001b[1;33m+\u001b[0m\u001b[1;36m1\u001b[0m\u001b[1;33m]\u001b[0m\u001b[1;33m\u001b[0m\u001b[1;33m\u001b[0m\u001b[0m\n\u001b[0m\u001b[0;32m     20\u001b[0m \u001b[1;33m\u001b[0m\u001b[0m\n\u001b[0;32m     21\u001b[0m     \u001b[1;31m# 승부를 겨룰 수 있는 경우\u001b[0m\u001b[1;33m\u001b[0m\u001b[1;33m\u001b[0m\u001b[1;33m\u001b[0m\u001b[0m\n",
      "\u001b[1;31mTypeError\u001b[0m: list indices must be integers or slices, not tuple"
     ]
    }
   ],
   "source": [
    "def match(p1, p2):  # p1 = (idx, 가위바위보) 꼴\n",
    "    loss = {1: 2, 2: 3, 3: 1}  # 가위:바위, 바위:보, 보:가위  로 예를들면 가위는 dict[가위] 에게 진다.\n",
    "\n",
    "    # 1. 비기기\n",
    "    if p1[1] == p2[1]:\n",
    "        return p1\n",
    "    # 2. p1이 지기\n",
    "    elif loss[p1[1]] == p2[1]:\n",
    "        return p2\n",
    "\n",
    "    # 3. p1이 이기기\n",
    "    else:\n",
    "        return p1\n",
    "\n",
    "\n",
    "def divide_match(idx_value_lst: list, start: int, end: int):\n",
    "    result = []\n",
    "    mid = (start + end) // 2\n",
    "    left = idx_value_lst[start:mid + 1]\n",
    "    right = idx_value_lst[mid + 1: end + 1]\n",
    "\n",
    "    # 승부를 겨룰 수 있는 경우\n",
    "    # 1) 둘 다 원소가 1개\n",
    "    if len(left) == 1 and len(right) == 1:\n",
    "        result.append(match(left[0], right[0]))\n",
    "        return result\n",
    "    # 2) left 가 원소 1개이고 right는 없는 경우\n",
    "    elif len(left) == 1 and not right:\n",
    "        result.append(left[0])\n",
    "        return result\n",
    "    else:\n",
    "        result.extend(divide_match(idx_value_lst, start, mid))\n",
    "        result.extend(divide_match(idx_value_lst, mid + 1, end))\n",
    "\n",
    "    return result\n",
    "\n",
    "\n",
    "T = int(input())\n",
    "for tc in range(1, T + 1):\n",
    "    N = int(input())\n",
    "    lst = list(map(int, input().split()))\n",
    "    idx_value_lst = [[i, lst[i]] for i in range(N)]\n",
    "\n",
    "    result = divide_match(idx_value_lst, 0, len(idx_value_lst) - 1)\n",
    "    while len(result) > 1:\n",
    "        result = divide_match(result, 0, len(result) - 1)\n",
    "\n",
    "    # 사람의 번호는 idx + 1 이다.\n",
    "    print(f'#{tc} {result[0][0]+1}')"
   ]
  },
  {
   "cell_type": "code",
   "execution_count": 22,
   "metadata": {},
   "outputs": [
    {
     "data": {
      "text/plain": [
       "[[2, 3], [3, 4]]"
      ]
     },
     "execution_count": 22,
     "metadata": {},
     "output_type": "execute_result"
    }
   ],
   "source": [
    "a = [[1,2],[2,3],[3,4]]\n",
    "a[1:3]"
   ]
  },
  {
   "cell_type": "markdown",
   "metadata": {},
   "source": [
    "# 4881. 배열최소합\n",
    "+ nqueen\n",
    "+ 순열 \\\n",
    "두가지 방법"
   ]
  },
  {
   "cell_type": "code",
   "execution_count": 23,
   "metadata": {},
   "outputs": [
    {
     "name": "stdout",
     "output_type": "stream",
     "text": [
      "1\n",
      "3\n"
     ]
    },
    {
     "ename": "KeyboardInterrupt",
     "evalue": "Interrupted by user",
     "output_type": "error",
     "traceback": [
      "\u001b[1;31m---------------------------------------------------------------------------\u001b[0m",
      "\u001b[1;31mKeyboardInterrupt\u001b[0m                         Traceback (most recent call last)",
      "\u001b[1;32m<ipython-input-23-8404d5cb30c5>\u001b[0m in \u001b[0;36m<module>\u001b[1;34m\u001b[0m\n\u001b[0;32m     25\u001b[0m \u001b[1;32mfor\u001b[0m \u001b[0mtc\u001b[0m \u001b[1;32min\u001b[0m \u001b[0mrange\u001b[0m\u001b[1;33m(\u001b[0m\u001b[1;36m1\u001b[0m\u001b[1;33m,\u001b[0m \u001b[0mT\u001b[0m \u001b[1;33m+\u001b[0m \u001b[1;36m1\u001b[0m\u001b[1;33m)\u001b[0m\u001b[1;33m:\u001b[0m\u001b[1;33m\u001b[0m\u001b[1;33m\u001b[0m\u001b[0m\n\u001b[0;32m     26\u001b[0m     \u001b[0mN\u001b[0m \u001b[1;33m=\u001b[0m \u001b[0mint\u001b[0m\u001b[1;33m(\u001b[0m\u001b[0minput\u001b[0m\u001b[1;33m(\u001b[0m\u001b[1;33m)\u001b[0m\u001b[1;33m)\u001b[0m\u001b[1;33m\u001b[0m\u001b[1;33m\u001b[0m\u001b[0m\n\u001b[1;32m---> 27\u001b[1;33m     \u001b[0marr\u001b[0m \u001b[1;33m=\u001b[0m \u001b[1;33m[\u001b[0m\u001b[0mlist\u001b[0m\u001b[1;33m(\u001b[0m\u001b[0mmap\u001b[0m\u001b[1;33m(\u001b[0m\u001b[0mint\u001b[0m\u001b[1;33m,\u001b[0m \u001b[0minput\u001b[0m\u001b[1;33m(\u001b[0m\u001b[1;33m)\u001b[0m\u001b[1;33m.\u001b[0m\u001b[0msplit\u001b[0m\u001b[1;33m(\u001b[0m\u001b[1;33m)\u001b[0m\u001b[1;33m)\u001b[0m\u001b[1;33m)\u001b[0m \u001b[1;32mfor\u001b[0m \u001b[0m_\u001b[0m \u001b[1;32min\u001b[0m \u001b[0mrange\u001b[0m\u001b[1;33m(\u001b[0m\u001b[0mN\u001b[0m\u001b[1;33m)\u001b[0m\u001b[1;33m]\u001b[0m\u001b[1;33m\u001b[0m\u001b[1;33m\u001b[0m\u001b[0m\n\u001b[0m\u001b[0;32m     28\u001b[0m \u001b[1;33m\u001b[0m\u001b[0m\n\u001b[0;32m     29\u001b[0m     \u001b[1;31m# 2. min_value 초기화\u001b[0m\u001b[1;33m\u001b[0m\u001b[1;33m\u001b[0m\u001b[1;33m\u001b[0m\u001b[0m\n",
      "\u001b[1;32m<ipython-input-23-8404d5cb30c5>\u001b[0m in \u001b[0;36m<listcomp>\u001b[1;34m(.0)\u001b[0m\n\u001b[0;32m     25\u001b[0m \u001b[1;32mfor\u001b[0m \u001b[0mtc\u001b[0m \u001b[1;32min\u001b[0m \u001b[0mrange\u001b[0m\u001b[1;33m(\u001b[0m\u001b[1;36m1\u001b[0m\u001b[1;33m,\u001b[0m \u001b[0mT\u001b[0m \u001b[1;33m+\u001b[0m \u001b[1;36m1\u001b[0m\u001b[1;33m)\u001b[0m\u001b[1;33m:\u001b[0m\u001b[1;33m\u001b[0m\u001b[1;33m\u001b[0m\u001b[0m\n\u001b[0;32m     26\u001b[0m     \u001b[0mN\u001b[0m \u001b[1;33m=\u001b[0m \u001b[0mint\u001b[0m\u001b[1;33m(\u001b[0m\u001b[0minput\u001b[0m\u001b[1;33m(\u001b[0m\u001b[1;33m)\u001b[0m\u001b[1;33m)\u001b[0m\u001b[1;33m\u001b[0m\u001b[1;33m\u001b[0m\u001b[0m\n\u001b[1;32m---> 27\u001b[1;33m     \u001b[0marr\u001b[0m \u001b[1;33m=\u001b[0m \u001b[1;33m[\u001b[0m\u001b[0mlist\u001b[0m\u001b[1;33m(\u001b[0m\u001b[0mmap\u001b[0m\u001b[1;33m(\u001b[0m\u001b[0mint\u001b[0m\u001b[1;33m,\u001b[0m \u001b[0minput\u001b[0m\u001b[1;33m(\u001b[0m\u001b[1;33m)\u001b[0m\u001b[1;33m.\u001b[0m\u001b[0msplit\u001b[0m\u001b[1;33m(\u001b[0m\u001b[1;33m)\u001b[0m\u001b[1;33m)\u001b[0m\u001b[1;33m)\u001b[0m \u001b[1;32mfor\u001b[0m \u001b[0m_\u001b[0m \u001b[1;32min\u001b[0m \u001b[0mrange\u001b[0m\u001b[1;33m(\u001b[0m\u001b[0mN\u001b[0m\u001b[1;33m)\u001b[0m\u001b[1;33m]\u001b[0m\u001b[1;33m\u001b[0m\u001b[1;33m\u001b[0m\u001b[0m\n\u001b[0m\u001b[0;32m     28\u001b[0m \u001b[1;33m\u001b[0m\u001b[0m\n\u001b[0;32m     29\u001b[0m     \u001b[1;31m# 2. min_value 초기화\u001b[0m\u001b[1;33m\u001b[0m\u001b[1;33m\u001b[0m\u001b[1;33m\u001b[0m\u001b[0m\n",
      "\u001b[1;32mc:\\users\\ji\\appdata\\local\\programs\\python\\python39\\lib\\site-packages\\ipykernel\\kernelbase.py\u001b[0m in \u001b[0;36mraw_input\u001b[1;34m(self, prompt)\u001b[0m\n\u001b[0;32m    855\u001b[0m                 \u001b[1;34m\"raw_input was called, but this frontend does not support input requests.\"\u001b[0m\u001b[1;33m\u001b[0m\u001b[1;33m\u001b[0m\u001b[0m\n\u001b[0;32m    856\u001b[0m             )\n\u001b[1;32m--> 857\u001b[1;33m         return self._input_request(str(prompt),\n\u001b[0m\u001b[0;32m    858\u001b[0m             \u001b[0mself\u001b[0m\u001b[1;33m.\u001b[0m\u001b[0m_parent_ident\u001b[0m\u001b[1;33m,\u001b[0m\u001b[1;33m\u001b[0m\u001b[1;33m\u001b[0m\u001b[0m\n\u001b[0;32m    859\u001b[0m             \u001b[0mself\u001b[0m\u001b[1;33m.\u001b[0m\u001b[0m_parent_header\u001b[0m\u001b[1;33m,\u001b[0m\u001b[1;33m\u001b[0m\u001b[1;33m\u001b[0m\u001b[0m\n",
      "\u001b[1;32mc:\\users\\ji\\appdata\\local\\programs\\python\\python39\\lib\\site-packages\\ipykernel\\kernelbase.py\u001b[0m in \u001b[0;36m_input_request\u001b[1;34m(self, prompt, ident, parent, password)\u001b[0m\n\u001b[0;32m    899\u001b[0m             \u001b[1;32mexcept\u001b[0m \u001b[0mKeyboardInterrupt\u001b[0m\u001b[1;33m:\u001b[0m\u001b[1;33m\u001b[0m\u001b[1;33m\u001b[0m\u001b[0m\n\u001b[0;32m    900\u001b[0m                 \u001b[1;31m# re-raise KeyboardInterrupt, to truncate traceback\u001b[0m\u001b[1;33m\u001b[0m\u001b[1;33m\u001b[0m\u001b[1;33m\u001b[0m\u001b[0m\n\u001b[1;32m--> 901\u001b[1;33m                 \u001b[1;32mraise\u001b[0m \u001b[0mKeyboardInterrupt\u001b[0m\u001b[1;33m(\u001b[0m\u001b[1;34m\"Interrupted by user\"\u001b[0m\u001b[1;33m)\u001b[0m \u001b[1;32mfrom\u001b[0m \u001b[1;32mNone\u001b[0m\u001b[1;33m\u001b[0m\u001b[1;33m\u001b[0m\u001b[0m\n\u001b[0m\u001b[0;32m    902\u001b[0m             \u001b[1;32mexcept\u001b[0m \u001b[0mException\u001b[0m \u001b[1;32mas\u001b[0m \u001b[0me\u001b[0m\u001b[1;33m:\u001b[0m\u001b[1;33m\u001b[0m\u001b[1;33m\u001b[0m\u001b[0m\n\u001b[0;32m    903\u001b[0m                 \u001b[0mself\u001b[0m\u001b[1;33m.\u001b[0m\u001b[0mlog\u001b[0m\u001b[1;33m.\u001b[0m\u001b[0mwarning\u001b[0m\u001b[1;33m(\u001b[0m\u001b[1;34m\"Invalid Message:\"\u001b[0m\u001b[1;33m,\u001b[0m \u001b[0mexc_info\u001b[0m\u001b[1;33m=\u001b[0m\u001b[1;32mTrue\u001b[0m\u001b[1;33m)\u001b[0m\u001b[1;33m\u001b[0m\u001b[1;33m\u001b[0m\u001b[0m\n",
      "\u001b[1;31mKeyboardInterrupt\u001b[0m: Interrupted by user"
     ]
    }
   ],
   "source": [
    "\n",
    "def partial_sum(row_idx, arr, N):\n",
    "    global min_sum\n",
    "    global used_row_col\n",
    "    # 부분합을 찾은 것\n",
    "    if row_idx == N:\n",
    "        cur_sum = 0\n",
    "        for c in range(N):\n",
    "            cur_sum += arr[used_row_col[c][0], c]  # 해당 행의, i 열이 사용됨\n",
    "        if min_sum > cur_sum:\n",
    "            min_sum = cur_sum\n",
    "        return\n",
    "\n",
    "    for c in range(N):\n",
    "        if used_row_col[c][1] != 1:\n",
    "            used_row_col[c][1] = 1  # c열 사용\n",
    "            used_row_col[c][0] = row_idx  # row_idx 행에서 c열 사용\n",
    "            partial_sum(row_idx + 1, arr, N)  # 다음 행에 대해서 진행\n",
    "\n",
    "            # 이전으로 되돌리기\n",
    "            used_row_col[c][1] = None  # c열 사용 취소\n",
    "            used_row_col[c][0] = None  # row_idx 행에서 c열 사용 취소\n",
    "\n",
    "# 1. input\n",
    "T = int(input())\n",
    "for tc in range(1, T + 1):\n",
    "    N = int(input())\n",
    "    arr = [list(map(int, input().split())) for _ in range(N)]\n",
    "\n",
    "    # 2. min_value 초기화\n",
    "    min_sum = 0\n",
    "    for i in range(N):\n",
    "        min_sum += arr[i][i]\n",
    "\n",
    "    used_row_col = [[None, None]] * N\n",
    "    def partial_sum(row_idx, arr, N):\n",
    "        global min_sum\n",
    "        global used_row_col\n",
    "        # 부분합을 찾은 것\n",
    "        if row_idx == N:\n",
    "            cur_sum = 0\n",
    "            for c in range(N):\n",
    "                cur_sum += arr[used_row_col[c][0], c]  # 해당 행의, i 열이 사용됨\n",
    "            if min_sum > cur_sum:\n",
    "                min_sum = cur_sum\n",
    "            return\n",
    "\n",
    "        for c in range(N):\n",
    "            if used_row_col[c][1] != 1:\n",
    "                used_row_col[c][1] = 1  # c열 사용\n",
    "                used_row_col[c][0] = row_idx  # row_idx 행에서 c열 사용\n",
    "                partial_sum(row_idx + 1, arr, N)  # 다음 행에 대해서 진행\n",
    "\n",
    "                # 이전으로 되돌리기\n",
    "                used_row_col[c][1] = None  # c열 사용 취소\n",
    "                used_row_col[c][0] = None  # row_idx 행에서 c열 사용 취소\n",
    "                \n",
    "    partial_sum(0, arr, N)\n",
    "\n",
    "    print(f\"#{tc} {min_sum}\")"
   ]
  },
  {
   "cell_type": "code",
   "execution_count": 15,
   "metadata": {},
   "outputs": [
    {
     "data": {
      "text/plain": [
       "([1], [])"
      ]
     },
     "execution_count": 15,
     "metadata": {},
     "output_type": "execute_result"
    }
   ],
   "source": [
    "a,b"
   ]
  },
  {
   "cell_type": "markdown",
   "metadata": {},
   "source": [
    "# 계산기 3"
   ]
  },
  {
   "cell_type": "code",
   "execution_count": 34,
   "metadata": {},
   "outputs": [
    {
     "name": "stdout",
     "output_type": "stream",
     "text": [
      "113\n",
      "(9+(5*2+1)+(3*3*7*6*9*1*7+1+8*6+6*1*1*5*2)*4*7+4*3*8*2*6+(7*8*4*5)+3+7+(2+6+5+1+7+6+7*3*(6+2)+6+6)*2+4+2*2+4*9*3)\n",
      "(\n",
      "10 (\n"
     ]
    },
    {
     "ename": "KeyError",
     "evalue": "10",
     "output_type": "error",
     "traceback": [
      "\u001b[1;31m---------------------------------------------------------------------------\u001b[0m",
      "\u001b[1;31mKeyError\u001b[0m                                  Traceback (most recent call last)",
      "\u001b[1;32m<ipython-input-34-b265854de660>\u001b[0m in \u001b[0;36m<module>\u001b[1;34m\u001b[0m\n\u001b[0;32m     61\u001b[0m     \u001b[0mN\u001b[0m \u001b[1;33m=\u001b[0m \u001b[0mint\u001b[0m\u001b[1;33m(\u001b[0m\u001b[0minput\u001b[0m\u001b[1;33m(\u001b[0m\u001b[1;33m)\u001b[0m\u001b[1;33m)\u001b[0m\u001b[1;33m\u001b[0m\u001b[1;33m\u001b[0m\u001b[0m\n\u001b[0;32m     62\u001b[0m     \u001b[0mexp\u001b[0m \u001b[1;33m=\u001b[0m \u001b[0minput\u001b[0m\u001b[1;33m(\u001b[0m\u001b[1;33m)\u001b[0m\u001b[1;33m\u001b[0m\u001b[1;33m\u001b[0m\u001b[0m\n\u001b[1;32m---> 63\u001b[1;33m     \u001b[0mmake_post\u001b[0m\u001b[1;33m(\u001b[0m\u001b[0mexp\u001b[0m\u001b[1;33m)\u001b[0m\u001b[1;33m\u001b[0m\u001b[1;33m\u001b[0m\u001b[0m\n\u001b[0m",
      "\u001b[1;32m<ipython-input-34-b265854de660>\u001b[0m in \u001b[0;36mmake_post\u001b[1;34m(expression)\u001b[0m\n\u001b[0;32m     15\u001b[0m             \u001b[1;32melse\u001b[0m\u001b[1;33m:\u001b[0m\u001b[1;33m\u001b[0m\u001b[1;33m\u001b[0m\u001b[0m\n\u001b[0;32m     16\u001b[0m                 \u001b[0mprint\u001b[0m\u001b[1;33m(\u001b[0m\u001b[0mstack\u001b[0m\u001b[1;33m[\u001b[0m\u001b[1;33m-\u001b[0m\u001b[1;36m1\u001b[0m\u001b[1;33m]\u001b[0m\u001b[1;33m,\u001b[0m \u001b[0melement\u001b[0m\u001b[1;33m)\u001b[0m\u001b[1;33m\u001b[0m\u001b[1;33m\u001b[0m\u001b[0m\n\u001b[1;32m---> 17\u001b[1;33m                 \u001b[1;32mif\u001b[0m \u001b[0misp\u001b[0m\u001b[1;33m[\u001b[0m\u001b[0mstack\u001b[0m\u001b[1;33m[\u001b[0m\u001b[1;33m-\u001b[0m\u001b[1;36m1\u001b[0m\u001b[1;33m]\u001b[0m\u001b[1;33m]\u001b[0m \u001b[1;33m<\u001b[0m \u001b[0micp\u001b[0m\u001b[1;33m[\u001b[0m\u001b[0melement\u001b[0m\u001b[1;33m]\u001b[0m\u001b[1;33m:\u001b[0m\u001b[1;33m\u001b[0m\u001b[1;33m\u001b[0m\u001b[0m\n\u001b[0m\u001b[0;32m     18\u001b[0m                     \u001b[0mstack\u001b[0m\u001b[1;33m.\u001b[0m\u001b[0mappend\u001b[0m\u001b[1;33m(\u001b[0m\u001b[0melement\u001b[0m\u001b[1;33m)\u001b[0m\u001b[1;33m\u001b[0m\u001b[1;33m\u001b[0m\u001b[0m\n\u001b[0;32m     19\u001b[0m                 \u001b[1;32melse\u001b[0m\u001b[1;33m:\u001b[0m\u001b[1;33m\u001b[0m\u001b[1;33m\u001b[0m\u001b[0m\n",
      "\u001b[1;31mKeyError\u001b[0m: 10"
     ]
    }
   ],
   "source": [
    "def make_post(expression):\n",
    "    #-------------후위표기-------------------\n",
    "    # 1. icp, isp, post, stack\n",
    "    icp = {'+':1, '*':2, '(':3}\n",
    "    isp = {'+':1, '*':2, '(':0}\n",
    "    post = ''\n",
    "    stack1 = []\n",
    "    \n",
    "    for element in expression:\n",
    "    # 2. 연산자, ( 인 경우\n",
    "        print(element)\n",
    "        if element in '+*(':\n",
    "            if not stack:\n",
    "                stack1.append(element)\n",
    "            else:\n",
    "                print(stack[-1], element)\n",
    "                if isp[stack[-1]] < icp[element]:\n",
    "                    stack.append(element)\n",
    "                else:\n",
    "                    while stack and isp[stack[-1]] >= icp[element]:\n",
    "                        post += stack.pop\n",
    "                \t# 자신보다 작아지면 push    \n",
    "                    stack.append(element)\n",
    "                \n",
    "        # 3. 닫는괄호경우\n",
    "        elif element == ')' :\n",
    "            while stack[-1] != '(':\n",
    "                post += stack.pop()\n",
    "            # '(' 가 나온경우 그냥 pop\n",
    "            stack.pop()\n",
    "        \n",
    "        # 4. 숫자 경우\n",
    "        else:\n",
    "            post += element\n",
    "            \n",
    "        print(f\"stack is {stack1}\")\n",
    "        print(f\"post is {post}\")\n",
    "    \n",
    "    #------------------------후위표기 계산-----------\n",
    "    stack2 = []\n",
    "    # stack2에 넣을 때 정수로 변환해서 넣기\n",
    "    for element in post:\n",
    "        # 연산자 경우\n",
    "        if element in '+*':\n",
    "            back = stack2.pop()\n",
    "            front = stack2.pop()\n",
    "            if element =='+':\n",
    "                stack.append(front+back)\n",
    "            else:\n",
    "                stack.append(front*back)\n",
    "        \n",
    "        # 숫자경우\n",
    "        else:\n",
    "            stack2.append(int(element))\n",
    "    \n",
    "    print(f'#{tc} {stack2[-1]}')\n",
    "    \n",
    "    \n",
    "\n",
    "for tc in range(1, 2):\n",
    "    N = int(input())\n",
    "    exp = input()\n",
    "    make_post(exp)"
   ]
  },
  {
   "cell_type": "code",
   "execution_count": null,
   "metadata": {},
   "outputs": [],
   "source": []
  }
 ],
 "metadata": {
  "kernelspec": {
   "display_name": "Python 3",
   "language": "python",
   "name": "python3"
  },
  "language_info": {
   "codemirror_mode": {
    "name": "ipython",
    "version": 3
   },
   "file_extension": ".py",
   "mimetype": "text/x-python",
   "name": "python",
   "nbconvert_exporter": "python",
   "pygments_lexer": "ipython3",
   "version": "3.9.4"
  }
 },
 "nbformat": 4,
 "nbformat_minor": 4
}
