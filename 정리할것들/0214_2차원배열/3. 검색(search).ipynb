{
 "cells": [
  {
   "cell_type": "markdown",
   "metadata": {},
   "source": [
    "# 1. 순차 검색\n",
    "+ 검색 대상의 수가 많은 경우에는 수행시간이 급격히 증가"
   ]
  },
  {
   "cell_type": "markdown",
   "metadata": {},
   "source": [
    "## 1-1. 정렬되어 있지 않은 경우\n",
    "+ 정렬되어 있지 않은 자료에서의 순차 검색 평균 비교 횟수\n",
    " = (1 + 2+ ...+ n) / n = O(n)"
   ]
  },
  {
   "cell_type": "code",
   "execution_count": null,
   "metadata": {},
   "outputs": [],
   "source": []
  },
  {
   "cell_type": "markdown",
   "metadata": {},
   "source": [
    "## 1-2. 정렬되어 있는 경우\n",
    "+ 중간에 검색을 중단할 수 있다\n",
    "+ 속도 O(n)"
   ]
  },
  {
   "cell_type": "code",
   "execution_count": null,
   "metadata": {},
   "outputs": [],
   "source": []
  },
  {
   "cell_type": "markdown",
   "metadata": {},
   "source": [
    "# 2. 이진 검색\n",
    "+ 자료가 정렬된 상태여야 함\n",
    "+ 속도가 O(log(n))\n",
    "+ 재귀도 가능"
   ]
  },
  {
   "cell_type": "code",
   "execution_count": 2,
   "metadata": {},
   "outputs": [],
   "source": [
    "# 길이가 N인 list a에서 key 값 찾기\n",
    "def binarySearch(a:list, N:int, key):\n",
    "    start = 0\n",
    "    end = N-1\n",
    "    while start <= end: # start 보다 end값이 작아지는 경우 생김( 이경우 key값 없는 것)\n",
    "        middle = (start+end)//2\n",
    "        if a[middle] == key:\n",
    "            return True\n",
    "        elif a[middle] > key:\n",
    "            end = middle - 1\n",
    "            \n",
    "        else:\n",
    "            start = middle + 1\n",
    "        return False  # 검색 실패\n",
    "    "
   ]
  },
  {
   "cell_type": "code",
   "execution_count": null,
   "metadata": {},
   "outputs": [],
   "source": []
  }
 ],
 "metadata": {
  "kernelspec": {
   "display_name": "Python 3",
   "language": "python",
   "name": "python3"
  },
  "language_info": {
   "codemirror_mode": {
    "name": "ipython",
    "version": 3
   },
   "file_extension": ".py",
   "mimetype": "text/x-python",
   "name": "python",
   "nbconvert_exporter": "python",
   "pygments_lexer": "ipython3",
   "version": "3.9.4"
  }
 },
 "nbformat": 4,
 "nbformat_minor": 4
}
