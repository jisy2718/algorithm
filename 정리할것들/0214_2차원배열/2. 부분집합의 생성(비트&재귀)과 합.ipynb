{
 "cells": [
  {
   "cell_type": "markdown",
   "metadata": {},
   "source": [
    "# 1. 유한개 원소 정수 집합에서, 합이 0인 부분집합"
   ]
  },
  {
   "cell_type": "code",
   "execution_count": 7,
   "metadata": {},
   "outputs": [
    {
     "name": "stdout",
     "output_type": "stream",
     "text": [
      "\n",
      "4 \n",
      "3 \n",
      "3 4 \n",
      "2 \n",
      "2 4 \n",
      "2 3 \n",
      "2 3 4 \n",
      "1 \n",
      "1 4 \n",
      "1 3 \n",
      "1 3 4 \n",
      "1 2 \n",
      "1 2 4 \n",
      "1 2 3 \n",
      "1 2 3 4 \n",
      "------------------------------\n",
      "\n",
      "4 \n",
      "3 \n",
      "3 4 \n",
      "2 \n",
      "2 4 \n",
      "2 3 \n",
      "2 3 4 \n",
      "1 \n",
      "1 4 \n",
      "1 3 \n",
      "1 3 4 \n",
      "1 2 \n",
      "1 2 4 \n",
      "1 2 3 \n",
      "1 2 3 4 \n"
     ]
    }
   ],
   "source": [
    "bit = [0]*4\n",
    "\n",
    "def print_subset(lst:list):\n",
    "    for i in range(4):\n",
    "        if bit[i]:\n",
    "            print(lst[i], end=' ')\n",
    "    print()\n",
    "    \n",
    "A = [1,2,3,4]\n",
    "for i in range(2):\n",
    "    bit[0] = i                # 0 번째 원소\n",
    "    for j in range(2):\n",
    "        bit[1] = j            # 1 번째 원소\n",
    "        for k in range(2):\n",
    "            bit[2] = k        # 2 번째 원소\n",
    "            for l in range(2):\n",
    "                bit[3] = l    # 3 번째 원소\n",
    "                print_subset(A)\n",
    "print(\"-\"*30)\n",
    "for i in range(2):\n",
    "    bit[0] = i                # 0 번째 원소\n",
    "    for j in range(2):\n",
    "        bit[1] = j            # 1 번째 원소\n",
    "        for k in range(2):\n",
    "            bit[2] = k        # 2 번째 원소\n",
    "            for l in range(2):\n",
    "                bit[3] = l    # 3 번째 원소\n",
    "                for p in range(4):\n",
    "                    if bit[p]:\n",
    "                        print(A[p], end=\" \")\n",
    "                print()"
   ]
  },
  {
   "cell_type": "markdown",
   "metadata": {},
   "source": [
    "# 2. 비트연산자"
   ]
  },
  {
   "cell_type": "markdown",
   "metadata": {},
   "source": [
    "+ & : and\n",
    "+ | : or\n",
    "+ << : 좌로 shift (1<<5 는 2^5)\n",
    "+ \\>\\> : 우로 shift\n",
    "+ ^ : exclusive or\n",
    "\n",
    "+ 1 << n : 원소가 n 개 일 때 부분집합 개수\n",
    "\n",
    "+ i&(1<<j): i의 j번째 비트가 1인지 아닌지 검사"
   ]
  },
  {
   "cell_type": "code",
   "execution_count": 11,
   "metadata": {},
   "outputs": [
    {
     "data": {
      "text/plain": [
       "256"
      ]
     },
     "execution_count": 11,
     "metadata": {},
     "output_type": "execute_result"
    }
   ],
   "source": [
    "1<<8"
   ]
  },
  {
   "cell_type": "code",
   "execution_count": 17,
   "metadata": {},
   "outputs": [
    {
     "data": {
      "text/plain": [
       "4"
      ]
     },
     "execution_count": 17,
     "metadata": {},
     "output_type": "execute_result"
    }
   ],
   "source": [
    "5&(1<<2)  # (101) & (100) = 100 = 4"
   ]
  },
  {
   "cell_type": "code",
   "execution_count": 19,
   "metadata": {},
   "outputs": [
    {
     "data": {
      "text/plain": [
       "64"
      ]
     },
     "execution_count": 19,
     "metadata": {},
     "output_type": "execute_result"
    }
   ],
   "source": [
    "100&(1<<6)"
   ]
  },
  {
   "cell_type": "markdown",
   "metadata": {},
   "source": [
    "# 3. 간결하게 부분집합 생성"
   ]
  },
  {
   "cell_type": "code",
   "execution_count": 20,
   "metadata": {},
   "outputs": [
    {
     "name": "stdout",
     "output_type": "stream",
     "text": [
      "\n",
      "3, \n",
      "6, \n",
      "3, 6, \n",
      "7, \n",
      "3, 7, \n",
      "6, 7, \n",
      "3, 6, 7, \n",
      "1, \n",
      "3, 1, \n",
      "6, 1, \n",
      "3, 6, 1, \n",
      "7, 1, \n",
      "3, 7, 1, \n",
      "6, 7, 1, \n",
      "3, 6, 7, 1, \n",
      "5, \n",
      "3, 5, \n",
      "6, 5, \n",
      "3, 6, 5, \n",
      "7, 5, \n",
      "3, 7, 5, \n",
      "6, 7, 5, \n",
      "3, 6, 7, 5, \n",
      "1, 5, \n",
      "3, 1, 5, \n",
      "6, 1, 5, \n",
      "3, 6, 1, 5, \n",
      "7, 1, 5, \n",
      "3, 7, 1, 5, \n",
      "6, 7, 1, 5, \n",
      "3, 6, 7, 1, 5, \n",
      "4, \n",
      "3, 4, \n",
      "6, 4, \n",
      "3, 6, 4, \n",
      "7, 4, \n",
      "3, 7, 4, \n",
      "6, 7, 4, \n",
      "3, 6, 7, 4, \n",
      "1, 4, \n",
      "3, 1, 4, \n",
      "6, 1, 4, \n",
      "3, 6, 1, 4, \n",
      "7, 1, 4, \n",
      "3, 7, 1, 4, \n",
      "6, 7, 1, 4, \n",
      "3, 6, 7, 1, 4, \n",
      "5, 4, \n",
      "3, 5, 4, \n",
      "6, 5, 4, \n",
      "3, 6, 5, 4, \n",
      "7, 5, 4, \n",
      "3, 7, 5, 4, \n",
      "6, 7, 5, 4, \n",
      "3, 6, 7, 5, 4, \n",
      "1, 5, 4, \n",
      "3, 1, 5, 4, \n",
      "6, 1, 5, 4, \n",
      "3, 6, 1, 5, 4, \n",
      "7, 1, 5, 4, \n",
      "3, 7, 1, 5, 4, \n",
      "6, 7, 1, 5, 4, \n",
      "3, 6, 7, 1, 5, 4, \n",
      "\n"
     ]
    }
   ],
   "source": [
    "arr = [3, 6, 7, 1, 5,4]\n",
    "\n",
    "n = len(arr)   # n : 원소의 개수\n",
    "\n",
    "for i in range(1<<n): # 부분집합의 개수만큼 반복 (부분집합을 이진수로 표기)\n",
    "    for j in range(n): # 원소의 수만큼 비트를 비교함\n",
    "        if i & (1<<j):\n",
    "            print(arr[j], end=\", \")\n",
    "    print()\n",
    "print()\n",
    "        "
   ]
  },
  {
   "cell_type": "markdown",
   "metadata": {},
   "source": [
    "# 4. 재귀로 부분집합 생성"
   ]
  },
  {
   "cell_type": "code",
   "execution_count": 1,
   "metadata": {},
   "outputs": [],
   "source": [
    "arr = [1,2,3,4,5]\n",
    "N = 5\n",
    "bit = [0]*N\n",
    "\n",
    "def ps(idx):\n",
    "    if idx == N: # 더이상 결정할 요소가 없음.. 끝\n",
    "        #print(bit)\n",
    "        for i in range(N):\n",
    "            if bit[i] == 1:\n",
    "                print(arr[i],end=\",\")\n",
    "        print()\n",
    "        return\n",
    "        \n",
    "    #bit의 idx 번째 요소에 0 또는 1 넣어주기\n",
    "    for i in range(2):\n",
    "        bit[idx] = i\n",
    "        ps(idx+1)"
   ]
  },
  {
   "cell_type": "code",
   "execution_count": 2,
   "metadata": {},
   "outputs": [
    {
     "name": "stdout",
     "output_type": "stream",
     "text": [
      "\n",
      "5,\n",
      "4,\n",
      "4,5,\n",
      "3,\n",
      "3,5,\n",
      "3,4,\n",
      "3,4,5,\n",
      "2,\n",
      "2,5,\n",
      "2,4,\n",
      "2,4,5,\n",
      "2,3,\n",
      "2,3,5,\n",
      "2,3,4,\n",
      "2,3,4,5,\n",
      "1,\n",
      "1,5,\n",
      "1,4,\n",
      "1,4,5,\n",
      "1,3,\n",
      "1,3,5,\n",
      "1,3,4,\n",
      "1,3,4,5,\n",
      "1,2,\n",
      "1,2,5,\n",
      "1,2,4,\n",
      "1,2,4,5,\n",
      "1,2,3,\n",
      "1,2,3,5,\n",
      "1,2,3,4,\n",
      "1,2,3,4,5,\n"
     ]
    }
   ],
   "source": [
    "ps(0)"
   ]
  },
  {
   "cell_type": "code",
   "execution_count": null,
   "metadata": {},
   "outputs": [],
   "source": [
    "def ps(idx):\n",
    "    if idx == N:\n",
    "        return\n",
    "    "
   ]
  },
  {
   "cell_type": "code",
   "execution_count": null,
   "metadata": {},
   "outputs": [],
   "source": []
  }
 ],
 "metadata": {
  "kernelspec": {
   "display_name": "Python 3",
   "language": "python",
   "name": "python3"
  },
  "language_info": {
   "codemirror_mode": {
    "name": "ipython",
    "version": 3
   },
   "file_extension": ".py",
   "mimetype": "text/x-python",
   "name": "python",
   "nbconvert_exporter": "python",
   "pygments_lexer": "ipython3",
   "version": "3.9.4"
  }
 },
 "nbformat": 4,
 "nbformat_minor": 4
}
