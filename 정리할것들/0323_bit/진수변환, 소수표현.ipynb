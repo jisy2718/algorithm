{
 "cells": [
  {
   "cell_type": "markdown",
   "metadata": {},
   "source": [
    "# 실수범위\n",
    "+ 최대 : 1.8 x 10\\\\**308\n",
    "+ 최소 : 5.0 x 10**(-324)"
   ]
  },
  {
   "cell_type": "code",
   "execution_count": 16,
   "metadata": {},
   "outputs": [
    {
     "data": {
      "text/plain": [
       "2.5e-323"
      ]
     },
     "execution_count": 16,
     "metadata": {},
     "output_type": "execute_result"
    }
   ],
   "source": [
    "5*10**(-323.605)"
   ]
  },
  {
   "cell_type": "markdown",
   "metadata": {},
   "source": [
    "# 소수표현"
   ]
  },
  {
   "cell_type": "code",
   "execution_count": 24,
   "metadata": {},
   "outputs": [
    {
     "name": "stdout",
     "output_type": "stream",
     "text": [
      "1.100000000000000088817841970013\n",
      "1100000000000000134463078006784.000000000000000000000000000000\n"
     ]
    }
   ],
   "source": [
    "a = 1.1\n",
    "print(f'{a:.30f}')\n",
    "c = 1.1*1e30\n",
    "print(f'{c:.30f}')"
   ]
  },
  {
   "cell_type": "markdown",
   "metadata": {},
   "source": [
    "# 16 진수 -> 7bit 씩 묶어 10진수변환"
   ]
  },
  {
   "cell_type": "code",
   "execution_count": 51,
   "metadata": {},
   "outputs": [],
   "source": [
    "def hex_to_decimal(h):\n",
    "    # 16 진수 문자 하나 받아서, 10진수로 반환하는 메서드\n",
    "    if h in '0123456789':\n",
    "        return ord(h) - ord('0')\n",
    "    \n",
    "    else: # h in 'abcdef'\n",
    "        return ord(h) - ord('A') + 10\n",
    "\n",
    "# 10 진수 숫자를 4비트 binary로 변환해서 반환\n",
    "def decimal_to_binary(d):\n",
    "    result = ''\n",
    "    while d:\n",
    "        r = d % 2\n",
    "        result = str(r) + result\n",
    "        d //= 2\n",
    "        \n",
    "    return(result.zfill(4))\n",
    "\n",
    "def hex_to_binary(data):\n",
    "    binary = ''\n",
    "    for h in data:\n",
    "        binary += decimal_to_binary(hex_to_decimal(h))\n",
    "    return binary"
   ]
  },
  {
   "cell_type": "code",
   "execution_count": 52,
   "metadata": {},
   "outputs": [
    {
     "data": {
      "text/plain": [
       "'000000011101000001100000011110011000011000011101011110011111100110011111'"
      ]
     },
     "execution_count": 52,
     "metadata": {},
     "output_type": "execute_result"
    }
   ],
   "source": [
    "hex_to_binary('01D06079861D79F99F')"
   ]
  },
  {
   "cell_type": "code",
   "execution_count": 53,
   "metadata": {},
   "outputs": [
    {
     "data": {
      "text/plain": [
       "'0000110111101100'"
      ]
     },
     "execution_count": 53,
     "metadata": {},
     "output_type": "execute_result"
    }
   ],
   "source": [
    "hex_to_binary('0DEC')"
   ]
  },
  {
   "cell_type": "code",
   "execution_count": null,
   "metadata": {},
   "outputs": [],
   "source": []
  }
 ],
 "metadata": {
  "kernelspec": {
   "display_name": "Python 3",
   "language": "python",
   "name": "python3"
  },
  "language_info": {
   "codemirror_mode": {
    "name": "ipython",
    "version": 3
   },
   "file_extension": ".py",
   "mimetype": "text/x-python",
   "name": "python",
   "nbconvert_exporter": "python",
   "pygments_lexer": "ipython3",
   "version": "3.9.4"
  }
 },
 "nbformat": 4,
 "nbformat_minor": 4
}
