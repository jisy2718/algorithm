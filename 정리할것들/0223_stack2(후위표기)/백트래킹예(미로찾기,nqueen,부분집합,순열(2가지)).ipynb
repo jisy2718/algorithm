{
 "cells": [
  {
   "cell_type": "markdown",
   "metadata": {},
   "source": [
    "# 1. 미로찾기\n",
    "+ 3으로 도착하기"
   ]
  },
  {
   "cell_type": "code",
   "execution_count": 3,
   "metadata": {},
   "outputs": [],
   "source": [
    "mazeArray = [\n",
    "    [0,0,1,1,1,1,1,1],\n",
    "    [1,0,0,0,0,0,0,1],\n",
    "    [1,1,1,0,1,1,1,1],\n",
    "    [1,1,1,0,1,1,1,1],\n",
    "    [1,0,0,0,0,0,0,1],\n",
    "    [1,0,1,1,1,1,1,1],\n",
    "    [1,0,0,0,0,0,0,0],\n",
    "    [1,1,1,1,1,1,1,3]\n",
    "]"
   ]
  },
  {
   "cell_type": "code",
   "execution_count": 6,
   "metadata": {},
   "outputs": [
    {
     "name": "stdout",
     "output_type": "stream",
     "text": [
      "길을 찾음\n"
     ]
    }
   ],
   "source": [
    "N = 8\n",
    "# DFS = 현 상태에서 가능한 모든 경우의 수 고려하기\n",
    "# 시작 점\n",
    "\n",
    "r,c = 0,0\n",
    "# 현재위치 (r,c) >>> 현재 위치에서 갈 수 있는 경우의수 모두 찾기\n",
    "\n",
    "stack = []\n",
    "stack.append((r,c))\n",
    "\n",
    "visited = [[False]*N for _ in range(N)]\n",
    "visited[r][c] = 1\n",
    "# 4 방향 탐색을 위해, 변화량 배열 선언\n",
    "# 우 하 좌 상\n",
    "dr = [0,1,0,-1]\n",
    "dc = [1,0,-1,0]\n",
    "\n",
    "# 1. 현재 위치(top)에서 갈 수 있는 경로 탐색\n",
    "# 2, 경로를 찾았으면, stack에 push, 방문표시, 즉시이동(stack에 push)\n",
    "# 3. 경로가 없으면(+visited), 현재 경로에서 이전으로 돌아가기 (stack.pop())\n",
    "# 4. 위의 1~3 을 stack이 없어질 때까지 반복\n",
    "\n",
    "while stack:\n",
    "    cr, cc = stack[-1] # 현재위치\n",
    "    # 길을 찾은 경우\n",
    "    if mazeArray[cr][cc] == 3:\n",
    "        print('길을 찾음')\n",
    "        break\n",
    "        \n",
    "    # 현재 위치에서 갈 수 있는 길 찾기\n",
    "    for d in range(4):\n",
    "        nr = cr + dr[d] # 다음 r 위치\n",
    "        nc = cc + dc[d] # 다음 c 위치\n",
    "        # 갈 수 없는 길이면 안가기\n",
    "        # 범위 벗어나거나, 벽이거나, 방문했거나\n",
    "        # 갈 수 있는 길 : 범위 내 이고, 벽이 아니고, 방문하지 않았던 곳\n",
    "        # 아래와 같은 것이 백트래킹\n",
    "        if 0 <= nr < N and 0 <= nc < N and mazeArray[nr][nc] !=1 and visited[nr][nc]==False:\n",
    "            # 이동\n",
    "            stack.append((nr,nc)) # 스택에 추가\n",
    "            visited[nr][nc] = True  # 방문표시\n",
    "            break\n",
    "    \n",
    "    else: # 네 방향 모두 살펴봤는데, break 한 번도 안걸린 것은 갈 수 있는 길이 없다.\n",
    "        stack.pop()\n",
    "        \n",
    "    \n",
    "        \n",
    "        \n",
    "\n",
    "            \n",
    "        \n",
    "        "
   ]
  },
  {
   "cell_type": "code",
   "execution_count": null,
   "metadata": {},
   "outputs": [],
   "source": []
  },
  {
   "cell_type": "markdown",
   "metadata": {},
   "source": [
    "# 2. n-Queen problem"
   ]
  },
  {
   "cell_type": "code",
   "execution_count": 10,
   "metadata": {},
   "outputs": [
    {
     "name": "stdout",
     "output_type": "stream",
     "text": [
      "40\n"
     ]
    }
   ],
   "source": [
    "# idx 행에 퀸 놓아보기\n",
    "# 대각선 사용여부 확인\n",
    "# 대각1 (/) => i+j 가 index가 되도록 표기       (0, 1, 2, ... ,6)\n",
    "# 대각2(\\) => i - j + 3 이 index가 되도록 표기 (0,1,2, ..., 6)\n",
    "# 퀸을 놓을 수 있는지 확인하기 위해서 3개의 배열 이용\n",
    "\n",
    "N = 7\n",
    "col_check = [0]*N\n",
    "dia1_check = [0]*(2*N-1)   #i + j\n",
    "dia2_check = [0]*(2*N-1)   # i - j + N - 1\n",
    "cnt = 0\n",
    "\n",
    "def nqueen(idx):\n",
    "    global cnt  \n",
    "    if idx == N: # 모든 행에 퀸 다 놓은 경우\n",
    "        cnt += 1\n",
    "        return # 정답\n",
    "    \n",
    "    # idx 행에 퀸 놓은 후, 다음 행에 퀸 놓으러 가기\n",
    "    for i in range(N):\n",
    "        # 백트래킹\n",
    "        # idx 행 i 열에 퀸 놓기 ( 다른 퀸의 영향을 받지 않으면 놓기 )\n",
    "        if not col_check[i] and not dia1_check[idx+i] and not dia2_check[idx-i+N-1]:\n",
    "            # 퀸 놓기\n",
    "            # 0 초과면 해당자리에 영향을 미치는 퀸이 있다\n",
    "#             col_check[i] += 1\n",
    "#             dia1_check[idx+i] += 1\n",
    "#             dia2_check[idx-i+N-1] += 1\n",
    "#             nqueen(idx+1)     # 다음 퀸 탐색\n",
    "#             col_check[i] -= 1\n",
    "#             dia1_check[idx+i] -= 1\n",
    "#             dia2_check[idx-i+N-1] -= 1\n",
    "            col_check[i] = 1\n",
    "            dia1_check[idx+i] = 1\n",
    "            dia2_check[idx-i+N-1] = 1\n",
    "            nqueen(idx+1)     # 다음 퀸 탐색\n",
    "            col_check[i] = 0\n",
    "            dia1_check[idx+i] = 0\n",
    "            dia2_check[idx-i+N-1] = 0        \n",
    "nqueen(0)\n",
    "print(cnt)\n",
    "        "
   ]
  },
  {
   "cell_type": "markdown",
   "metadata": {},
   "source": [
    "# 0222 실습 문제 풀이"
   ]
  },
  {
   "cell_type": "markdown",
   "metadata": {},
   "source": [
    "# 3. (유향)그래프경로(찾기) / SWEA 4871"
   ]
  },
  {
   "cell_type": "code",
   "execution_count": null,
   "metadata": {},
   "outputs": [],
   "source": [
    "T = int(input())\n",
    "for tc in range(1,T+1):\n",
    "    V, E = map(int,input().split())\n",
    "    Edges = [list(map(int,input().split())) for _ in range(E)]\n",
    "    S , G = map(int,input().split())\n",
    "    \n",
    "    adj = [[0]*(V+1) for _ in range(V+1)]\n",
    "    visited = [False]*(V+1)\n",
    "    \n",
    "    # 인접행렬 이웃 표시\n",
    "    for edge in Edges:\n",
    "        adj[edge[0]][edge[1]] = 1\n",
    "    \n",
    "    stack = [S]\n",
    "    visited[S] = 1\n",
    "    result = 0\n",
    "    \n",
    "    while stack:\n",
    "        cur = stack[-1]\n",
    "        if cur == G:\n",
    "            result += 1\n",
    "            break\n",
    "        \n",
    "        for i in range(V+1):\n",
    "            if adj[cur][i] == 1 and not visited[i]:\n",
    "                stack.append(i)\n",
    "                visited[i] = True\n",
    "                break\n",
    "        else:\n",
    "            stack.pop()\n",
    "    print(f\"#{tc} {result}\")\n",
    "                \n",
    "            "
   ]
  },
  {
   "cell_type": "markdown",
   "metadata": {},
   "source": [
    "# 4.( 유향그래프)길찾기 / SWEA 1219"
   ]
  },
  {
   "cell_type": "code",
   "execution_count": 15,
   "metadata": {},
   "outputs": [
    {
     "name": "stdout",
     "output_type": "stream",
     "text": [
      "1 16\n",
      "0 1 0 2 1 4 1 3 4 8 4 3 2 9 2 5 5 6 5 7 7 99 7 9 9 8 9 10 6 10 3 7\n",
      "[1, 4, 9, 7, 8, 6, 10, 99, None, 8, None, None, None, None, None, None, None, None, None, None, None, None, None, None, None, None, None, None, None, None, None, None, None, None, None, None, None, None, None, None, None, None, None, None, None, None, None, None, None, None, None, None, None, None, None, None, None, None, None, None, None, None, None, None, None, None, None, None, None, None, None, None, None, None, None, None, None, None, None, None, None, None, None, None, None, None, None, None, None, None, None, None, None, None, None, None, None, None, None, None]\n",
      "[2, 3, 5, None, 3, 7, None, 9, None, 10, None, None, None, None, None, None, None, None, None, None, None, None, None, None, None, None, None, None, None, None, None, None, None, None, None, None, None, None, None, None, None, None, None, None, None, None, None, None, None, None, None, None, None, None, None, None, None, None, None, None, None, None, None, None, None, None, None, None, None, None, None, None, None, None, None, None, None, None, None, None, None, None, None, None, None, None, None, None, None, None, None, None, None, None, None, None, None, None, None, None]\n"
     ]
    },
    {
     "ename": "KeyboardInterrupt",
     "evalue": "Interrupted by user",
     "output_type": "error",
     "traceback": [
      "\u001b[1;31m---------------------------------------------------------------------------\u001b[0m",
      "\u001b[1;31mKeyboardInterrupt\u001b[0m                         Traceback (most recent call last)",
      "\u001b[1;32m<ipython-input-15-592b55c8046e>\u001b[0m in \u001b[0;36m<module>\u001b[1;34m\u001b[0m\n\u001b[0;32m      1\u001b[0m \u001b[0mT\u001b[0m \u001b[1;33m=\u001b[0m \u001b[1;36m10\u001b[0m\u001b[1;33m\u001b[0m\u001b[1;33m\u001b[0m\u001b[0m\n\u001b[0;32m      2\u001b[0m \u001b[1;32mfor\u001b[0m \u001b[0m_\u001b[0m \u001b[1;32min\u001b[0m \u001b[0mrange\u001b[0m\u001b[1;33m(\u001b[0m\u001b[1;36m1\u001b[0m\u001b[1;33m,\u001b[0m\u001b[0mT\u001b[0m\u001b[1;33m+\u001b[0m\u001b[1;36m1\u001b[0m\u001b[1;33m)\u001b[0m\u001b[1;33m:\u001b[0m\u001b[1;33m\u001b[0m\u001b[1;33m\u001b[0m\u001b[0m\n\u001b[1;32m----> 3\u001b[1;33m     \u001b[0mtc\u001b[0m\u001b[1;33m,\u001b[0m \u001b[0mE\u001b[0m \u001b[1;33m=\u001b[0m \u001b[0mmap\u001b[0m\u001b[1;33m(\u001b[0m\u001b[0mint\u001b[0m\u001b[1;33m,\u001b[0m\u001b[0minput\u001b[0m\u001b[1;33m(\u001b[0m\u001b[1;33m)\u001b[0m\u001b[1;33m.\u001b[0m\u001b[0msplit\u001b[0m\u001b[1;33m(\u001b[0m\u001b[1;33m)\u001b[0m\u001b[1;33m)\u001b[0m\u001b[1;33m\u001b[0m\u001b[1;33m\u001b[0m\u001b[0m\n\u001b[0m\u001b[0;32m      4\u001b[0m \u001b[1;33m\u001b[0m\u001b[0m\n\u001b[0;32m      5\u001b[0m     \u001b[0mtmp_Edges\u001b[0m \u001b[1;33m=\u001b[0m \u001b[0mlist\u001b[0m\u001b[1;33m(\u001b[0m\u001b[0mmap\u001b[0m\u001b[1;33m(\u001b[0m\u001b[0mint\u001b[0m\u001b[1;33m,\u001b[0m\u001b[0minput\u001b[0m\u001b[1;33m(\u001b[0m\u001b[1;33m)\u001b[0m\u001b[1;33m.\u001b[0m\u001b[0msplit\u001b[0m\u001b[1;33m(\u001b[0m\u001b[1;33m)\u001b[0m\u001b[1;33m)\u001b[0m\u001b[1;33m)\u001b[0m\u001b[1;33m\u001b[0m\u001b[1;33m\u001b[0m\u001b[0m\n",
      "\u001b[1;32mc:\\users\\ji\\appdata\\local\\programs\\python\\python39\\lib\\site-packages\\ipykernel\\kernelbase.py\u001b[0m in \u001b[0;36mraw_input\u001b[1;34m(self, prompt)\u001b[0m\n\u001b[0;32m    855\u001b[0m                 \u001b[1;34m\"raw_input was called, but this frontend does not support input requests.\"\u001b[0m\u001b[1;33m\u001b[0m\u001b[1;33m\u001b[0m\u001b[0m\n\u001b[0;32m    856\u001b[0m             )\n\u001b[1;32m--> 857\u001b[1;33m         return self._input_request(str(prompt),\n\u001b[0m\u001b[0;32m    858\u001b[0m             \u001b[0mself\u001b[0m\u001b[1;33m.\u001b[0m\u001b[0m_parent_ident\u001b[0m\u001b[1;33m,\u001b[0m\u001b[1;33m\u001b[0m\u001b[1;33m\u001b[0m\u001b[0m\n\u001b[0;32m    859\u001b[0m             \u001b[0mself\u001b[0m\u001b[1;33m.\u001b[0m\u001b[0m_parent_header\u001b[0m\u001b[1;33m,\u001b[0m\u001b[1;33m\u001b[0m\u001b[1;33m\u001b[0m\u001b[0m\n",
      "\u001b[1;32mc:\\users\\ji\\appdata\\local\\programs\\python\\python39\\lib\\site-packages\\ipykernel\\kernelbase.py\u001b[0m in \u001b[0;36m_input_request\u001b[1;34m(self, prompt, ident, parent, password)\u001b[0m\n\u001b[0;32m    899\u001b[0m             \u001b[1;32mexcept\u001b[0m \u001b[0mKeyboardInterrupt\u001b[0m\u001b[1;33m:\u001b[0m\u001b[1;33m\u001b[0m\u001b[1;33m\u001b[0m\u001b[0m\n\u001b[0;32m    900\u001b[0m                 \u001b[1;31m# re-raise KeyboardInterrupt, to truncate traceback\u001b[0m\u001b[1;33m\u001b[0m\u001b[1;33m\u001b[0m\u001b[1;33m\u001b[0m\u001b[0m\n\u001b[1;32m--> 901\u001b[1;33m                 \u001b[1;32mraise\u001b[0m \u001b[0mKeyboardInterrupt\u001b[0m\u001b[1;33m(\u001b[0m\u001b[1;34m\"Interrupted by user\"\u001b[0m\u001b[1;33m)\u001b[0m \u001b[1;32mfrom\u001b[0m \u001b[1;32mNone\u001b[0m\u001b[1;33m\u001b[0m\u001b[1;33m\u001b[0m\u001b[0m\n\u001b[0m\u001b[0;32m    902\u001b[0m             \u001b[1;32mexcept\u001b[0m \u001b[0mException\u001b[0m \u001b[1;32mas\u001b[0m \u001b[0me\u001b[0m\u001b[1;33m:\u001b[0m\u001b[1;33m\u001b[0m\u001b[1;33m\u001b[0m\u001b[0m\n\u001b[0;32m    903\u001b[0m                 \u001b[0mself\u001b[0m\u001b[1;33m.\u001b[0m\u001b[0mlog\u001b[0m\u001b[1;33m.\u001b[0m\u001b[0mwarning\u001b[0m\u001b[1;33m(\u001b[0m\u001b[1;34m\"Invalid Message:\"\u001b[0m\u001b[1;33m,\u001b[0m \u001b[0mexc_info\u001b[0m\u001b[1;33m=\u001b[0m\u001b[1;32mTrue\u001b[0m\u001b[1;33m)\u001b[0m\u001b[1;33m\u001b[0m\u001b[1;33m\u001b[0m\u001b[0m\n",
      "\u001b[1;31mKeyboardInterrupt\u001b[0m: Interrupted by user"
     ]
    }
   ],
   "source": [
    "T = 10\n",
    "for _ in range(1,T+1):\n",
    "    tc, E = map(int,input().split())\n",
    "    \n",
    "    tmp_Edges = list(map(int,input().split()))\n",
    "    data1 = [None]*100\n",
    "    data2 = [None]*100\n",
    "    for i in range(E):\n",
    "        if not data1[tmp_Edges[2*i]]:\n",
    "            data1[tmp_Edges[2*i]] = tmp_Edges[2*i+1]\n",
    "        else:\n",
    "            data2[tmp_Edges[2*i]] = tmp_Edges[2*i+1]\n",
    "    \n",
    "    # 0 에서 시작해서 99로 갈수있는가?\n",
    "    visited = [False]*100\n",
    "    stack = [0]\n",
    "    visited[0] = True\n",
    "    result = 0\n",
    "    while stack:\n",
    "        cur = stack[-1]\n",
    "        if cur == 99:\n",
    "            result += 1\n",
    "            break\n",
    "        \n",
    "        if data1[cur] and visited[cur]:\n",
    "    "
   ]
  },
  {
   "cell_type": "markdown",
   "metadata": {},
   "source": [
    "# 5. 부분집합구하기 (백트래킹)"
   ]
  },
  {
   "cell_type": "markdown",
   "metadata": {},
   "source": [
    "## 5-1 bit 손수 반복 "
   ]
  },
  {
   "cell_type": "code",
   "execution_count": 22,
   "metadata": {},
   "outputs": [
    {
     "name": "stdout",
     "output_type": "stream",
     "text": [
      "11 12 13 \n",
      "11 12 \n",
      "11 13 \n",
      "11 \n",
      "12 13 \n",
      "12 \n",
      "13 \n",
      "\n"
     ]
    }
   ],
   "source": [
    "N = 3\n",
    "bit = [0]*N\n",
    "lst = list(range(11,11+N))\n",
    "\n",
    "def f(idx, N):\n",
    "    # 1 ) 비트 모두 채움\n",
    "    if idx == N:\n",
    "        for j in range(N):\n",
    "            if bit[j]:\n",
    "                print(lst[j], end = ' ')\n",
    "        print()\n",
    "\n",
    "    \n",
    "    # 2 ) 반복경우\n",
    "    else:\n",
    "        bit[idx] = 1\n",
    "        f(idx+1, N)\n",
    "        bit[idx] = 0\n",
    "        f(idx+1, N)\n",
    "    return\n",
    "f(0,N)\n",
    "        "
   ]
  },
  {
   "cell_type": "markdown",
   "metadata": {},
   "source": [
    "## 5-2 bit 반복 루프로 일반화"
   ]
  },
  {
   "cell_type": "code",
   "execution_count": 23,
   "metadata": {},
   "outputs": [
    {
     "name": "stdout",
     "output_type": "stream",
     "text": [
      "11 12 13 \n",
      "11 12 \n",
      "11 13 \n",
      "11 \n",
      "12 13 \n",
      "12 \n",
      "13 \n",
      "\n"
     ]
    }
   ],
   "source": [
    "N = 3\n",
    "bit = [0]*N\n",
    "lst = list(range(11,11+N))\n",
    "candidate = [1,0]\n",
    "def f(idx, N):\n",
    "    # 1 ) 비트 모두 채움\n",
    "    if idx == N:\n",
    "        for j in range(N):\n",
    "            if bit[j]:\n",
    "                print(lst[j], end = ' ')\n",
    "        print()\n",
    "\n",
    "    \n",
    "    # 2 ) 반복경우\n",
    "    else:\n",
    "        for i in range(2):\n",
    "            bit[idx] = candidate[i]\n",
    "            f(idx+1,N)\n",
    "\n",
    "    return\n",
    "\n",
    "\n",
    "f(0,N)"
   ]
  },
  {
   "cell_type": "markdown",
   "metadata": {},
   "source": [
    "# 6. 백트래킹 (순열)"
   ]
  },
  {
   "cell_type": "markdown",
   "metadata": {},
   "source": [
    "## 6-1 DFS로 완전탐색"
   ]
  },
  {
   "cell_type": "code",
   "execution_count": 33,
   "metadata": {},
   "outputs": [
    {
     "name": "stdout",
     "output_type": "stream",
     "text": [
      "[1, 2, 3, 4]\n",
      "[1, 2, 4, 3]\n",
      "[1, 3, 2, 4]\n",
      "[1, 3, 4, 2]\n",
      "[1, 4, 2, 3]\n",
      "[1, 4, 3, 2]\n",
      "[2, 1, 3, 4]\n",
      "[2, 1, 4, 3]\n",
      "[2, 3, 1, 4]\n",
      "[2, 3, 4, 1]\n",
      "[2, 4, 1, 3]\n",
      "[2, 4, 3, 1]\n",
      "[3, 1, 2, 4]\n",
      "[3, 1, 4, 2]\n",
      "[3, 2, 1, 4]\n",
      "[3, 2, 4, 1]\n",
      "[3, 4, 1, 2]\n",
      "[3, 4, 2, 1]\n",
      "[4, 1, 2, 3]\n",
      "[4, 1, 3, 2]\n",
      "[4, 2, 1, 3]\n",
      "[4, 2, 3, 1]\n",
      "[4, 3, 1, 2]\n",
      "[4, 3, 2, 1]\n"
     ]
    }
   ],
   "source": [
    "N = 4\n",
    "arr = list(range(1,1+N))\n",
    "new_arr = [0]*N\n",
    "used = [0]*N\n",
    "# idx 요소에다가 모든 요소 한 번씩 넣어보기\n",
    "def permutation(idx,N):\n",
    "    \n",
    "    if idx == N:\n",
    "        print(new_arr)\n",
    "        return\n",
    "    \n",
    "    # i번째 요소를 사용하지 않았으면 사용하기\n",
    "    for i in range(N):\n",
    "        if not used[i]:\n",
    "            new_arr[idx] = arr[i]\n",
    "            used[i] = 1 # 다음 반복때 쓰면 안되므로 사용 표시\n",
    "            permutation(idx+1,N) # 다음 idx 결정\n",
    "            used[i] = 0 # 사용 끝났으니 표시 지우기\n",
    "    return\n",
    "\n",
    "permutation(0,N)"
   ]
  },
  {
   "cell_type": "markdown",
   "metadata": {},
   "source": [
    "## 6-2 교환을 통한 순열 구하기\n",
    "+ 교환을 할지 안할지를 알려줄 지표 필요\n",
    "+ 자신의 뒤의 것과 계속 바꾸는 것 고려하면 경우의 수 Nx(N-1)x...x 1 = N! 됨"
   ]
  },
  {
   "cell_type": "code",
   "execution_count": 35,
   "metadata": {},
   "outputs": [
    {
     "name": "stdout",
     "output_type": "stream",
     "text": [
      "[1, 2, 3, 4]\n",
      "[1, 2, 4, 3]\n",
      "[1, 3, 2, 4]\n",
      "[1, 3, 4, 2]\n",
      "[1, 4, 3, 2]\n",
      "[1, 4, 2, 3]\n",
      "[2, 1, 3, 4]\n",
      "[2, 1, 4, 3]\n",
      "[2, 3, 1, 4]\n",
      "[2, 3, 4, 1]\n",
      "[2, 4, 3, 1]\n",
      "[2, 4, 1, 3]\n",
      "[3, 2, 1, 4]\n",
      "[3, 2, 4, 1]\n",
      "[3, 1, 2, 4]\n",
      "[3, 1, 4, 2]\n",
      "[3, 4, 1, 2]\n",
      "[3, 4, 2, 1]\n",
      "[4, 2, 3, 1]\n",
      "[4, 2, 1, 3]\n",
      "[4, 3, 2, 1]\n",
      "[4, 3, 1, 2]\n",
      "[4, 1, 3, 2]\n",
      "[4, 1, 2, 3]\n"
     ]
    }
   ],
   "source": [
    "N = 4\n",
    "arr = list(range(1,1+N))\n",
    "\n",
    "def permutation2(idx):\n",
    "    if idx == N:\n",
    "        print(arr)\n",
    "        return\n",
    "    \n",
    "    # idx 번째 요소와 그 뒷 요소끼리 교환\n",
    "    for i in range(idx,N):\n",
    "        # 1\n",
    "        arr[idx], arr[i] = arr[i], arr[idx] # idx 자리에서 자리 바꿈\n",
    "        permutation2(idx+1)                  # idx+1 자리에서 자리 바꿈\n",
    "        arr[idx], arr[i] = arr[i], arr[idx] # 다음 자리에서 자리 바꿨으므로, \n",
    "         #현재에서는 다시 원래대로 돌린 후 (#1 시점으로 돌린 후) 다시 loop\n",
    "    return\n",
    "\n",
    "permutation2(0)"
   ]
  },
  {
   "cell_type": "code",
   "execution_count": null,
   "metadata": {},
   "outputs": [],
   "source": []
  },
  {
   "cell_type": "code",
   "execution_count": null,
   "metadata": {},
   "outputs": [],
   "source": []
  }
 ],
 "metadata": {
  "kernelspec": {
   "display_name": "Python 3",
   "language": "python",
   "name": "python3"
  },
  "language_info": {
   "codemirror_mode": {
    "name": "ipython",
    "version": 3
   },
   "file_extension": ".py",
   "mimetype": "text/x-python",
   "name": "python",
   "nbconvert_exporter": "python",
   "pygments_lexer": "ipython3",
   "version": "3.9.4"
  }
 },
 "nbformat": 4,
 "nbformat_minor": 4
}
