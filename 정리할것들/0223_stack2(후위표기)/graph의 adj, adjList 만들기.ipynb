{
 "cells": [
  {
   "cell_type": "code",
   "execution_count": null,
   "metadata": {},
   "outputs": [],
   "source": [
    "# 7. 8  (V ,E)\n",
    "# 1 2 1 3 2 4 2 5 4 6 5 6 6 7 3 7 (E들)\n",
    "\n",
    "V, E = map(int,input().split())\n",
    "arr = list(map(int,input().split()))\n",
    "adj = [[0]*(V+1) for _ in range(V+1)] # 각 노드들의 이웃관계 표현\n",
    "\n",
    "adjList = [[] for _ in range(V+1)] # 각 노드들의 이웃이 무엇인지 / 각 행은 오름차순으로 정렬 하는 것이 좋다.\n",
    "\n",
    "\n",
    "for i in range(E):\n",
    "    n1, n2 = arr[i*2][i*2+1]\n",
    "    adj[n1][n2] = 1\n",
    "    adj[n2][n1] = 1 # 무향인 경우\n",
    "    \n",
    "    adjList[n1].append(n2) # 각 노드들의 이웃\n",
    "    adjList[n2].append(n1)"
   ]
  }
 ],
 "metadata": {
  "kernelspec": {
   "display_name": "Python 3",
   "language": "python",
   "name": "python3"
  },
  "language_info": {
   "codemirror_mode": {
    "name": "ipython",
    "version": 3
   },
   "file_extension": ".py",
   "mimetype": "text/x-python",
   "name": "python",
   "nbconvert_exporter": "python",
   "pygments_lexer": "ipython3",
   "version": "3.9.4"
  }
 },
 "nbformat": 4,
 "nbformat_minor": 4
}
