{
 "cells": [
  {
   "cell_type": "markdown",
   "metadata": {},
   "source": [
    "# 1. 재귀로 배열에 숫자 넣기"
   ]
  },
  {
   "cell_type": "code",
   "execution_count": 3,
   "metadata": {},
   "outputs": [],
   "source": [
    "# 재귀로 길이 N인 배열에 숫자( 앞 수 보다 2배 큰 수 ) 넣기\n",
    "N = 5\n",
    "arr = [0]*5\n",
    "\n",
    "def func(idx, num):\n",
    "    # baseline\n",
    "    if idx == N:\n",
    "        return\n",
    "    \n",
    "    # 호출부\n",
    "    arr[idx] = num\n",
    "    func(idx+1,num*2)"
   ]
  },
  {
   "cell_type": "code",
   "execution_count": 4,
   "metadata": {},
   "outputs": [],
   "source": [
    "func(0,5)"
   ]
  },
  {
   "cell_type": "code",
   "execution_count": 5,
   "metadata": {},
   "outputs": [
    {
     "data": {
      "text/plain": [
       "[5, 10, 20, 40, 80]"
      ]
     },
     "execution_count": 5,
     "metadata": {},
     "output_type": "execute_result"
    }
   ],
   "source": [
    "arr"
   ]
  },
  {
   "cell_type": "markdown",
   "metadata": {},
   "source": [
    "# 2. 재귀로 N까지의 누적합 구하기"
   ]
  },
  {
   "cell_type": "code",
   "execution_count": 6,
   "metadata": {},
   "outputs": [],
   "source": [
    "def cum_sum(num,N, cum_sum_value):\n",
    "    if num == N:\n",
    "        return cum_sum_value + N\n",
    "    \n",
    "\n",
    "    \n",
    "    result = cum_sum(num+1, N, num + cum_sum_value)\n",
    "    \n",
    "    return result\n"
   ]
  },
  {
   "cell_type": "code",
   "execution_count": 7,
   "metadata": {},
   "outputs": [
    {
     "data": {
      "text/plain": [
       "15"
      ]
     },
     "execution_count": 7,
     "metadata": {},
     "output_type": "execute_result"
    }
   ],
   "source": [
    "cum_sum(1,5,0)"
   ]
  },
  {
   "cell_type": "code",
   "execution_count": null,
   "metadata": {},
   "outputs": [],
   "source": [
    "cum_sum(1,3,0) -> cum_sum(2,3,1) -> cum_sum(3,3,3) = 6 return 뒤로 돌아감"
   ]
  },
  {
   "cell_type": "markdown",
   "metadata": {},
   "source": [
    "# 3. 피보나치"
   ]
  },
  {
   "cell_type": "markdown",
   "metadata": {},
   "source": [
    "## 3-1. 재귀 이용한 피보나치"
   ]
  },
  {
   "cell_type": "code",
   "execution_count": 74,
   "metadata": {},
   "outputs": [],
   "source": [
    "# 그냥 피보나치\n",
    "count = 0\n",
    "def fibo(N):\n",
    "    global count\n",
    "    count += 1\n",
    "    if N < 2:\n",
    "        return N\n",
    "    \n",
    "    return fibo(N-2) + fibo(N-1)\n"
   ]
  },
  {
   "cell_type": "code",
   "execution_count": 75,
   "metadata": {},
   "outputs": [
    {
     "data": {
      "text/plain": [
       "(2584, 8361)"
      ]
     },
     "execution_count": 75,
     "metadata": {},
     "output_type": "execute_result"
    }
   ],
   "source": [
    "fibo(18), count"
   ]
  },
  {
   "cell_type": "markdown",
   "metadata": {},
   "source": [
    "## 3-2. memoization 이용한 피보나치 "
   ]
  },
  {
   "cell_type": "code",
   "execution_count": 76,
   "metadata": {},
   "outputs": [],
   "source": [
    "# memoization 이용한 피보나치\n",
    "count = 0\n",
    "arr = [0]*20\n",
    "def fibo_memo(N):\n",
    "    global count\n",
    "    count += 1\n",
    "    if N < 2:\n",
    "        return N\n",
    "    \n",
    "    if arr[N]:\n",
    "        return arr[N]\n",
    "    else:\n",
    "        return fibo_memo(N-1) + fibo_memo(N-2)"
   ]
  },
  {
   "cell_type": "code",
   "execution_count": 77,
   "metadata": {},
   "outputs": [
    {
     "data": {
      "text/plain": [
       "(2584, 8361)"
      ]
     },
     "execution_count": 77,
     "metadata": {},
     "output_type": "execute_result"
    }
   ],
   "source": [
    "fibo_memo(18), count"
   ]
  },
  {
   "cell_type": "markdown",
   "metadata": {},
   "source": [
    "## 3-3. DP 이용한 피보나치 \n",
    "+ 입력의 크기가 작은 부분부터 해결하여, 전체 문제를 해결하는 방식\n",
    "+ 웬만하면 시간복잡도 O(n) 으로 해결가능"
   ]
  },
  {
   "cell_type": "code",
   "execution_count": 32,
   "metadata": {},
   "outputs": [
    {
     "data": {
      "text/plain": [
       "[0,\n",
       " 1,\n",
       " 1,\n",
       " 2,\n",
       " 3,\n",
       " 5,\n",
       " 8,\n",
       " 13,\n",
       " 21,\n",
       " 34,\n",
       " 55,\n",
       " 89,\n",
       " 144,\n",
       " 233,\n",
       " 377,\n",
       " 610,\n",
       " 987,\n",
       " 1597,\n",
       " 2584,\n",
       " 4181,\n",
       " 6765,\n",
       " 10946,\n",
       " 17711,\n",
       " 28657,\n",
       " 46368,\n",
       " 75025,\n",
       " 121393,\n",
       " 196418,\n",
       " 317811,\n",
       " 514229,\n",
       " 832040,\n",
       " 1346269,\n",
       " 2178309,\n",
       " 3524578,\n",
       " 5702887,\n",
       " 9227465,\n",
       " 14930352,\n",
       " 24157817,\n",
       " 39088169,\n",
       " 63245986]"
      ]
     },
     "execution_count": 32,
     "metadata": {},
     "output_type": "execute_result"
    }
   ],
   "source": [
    "N = 40\n",
    "fibo_dp = [0]*N\n",
    "fibo_dp[0] = 0\n",
    "fibo_dp[1] = 1\n",
    "\n",
    "for i in range(2,N):\n",
    "    fibo_dp[i] = fibo_dp[i-2] + fibo_dp[i-1]\n",
    "\n",
    "fibo_dp"
   ]
  },
  {
   "cell_type": "markdown",
   "metadata": {},
   "source": [
    "# 4. DFS\n",
    "+ 인접행렬 만들 수 있어야\n",
    "+ 재귀는 스택처럼 작동하므로, 재귀로 DFS 작성가능"
   ]
  },
  {
   "cell_type": "markdown",
   "metadata": {},
   "source": [
    "## 4-1. DFS 구현\n",
    "+ 가장 나중에 방문한 경로에서 길 찾다가, 없으면 이전으로 되돌아가서 직전 방문 경로 삭제(LIFO)하고, 다시 길 찾기 (stack 처럼 동작) \n",
    "+ break 있어야"
   ]
  },
  {
   "cell_type": "code",
   "execution_count": 67,
   "metadata": {},
   "outputs": [],
   "source": [
    "#---------------------재귀표현시 공통으로 필요-----------------------------------------------\n",
    "N = 10\n",
    "adj = [[0]*N for _ in range(N)]\n",
    "visited = [False]*N\n",
    "path = []\n",
    "\n",
    "for i in range(N-1):\n",
    "    adj[i][i+1] = 1\n",
    "    adj[i+1][i] = 1\n",
    "adj[N-3][N-1] = adj[N-1][N-3] = 1 # N-3 번과 N-1번도 연결\n",
    "\n",
    "#--------------------------------------------------------------------\n",
    "\n",
    "stack = []\n",
    "top = -1\n",
    "top += 1 # 더 큰수로 이동\n",
    "start = 0\n",
    "stack.append(start)\n",
    "path.append(start)\n",
    "visited[start] = True\n",
    "while stack:\n",
    "    cur = stack[-1] # 여기서 탐색한다는 의미\n",
    "    \n",
    "    for i in range(N-1,-1,-1):\n",
    "        if adj[cur][i] == 1 and visited[i] == False:\n",
    "            visited[i] = True\n",
    "            stack.append(i)\n",
    "            path.append(i)\n",
    "            break\n",
    "    else:\n",
    "        stack.pop()\n",
    "            \n",
    "    \n",
    "    \n",
    "    "
   ]
  },
  {
   "cell_type": "code",
   "execution_count": 68,
   "metadata": {},
   "outputs": [
    {
     "data": {
      "text/plain": [
       "[[0, 1, 0, 0, 0, 0, 0, 0, 0, 0],\n",
       " [1, 0, 1, 0, 0, 0, 0, 0, 0, 0],\n",
       " [0, 1, 0, 1, 0, 0, 0, 0, 0, 0],\n",
       " [0, 0, 1, 0, 1, 0, 0, 0, 0, 0],\n",
       " [0, 0, 0, 1, 0, 1, 0, 0, 0, 0],\n",
       " [0, 0, 0, 0, 1, 0, 1, 0, 0, 0],\n",
       " [0, 0, 0, 0, 0, 1, 0, 1, 0, 0],\n",
       " [0, 0, 0, 0, 0, 0, 1, 0, 1, 1],\n",
       " [0, 0, 0, 0, 0, 0, 0, 1, 0, 1],\n",
       " [0, 0, 0, 0, 0, 0, 0, 1, 1, 0]]"
      ]
     },
     "execution_count": 68,
     "metadata": {},
     "output_type": "execute_result"
    }
   ],
   "source": [
    "adj"
   ]
  },
  {
   "cell_type": "code",
   "execution_count": 69,
   "metadata": {},
   "outputs": [
    {
     "data": {
      "text/plain": [
       "[0, 1, 2, 3, 4, 5, 6, 7, 9, 8]"
      ]
     },
     "execution_count": 69,
     "metadata": {},
     "output_type": "execute_result"
    }
   ],
   "source": [
    "path"
   ]
  },
  {
   "cell_type": "markdown",
   "metadata": {},
   "source": [
    "## 4-2. 재귀로 DFS 구현"
   ]
  },
  {
   "cell_type": "code",
   "execution_count": 6,
   "metadata": {},
   "outputs": [
    {
     "name": "stdout",
     "output_type": "stream",
     "text": [
      "[0, 1, 2, 3, 4, 5, 6, 7, 9, 8]\n"
     ]
    }
   ],
   "source": [
    "#---------------------재귀표현시 공통으로 필요-----------------------------------------------\n",
    "N = 10\n",
    "adj = [[0]*N for _ in range(N)]\n",
    "visited = [False]*N\n",
    "path = []\n",
    "\n",
    "for i in range(N-1):\n",
    "    adj[i][i+1] = 1\n",
    "    adj[i+1][i] = 1\n",
    "adj[N-3][N-1] = adj[N-1][N-3] = 1 # N-3 번과 N-1번도 연결\n",
    "\n",
    "#--------------------------------------------------------------------\n",
    "    \n",
    "    # v 번 노드에서 경로 찾기\n",
    "    \n",
    "    # 방문하지 않은 이동할 곳이 있으면 바로 이동\n",
    "    \n",
    "    # 이동할 곳이 없다면 이전 위치로 되돌아가기\n",
    "\n",
    "def dfs(v): # 이 함수 시작하면, v 번 노드로 이동한다는 의미\n",
    "    visited[v] = True # v번 노드 방문 표시\n",
    "    path.append(v)\n",
    "    for i in range(N-1,-1,-1):\n",
    "        if adj[v][i] == 1 and not visited[i]:\n",
    "            dfs(i)\n",
    "    \n",
    "    \n",
    "    \n",
    "\n",
    "    \n",
    "\n",
    "\n",
    "dfs(0) # 0번 노드에서 길찾기 시작\n",
    "print(path)"
   ]
  },
  {
   "cell_type": "code",
   "execution_count": 79,
   "metadata": {},
   "outputs": [
    {
     "ename": "SyntaxError",
     "evalue": "unexpected EOF while parsing (<ipython-input-79-9560f7f5ca8a>, line 3)",
     "output_type": "error",
     "traceback": [
      "\u001b[1;36m  File \u001b[1;32m\"<ipython-input-79-9560f7f5ca8a>\"\u001b[1;36m, line \u001b[1;32m3\u001b[0m\n\u001b[1;33m    print('#{} {}'.format(1, find())\u001b[0m\n\u001b[1;37m                                    ^\u001b[0m\n\u001b[1;31mSyntaxError\u001b[0m\u001b[1;31m:\u001b[0m unexpected EOF while parsing\n"
     ]
    }
   ],
   "source": []
  },
  {
   "cell_type": "code",
   "execution_count": 93,
   "metadata": {},
   "outputs": [
    {
     "name": "stdout",
     "output_type": "stream",
     "text": [
      "1\n",
      "((\n",
      "#1 0\n"
     ]
    }
   ],
   "source": [
    "T = int(input())\n",
    "\n",
    "for tc in range(1,T+1):\n",
    "    string = input()\n",
    "    #print(string)\n",
    "    stack = []\n",
    "    dict_map = { '}' : '{' , ')': '(' }\n",
    "    result = 1\n",
    "       \n",
    "    # 짝이 안맞으면 틀림, stack에 남아 있으면 틀림, pop 할 때 stack에 들어있는 것 없으면 틀림\n",
    "    for i in range(len(string)):\n",
    "        if string[i] =='{' or string[i] == '(':\n",
    "            stack.append(string[i])\n",
    "        elif string[i]=='}' or string[i]==')':\n",
    "            # case1) stack에 들어있는 것 없으면 틀린 것\n",
    "            if not stack:\n",
    "                result = 0 #실패\n",
    "                break\n",
    "            # case2) stack에 들어있는 것 있어도, 짝이 안맞으면 틀린 것\n",
    "            cur = stack.pop()\n",
    "            #print(f\"cur is {cur}, string[i] is {string[i]}\")\n",
    "            if dict_map[string[i]] != cur:\n",
    "                result = 0 # 실패\n",
    "                break\n",
    "    if stack:\n",
    "        result = 0\n",
    "    \n",
    "    print(f\"#{tc} {result}\")\n",
    "      "
   ]
  },
  {
   "cell_type": "code",
   "execution_count": 95,
   "metadata": {},
   "outputs": [],
   "source": [
    "s = 'aa'\n",
    "s = s[:0] + s[2:]"
   ]
  },
  {
   "cell_type": "code",
   "execution_count": 96,
   "metadata": {},
   "outputs": [
    {
     "data": {
      "text/plain": [
       "''"
      ]
     },
     "execution_count": 96,
     "metadata": {},
     "output_type": "execute_result"
    }
   ],
   "source": [
    "s"
   ]
  },
  {
   "cell_type": "code",
   "execution_count": 97,
   "metadata": {},
   "outputs": [],
   "source": [
    "def solve(N):\n",
    "    if N < 2:\n",
    "        return 1\n",
    "    return solve(N-1) + solve(N-2)*2\n"
   ]
  },
  {
   "cell_type": "code",
   "execution_count": 101,
   "metadata": {},
   "outputs": [
    {
     "data": {
      "text/plain": [
       "85"
      ]
     },
     "execution_count": 101,
     "metadata": {},
     "output_type": "execute_result"
    }
   ],
   "source": [
    "solve(7)"
   ]
  },
  {
   "cell_type": "code",
   "execution_count": 104,
   "metadata": {},
   "outputs": [
    {
     "data": {
      "text/plain": [
       "21"
      ]
     },
     "execution_count": 104,
     "metadata": {},
     "output_type": "execute_result"
    }
   ],
   "source": [
    "N = 11\n",
    "result = [0]*(N+1)\n",
    "result[0] = 1\n",
    "result[1] = 1\n",
    "for i in range(2,N+1):\n",
    "    result[i] = result[i-1] + result[i-2]*2\n",
    "result[5]"
   ]
  },
  {
   "cell_type": "code",
   "execution_count": 107,
   "metadata": {},
   "outputs": [
    {
     "name": "stdout",
     "output_type": "stream",
     "text": [
      "3\n",
      "30\n",
      "#1 5\n",
      "50\n",
      "#2 21\n",
      "70\n",
      "#3 85\n"
     ]
    }
   ],
   "source": [
    "\n",
    "T = int(input())\n",
    "for tc in range(1,T+1):\n",
    "    N = int(input())\n",
    "    N //= 10\n",
    "    result = [0]*(N+1)\n",
    "    result[0] = 1\n",
    "    result[1] = 1\n",
    "    for i in range(2,N+1):\n",
    "        result[i] = result[i-1] + result[i-2]*2\n",
    "    \n",
    "    print(f\"#{tc} {result[N]}\")"
   ]
  },
  {
   "cell_type": "code",
   "execution_count": 3,
   "metadata": {},
   "outputs": [
    {
     "name": "stdout",
     "output_type": "stream",
     "text": [
      "3\n",
      "1-0\n"
     ]
    },
    {
     "ename": "ValueError",
     "evalue": "invalid literal for int() with base 10: '1-0'",
     "output_type": "error",
     "traceback": [
      "\u001b[1;31m---------------------------------------------------------------------------\u001b[0m",
      "\u001b[1;31mValueError\u001b[0m                                Traceback (most recent call last)",
      "\u001b[1;32m<ipython-input-3-9cd91eb02b7e>\u001b[0m in \u001b[0;36m<module>\u001b[1;34m\u001b[0m\n\u001b[0;32m     10\u001b[0m \u001b[1;33m\u001b[0m\u001b[0m\n\u001b[0;32m     11\u001b[0m \u001b[1;32mfor\u001b[0m \u001b[0mtc\u001b[0m \u001b[1;32min\u001b[0m \u001b[0mrange\u001b[0m\u001b[1;33m(\u001b[0m\u001b[1;36m1\u001b[0m\u001b[1;33m,\u001b[0m \u001b[0mT\u001b[0m \u001b[1;33m+\u001b[0m \u001b[1;36m1\u001b[0m\u001b[1;33m)\u001b[0m\u001b[1;33m:\u001b[0m\u001b[1;33m\u001b[0m\u001b[1;33m\u001b[0m\u001b[0m\n\u001b[1;32m---> 12\u001b[1;33m     \u001b[0mN\u001b[0m \u001b[1;33m=\u001b[0m \u001b[0mint\u001b[0m\u001b[1;33m(\u001b[0m\u001b[0minput\u001b[0m\u001b[1;33m(\u001b[0m\u001b[1;33m)\u001b[0m\u001b[1;33m)\u001b[0m\u001b[1;33m\u001b[0m\u001b[1;33m\u001b[0m\u001b[0m\n\u001b[0m\u001b[0;32m     13\u001b[0m     \u001b[0mprint\u001b[0m\u001b[1;33m(\u001b[0m\u001b[1;34mf\"#{tc} {f(N)}\"\u001b[0m\u001b[1;33m)\u001b[0m\u001b[1;33m\u001b[0m\u001b[1;33m\u001b[0m\u001b[0m\n",
      "\u001b[1;31mValueError\u001b[0m: invalid literal for int() with base 10: '1-0'"
     ]
    }
   ],
   "source": [
    "def f(N):\n",
    "    if N == 10:\n",
    "        return 1\n",
    "    elif N == 20:\n",
    "        return 3\n",
    "    else:\n",
    "        return f(N-10) + f(N-20)*2\n",
    "\n",
    "T = int(input())\n",
    "\n",
    "for tc in range(1, T + 1):\n",
    "    N = int(input())\n",
    "    print(f\"#{tc} {f(N)}\")"
   ]
  },
  {
   "cell_type": "code",
   "execution_count": 7,
   "metadata": {},
   "outputs": [
    {
     "data": {
      "text/plain": [
       "2"
      ]
     },
     "execution_count": 7,
     "metadata": {},
     "output_type": "execute_result"
    }
   ],
   "source": [
    "sum([False, True, True])"
   ]
  },
  {
   "cell_type": "markdown",
   "metadata": {},
   "source": [
    "# "
   ]
  }
 ],
 "metadata": {
  "kernelspec": {
   "display_name": "Python 3",
   "language": "python",
   "name": "python3"
  },
  "language_info": {
   "codemirror_mode": {
    "name": "ipython",
    "version": 3
   },
   "file_extension": ".py",
   "mimetype": "text/x-python",
   "name": "python",
   "nbconvert_exporter": "python",
   "pygments_lexer": "ipython3",
   "version": "3.9.4"
  }
 },
 "nbformat": 4,
 "nbformat_minor": 4
}
