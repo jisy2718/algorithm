{
 "cells": [
  {
   "cell_type": "markdown",
   "metadata": {},
   "source": [
    "# 1. 고지식한 알고리즘\n",
    "+ 전체 탐색 하는 방법"
   ]
  },
  {
   "cell_type": "markdown",
   "metadata": {},
   "source": [
    "## 1-1. while 문이용\n",
    "+ i, j 둘다 매 루프에서 1씩 더해줄 거고, 문자가 불일치할 때면 뒤로 되돌릴 것"
   ]
  },
  {
   "cell_type": "code",
   "execution_count": null,
   "metadata": {},
   "outputs": [],
   "source": [
    "# t : 전체 텍스트 :len N , p : 찾을 패턴인 텍스트, len M\n",
    "def brutefoce1(t,p):\n",
    "    i = 0 # t의 index\n",
    "    j = 0 # p 의 index\n",
    "    N = len(t)\n",
    "    M = len(p)\n",
    "    while i < N and j < M:\n",
    "        if t[i] != p[j]:\n",
    "            i = i - j\n",
    "            j = -1\n",
    "        i += 1\n",
    "        j += 1\n",
    "    if j == M:\n",
    "        return True\n",
    "    else:\n",
    "        return False\n",
    "    \n",
    "    "
   ]
  },
  {
   "cell_type": "code",
   "execution_count": 25,
   "metadata": {},
   "outputs": [
    {
     "name": "stdout",
     "output_type": "stream",
     "text": [
      "False\n"
     ]
    }
   ],
   "source": [
    "bruteforce2('abcdefgggee','efe')"
   ]
  },
  {
   "cell_type": "markdown",
   "metadata": {},
   "source": [
    "## 1-2 for else문이용"
   ]
  },
  {
   "cell_type": "code",
   "execution_count": 22,
   "metadata": {},
   "outputs": [],
   "source": [
    "def bruteforce2(t,p):\n",
    "\n",
    "    N = len(t)\n",
    "    M = len(p)\n",
    "    j = 0\n",
    "    for i in range(N):\n",
    "        \n",
    "        if j == M: # 이전 루프에서 패턴의 끝가지 일치했음\n",
    "            print(True)\n",
    "            break\n",
    "            \n",
    "        if t[i] == p[j]:\n",
    "            j += 1\n",
    "        else: # 본문과 패턴이 다르다면, 본문의 i+1 index 문자와 패턴의 0번 index 문자와 비교 시작해야함\n",
    "            j = 0\n",
    "            \n",
    "    # break가 안됐다면, 1) 본문의 뒷부분에 패턴이 일치하거나 2) 본문은 패턴을 포함하지 않는 경우이다.         \n",
    "    else:\n",
    "        if j == M:\n",
    "            print(True)\n",
    "        else:\n",
    "            print(False)"
   ]
  },
  {
   "cell_type": "code",
   "execution_count": 24,
   "metadata": {},
   "outputs": [
    {
     "name": "stdout",
     "output_type": "stream",
     "text": [
      "False\n"
     ]
    }
   ],
   "source": [
    "bruteforce2('abcdefgggee','efe')"
   ]
  },
  {
   "cell_type": "markdown",
   "metadata": {},
   "source": [
    "# 2. KMP 알고리즘\n",
    "+ 전체 text의 index i는 계속 늘어나기만 하는 것이 포인트 1\n",
    "+ 패턴 text는 맨 앞의 문자들과 반복되는 패턴의 개수를 세는 것이 포인트 2\n",
    "+ 유전자 분석(반복되는 것이 많음)에서 반복되는 패턴 찾는 용도로 쓰기도 함"
   ]
  },
  {
   "cell_type": "markdown",
   "metadata": {},
   "source": [
    "## 2-1. 미완"
   ]
  },
  {
   "cell_type": "code",
   "execution_count": 1,
   "metadata": {},
   "outputs": [],
   "source": [
    "def KMP(t, p): # t : 전체, p : 패턴\n",
    "    N = len(t)\n",
    "    M = len(p)\n",
    "    lps = [0]*(M+1) # 맨 앞에 -1 넣어줌\n",
    "    \n",
    "    # preprocessing\n",
    "    j = 0 # 일치한 개수 == 비교할 패턴 위치\n",
    "    lps[0] = -1\n",
    "    \n",
    "    for i in range(1,M):\n",
    "        lps[i] = j # 앞에서 일치한 것의 개수 #p[i] 이전에 일치한 개수\n",
    "        if p[i] == p[j]:\n",
    "            j += 1\n",
    "        else:\n",
    "            j = 0\n",
    "    lps[M] = j\n",
    "    \n",
    "    # search\n",
    "    i = 0 # 비교할 텍스트 위치\n",
    "    j = 0 # 비교할 패턴 위치\n",
    "    \n",
    "    while i < N  and j <= M:\n",
    "        if j == -1 or t[i] == p[j]:\n",
    "            i += 1\n",
    "            j += 1\n",
    "        else: # 불일치\n",
    "            j = lps[j] # 다음 패턴 찾기 위해 어디서부터 시작할지\n",
    "        # 아하! i는 계속 고정되어 있으니까, p에서 현재 위치 바로 앞에 있는 것들이, (t 와 일치함)\n",
    "        # p의 맨앞에 있는 것들과 똑같다면, 현재 t에서 i의 위치와 p의 j 앞에 공통되지 않게 나오는 첫 idx부터 시작하면 됨. \n",
    "        # 즉 자신 앞에 있는 똑같은 것의 개수와 같은 값의 idx에서 시작하면 됨\n",
    "    return lps\n",
    "    "
   ]
  },
  {
   "cell_type": "code",
   "execution_count": 2,
   "metadata": {},
   "outputs": [
    {
     "data": {
      "text/plain": [
       "[-1, 0, 1, 2, 0, 1, 2, 3, 0]"
      ]
     },
     "execution_count": 2,
     "metadata": {},
     "output_type": "execute_result"
    }
   ],
   "source": [
    "KMP('ABC','AAABAAAC')"
   ]
  },
  {
   "cell_type": "markdown",
   "metadata": {},
   "source": [
    "# 2-2. 완성"
   ]
  },
  {
   "cell_type": "code",
   "execution_count": null,
   "metadata": {},
   "outputs": [],
   "source": [
    "def kmp2(t,p):  # 전체문자열, 패턴\n",
    "    N = len(t) # 전체 문자열 길이\n",
    "    M = len(p) # 패턴의 길이\n",
    "    \n",
    "    \n",
    "    # 1. lps : longest proper prefix which is also suffix : 접미사이기도 한 가장 긴 적절한 접두사\n",
    "    lps = [0]*(M+1)\n",
    "    lps[0] = -1\n",
    "    \n",
    "    # lps 만들기 : 매칭이 실패했을 때, pattern 이 돌아가야 할 index 계산\n",
    "    j = 0 # 일치한 개수를 저장하는 변수\n",
    "    for i in range(1,M):\n",
    "        # 어느 위치로 돌아가야 하는지 계산 : 앞쪽에 얼마나 많은 패턴이 맞았느냐?\n",
    "        lps[i] = j\n",
    "        # 앞서서 패턴이 일치한다면\n",
    "        if p[i] = p[j]:\n",
    "            j += 1\n",
    "        else:\n",
    "            j = 0\n",
    "    # M 번째 요소가 돌아가야 하는 값\n",
    "    lps[M] = j\n",
    "    \n",
    "    \n",
    "    # 2. matching\n",
    "    i = 0 # t 의 위치\n",
    "    j = 0 # p 의 위치\n",
    "    \n",
    "    while i < N and j < M:\n",
    "        if j == -1 or t[i] = p[j]: # j == -1 은 패턴의 맨 앞 문자로 돌아가는 것을 의미(접미와 접두에 똑같이 연속되는 것이 없을때)\n",
    "            i += 1\n",
    "            j += 1\n",
    "        else:\n",
    "            j = lsp[j]\n",
    "            \n",
    "        if j == M: # 패턴 찾음\n",
    "            print(True)\n",
    "            \n",
    "    "
   ]
  },
  {
   "cell_type": "code",
   "execution_count": 8,
   "metadata": {
    "scrolled": true
   },
   "outputs": [
    {
     "name": "stdout",
     "output_type": "stream",
     "text": [
      " i : 0 and chr(i) : \u0000 \n",
      " i : 1 and chr(i) : \u0001 \n",
      " i : 2 and chr(i) : \u0002 \n",
      " i : 3 and chr(i) : \u0003 \n",
      " i : 4 and chr(i) : \u0004 \n",
      " i : 5 and chr(i) : \u0005 \n",
      " i : 6 and chr(i) : \u0006 \n",
      " i : 7 and chr(i) : \u0007 \n",
      " i : 8 and chr(i) : \b \n",
      " i : 9 and chr(i) : \t \n",
      " i : 10 and chr(i) : \n",
      " \n",
      " i : 11 and chr(i) : \u000b",
      " \n",
      " i : 12 and chr(i) : \f",
      " \n",
      " i : 13 and chr(i) : \r",
      " \n",
      " i : 14 and chr(i) : \u000e \n",
      " i : 15 and chr(i) : \u000f \n",
      " i : 16 and chr(i) : \u0010 \n",
      " i : 17 and chr(i) : \u0011 \n",
      " i : 18 and chr(i) : \u0012 \n",
      " i : 19 and chr(i) : \u0013 \n",
      " i : 20 and chr(i) : \u0014 \n",
      " i : 21 and chr(i) : \u0015 \n",
      " i : 22 and chr(i) : \u0016 \n",
      " i : 23 and chr(i) : \u0017 \n",
      " i : 24 and chr(i) : \u0018 \n",
      " i : 25 and chr(i) : \u0019 \n",
      " i : 26 and chr(i) : \u001a \n",
      " i : 27 and chr(i) : \u001b \n",
      " i : 28 and chr(i) : \u001c",
      " \n",
      " i : 29 and chr(i) : \u001d",
      " \n",
      " i : 30 and chr(i) : \u001e",
      " \n",
      " i : 31 and chr(i) : \u001f \n",
      " i : 32 and chr(i) :   \n",
      " i : 33 and chr(i) : ! \n",
      " i : 34 and chr(i) : \" \n",
      " i : 35 and chr(i) : # \n",
      " i : 36 and chr(i) : $ \n",
      " i : 37 and chr(i) : % \n",
      " i : 38 and chr(i) : & \n",
      " i : 39 and chr(i) : ' \n",
      " i : 40 and chr(i) : ( \n",
      " i : 41 and chr(i) : ) \n",
      " i : 42 and chr(i) : * \n",
      " i : 43 and chr(i) : + \n",
      " i : 44 and chr(i) : , \n",
      " i : 45 and chr(i) : - \n",
      " i : 46 and chr(i) : . \n",
      " i : 47 and chr(i) : / \n",
      " i : 48 and chr(i) : 0 \n",
      " i : 49 and chr(i) : 1 \n"
     ]
    }
   ],
   "source": [
    "for i in range(50):\n",
    "    print(f\" i : {i} and chr(i) : {chr(i)} \")"
   ]
  },
  {
   "cell_type": "code",
   "execution_count": 9,
   "metadata": {},
   "outputs": [
    {
     "data": {
      "text/plain": [
       "'\\x00'"
      ]
     },
     "execution_count": 9,
     "metadata": {},
     "output_type": "execute_result"
    }
   ],
   "source": [
    "chr(0)"
   ]
  },
  {
   "cell_type": "code",
   "execution_count": 12,
   "metadata": {},
   "outputs": [
    {
     "data": {
      "text/plain": [
       "0"
      ]
     },
     "execution_count": 12,
     "metadata": {},
     "output_type": "execute_result"
    }
   ],
   "source": [
    "ord('\\x00')"
   ]
  },
  {
   "cell_type": "markdown",
   "metadata": {},
   "source": [
    "# 3. 보이어-무어 알고리즘\n",
    "+ 패턴 text의 뒤에서부터 비교하는 아이디어\n",
    "+ 경우에 따라 비교 방법이 다름\n",
    "++ [1] 만약 패턴p의 맨마지막 글자 pl와  현재 위치의 전체 텍스트 t의  글자 tn 가 불일치 한다면\n",
    "+++ (1) tn이 p의 어느 위치에 있는지 파악해서, 패턴의 그 위치를 tn의 위치로 옮긴 후, 패턴p의 뒤에서부터 비교 / 만약 tn이 p에 여러개 있다면 , p의 제일 뒤 tn에 t의 tn을 맞춤\n",
    "+++ (2) tn이 p의 어느 위치에 있는지 파악했는데, tn이 p에 없다면, t에서 tn 다음 글자를 패턴 p의 시작점으로 맞춤 -> 그 후 뒤에서부터 비교\n",
    "\n",
    "+ 보이어-무어는 교재에 소개된 것보다 더 복잡한 개념이 포함되어있고, 알고리즘 문제에서 사용한다면 좀 더 간단한 버전인 호스풀(horspool) 알고리즘을 사용합니다. 관심 있으시면 호스풀 알고리즘을 찾아보시면 됩니다."
   ]
  },
  {
   "cell_type": "code",
   "execution_count": 19,
   "metadata": {},
   "outputs": [
    {
     "data": {
      "text/plain": [
       "99"
      ]
     },
     "execution_count": 19,
     "metadata": {},
     "output_type": "execute_result"
    }
   ],
   "source": [
    "ord('ace')"
   ]
  },
  {
   "cell_type": "code",
   "execution_count": 17,
   "metadata": {},
   "outputs": [
    {
     "data": {
      "text/plain": [
       "98"
      ]
     },
     "execution_count": 17,
     "metadata": {},
     "output_type": "execute_result"
    }
   ],
   "source": [
    "ord('b')"
   ]
  },
  {
   "cell_type": "code",
   "execution_count": null,
   "metadata": {},
   "outputs": [],
   "source": []
  }
 ],
 "metadata": {
  "kernelspec": {
   "display_name": "Python 3",
   "language": "python",
   "name": "python3"
  },
  "language_info": {
   "codemirror_mode": {
    "name": "ipython",
    "version": 3
   },
   "file_extension": ".py",
   "mimetype": "text/x-python",
   "name": "python",
   "nbconvert_exporter": "python",
   "pygments_lexer": "ipython3",
   "version": "3.9.4"
  }
 },
 "nbformat": 4,
 "nbformat_minor": 4
}
