{
 "cells": [
  {
   "cell_type": "markdown",
   "metadata": {},
   "source": [
    "# 1. top 변수 이용한 stack 구현"
   ]
  },
  {
   "cell_type": "code",
   "execution_count": 4,
   "metadata": {},
   "outputs": [
    {
     "name": "stdout",
     "output_type": "stream",
     "text": [
      "3\n",
      "2\n",
      "1\n"
     ]
    }
   ],
   "source": [
    "class MyStack:\n",
    "    def __init__(self):\n",
    "        self.stack = [0]*10\n",
    "        self.top = -1\n",
    "    \n",
    "    # item을 마지막 요소 뒤에 추가\n",
    "    def push(self, item):\n",
    "        if self.top >= 10:\n",
    "            print(\"overflow\")\n",
    "            \n",
    "        else:\n",
    "            self.top += 1\n",
    "            self.stack[self.top] = item\n",
    "    \n",
    "        return    \n",
    "    \n",
    "    # 마지막 요소를 반환하고 삭제\n",
    "    def pop(self):\n",
    "        if self.top == -1:\n",
    "            print(\"empty stack\")\n",
    "            \n",
    "        else:\n",
    "            last = self.stack[self.top]\n",
    "            self.top -= 1\n",
    "            return last\n",
    "    \n",
    "    \n",
    "    # top 이 가리키는 요소 반환\n",
    "    def peek(self):\n",
    "        if self.top == -1:\n",
    "            print(\"empty stack\")\n",
    "        else:\n",
    "            return self.stack[self.top]\n",
    "        \n",
    "    \n",
    "    \n",
    "    # stack이 비어있는지 확인\n",
    "    def isEmpty(self):\n",
    "        if self.top == -1:\n",
    "            return True\n",
    "        else:\n",
    "            return False\n",
    "\n",
    "\n",
    "\n",
    "\n",
    "\n",
    "\n",
    "\n",
    "mystack = MyStack()\n",
    "mystack.push(1)\n",
    "mystack.push(2)\n",
    "mystack.push(3)\n",
    "print(mystack.pop())\n",
    "print(mystack.pop())\n",
    "print(mystack.pop())"
   ]
  },
  {
   "cell_type": "markdown",
   "metadata": {},
   "source": [
    "# 2. 괄호짝맞추기 "
   ]
  },
  {
   "cell_type": "code",
   "execution_count": 12,
   "metadata": {},
   "outputs": [],
   "source": [
    "#1. 여는 괄호는 push\n",
    "#2. 닫는 괄호는 pop\n",
    "\n",
    "check_dict = {')':'(', ']':'[', '}': '{'}\n",
    "\n",
    "def check(data : str):\n",
    "    N = len(data)\n",
    "    stack = []\n",
    "    for i in range(N):\n",
    "        if data[i] == '(':\n",
    "            stack.append(data[i])\n",
    "        \n",
    "        elif data[i] == ')':\n",
    "            # 스택이 비어있지 않으면 pop\n",
    "            # 0, 0.0, None, [], {} ... 은 False로 간주\n",
    "            if stack:\n",
    "                if not stack.pop() == check_dict[data[i]]:\n",
    "                    return False\n",
    "            else: # 스택이 비어있음\n",
    "                return False\n",
    "    if stack:\n",
    "        return False\n",
    "    \n",
    "    return True"
   ]
  },
  {
   "cell_type": "code",
   "execution_count": 13,
   "metadata": {},
   "outputs": [
    {
     "data": {
      "text/plain": [
       "True"
      ]
     },
     "execution_count": 13,
     "metadata": {},
     "output_type": "execute_result"
    }
   ],
   "source": [
    "check('()()()()')"
   ]
  },
  {
   "cell_type": "code",
   "execution_count": null,
   "metadata": {},
   "outputs": [],
   "source": []
  },
  {
   "cell_type": "code",
   "execution_count": null,
   "metadata": {},
   "outputs": [],
   "source": []
  },
  {
   "cell_type": "markdown",
   "metadata": {},
   "source": [
    "# 2. 재귀를 이용한 리스트 복사"
   ]
  },
  {
   "cell_type": "code",
   "execution_count": 5,
   "metadata": {},
   "outputs": [
    {
     "name": "stdout",
     "output_type": "stream",
     "text": [
      "[10, 20, 30]\n"
     ]
    }
   ],
   "source": [
    "def f(i,N):\n",
    "    if i == N:\n",
    "        print(B)\n",
    "    else:\n",
    "        B[i] = A[i]\n",
    "        f(i+1,N)\n",
    "        \n",
    "A = [10,20,30]\n",
    "B = [0]*3\n",
    "f(0,3)"
   ]
  },
  {
   "cell_type": "markdown",
   "metadata": {},
   "source": [
    "# 3. 재귀와 DP 속도비교"
   ]
  },
  {
   "cell_type": "code",
   "execution_count": null,
   "metadata": {},
   "outputs": [],
   "source": [
    "def fibo(n):\n",
    "    if n < 2 :\n",
    "        return n\n",
    "    else:\n",
    "        return fibo(n-1)+fibo(n-2)\n",
    "\n",
    "m = [0]*(100+1)\n",
    "m[1] = 1\n",
    "def fibo_m(n):\n",
    "    for i in range(2,n):\n",
    "        m[i] = m[i-1] + m[i-2]"
   ]
  },
  {
   "cell_type": "markdown",
   "metadata": {},
   "source": []
  },
  {
   "cell_type": "markdown",
   "metadata": {},
   "source": [
    "# 4. DFS 구현"
   ]
  },
  {
   "cell_type": "markdown",
   "metadata": {},
   "source": [
    "## 4-1. 그래프의 인접행렬 만들기"
   ]
  },
  {
   "cell_type": "code",
   "execution_count": 15,
   "metadata": {},
   "outputs": [
    {
     "name": "stdout",
     "output_type": "stream",
     "text": [
      "1 2 1 3 2 4 2 5 4 6 5 6 6 7 3 7\n",
      "[[0, 0, 0, 0, 0, 0, 0, 0], [0, 0, 1, 1, 0, 0, 0, 0], [0, 1, 0, 0, 1, 1, 0, 0], [0, 1, 0, 0, 0, 0, 0, 1], [0, 0, 1, 0, 0, 0, 1, 0], [0, 0, 1, 0, 0, 0, 1, 0], [0, 0, 0, 0, 1, 1, 0, 1], [0, 0, 0, 1, 0, 0, 1, 0]]\n"
     ]
    }
   ],
   "source": [
    "# edge 정보 1 2 1 3 2 4 2 5 4 6 5 6 6 7 3 7\n",
    "N = 7\n",
    "E = 8\n",
    "edges = list(map(int,input().split()))\n",
    "adj = [[0]*(N+1) for _ in range(N+1)]\n",
    "\n",
    "for i in range(0,E*2,2):\n",
    "    a,b = edges[i], edges[i+1]\n",
    "    adj[a][b] = 1\n",
    "    adj[b][a] = 1\n",
    "print(adj)"
   ]
  },
  {
   "cell_type": "markdown",
   "metadata": {},
   "source": [
    "## 4-2 DFS 구현"
   ]
  },
  {
   "cell_type": "code",
   "execution_count": 20,
   "metadata": {},
   "outputs": [
    {
     "name": "stdout",
     "output_type": "stream",
     "text": [
      "[1, 2, 4, 6, 5, 7, 3]\n"
     ]
    }
   ],
   "source": [
    "# 1. 노드 방문\n",
    "# 1-1. 방문체크 : 방문했던 노드 재방문 X\n",
    "# 1-2. 노드 번호를 STACK에 넣기 (stack push)\n",
    "\n",
    "# 2. 현재 노드(stack top) 에서 갈 수 있는 경로 탐색\n",
    "# 2-1. 경로 발견 즉시, 탐색 종료하고, 해당 경로로 이동\n",
    "# 2-2 만약 갈 수 있는 경로 없으면, 이전 경로로 되돌아 감(stack pop)\n",
    "\n",
    "# 3. 위의 1,2를 stack이 빌 때까지 계속 반복\n",
    "\n",
    "stack = []\n",
    "visited = [False]*(N+1)\n",
    "start = 1\n",
    "stack.append(start) # 시작점 1번 노드 방문\n",
    "visited[start] = True\n",
    "path = []\n",
    "path.append(start)\n",
    "\n",
    "while stack:\n",
    "    current = stack[-1] # top 이 현재 노드\n",
    "    for i in range(1,N+1):\n",
    "        if adj[current][i] == 1 and visited[i] == False:\n",
    "            visited[i] = True # 방문 표시\n",
    "            stack.append(i) # 경로 추가\n",
    "            path.append(i)\n",
    "            break\n",
    "\n",
    "    else: # break에 한 번도 안걸렸다는 것은 current에서 갈 수 있는 경로가 없다는 것\n",
    "        stack.pop() # 이전 경로로 되돌아 가기\n",
    "print(path)\n"
   ]
  },
  {
   "cell_type": "code",
   "execution_count": null,
   "metadata": {},
   "outputs": [],
   "source": []
  }
 ],
 "metadata": {
  "kernelspec": {
   "display_name": "Python 3",
   "language": "python",
   "name": "python3"
  },
  "language_info": {
   "codemirror_mode": {
    "name": "ipython",
    "version": 3
   },
   "file_extension": ".py",
   "mimetype": "text/x-python",
   "name": "python",
   "nbconvert_exporter": "python",
   "pygments_lexer": "ipython3",
   "version": "3.9.4"
  }
 },
 "nbformat": 4,
 "nbformat_minor": 4
}
