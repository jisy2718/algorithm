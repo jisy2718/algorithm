{
 "cells": [
  {
   "cell_type": "markdown",
   "metadata": {},
   "source": [
    "# practice1.\n",
    "## 수식문자열을 읽어서 피연산자는 바로 출력하고, 연산자는 스택에 push하여 수식이 끝나면 스택의 남아있는 연산자를 모두 pop하여 출력하시오. 연산자는 사칙 연산만 사용하시오.\n"
   ]
  },
  {
   "cell_type": "code",
   "execution_count": 2,
   "metadata": {},
   "outputs": [],
   "source": [
    "def post(expression:str):\n",
    "    stack = []\n",
    "    operator = set(['+','-','/','*'])\n",
    "    for element in expression:\n",
    "        # 만약 연산자라면 stack에 넣기\n",
    "        if element in operator:\n",
    "            stack.append(element)\n",
    "            \n",
    "        # 숫자라면 바로출력하기\n",
    "        else:\n",
    "            print(element, end=' ')\n",
    "    \n",
    "    oper_len = len(stack)\n",
    "    for i in range(oper_len-1,-1,-1):\n",
    "        print(stack[i], end = ' ')"
   ]
  },
  {
   "cell_type": "code",
   "execution_count": 3,
   "metadata": {},
   "outputs": [
    {
     "name": "stdout",
     "output_type": "stream",
     "text": [
      "2 3 4 5 / * + "
     ]
    }
   ],
   "source": [
    "post('2+3*4/5')"
   ]
  },
  {
   "cell_type": "markdown",
   "metadata": {},
   "source": [
    "# 1. 후위표기법으로 변환하기"
   ]
  },
  {
   "cell_type": "markdown",
   "metadata": {},
   "source": [
    "## 1-1 내 풀이"
   ]
  },
  {
   "cell_type": "code",
   "execution_count": 18,
   "metadata": {},
   "outputs": [],
   "source": [
    "def in_to_post(expression:str):\n",
    "    stack = []\n",
    "    top = -1\n",
    "    isp = {'(' : 0, '+':1, '-':1, '*':2, '/':2}\n",
    "    icp = {'(' : 3, '+':1, '-':1, '*':2, '/':2}\n",
    "    \n",
    "    for element in expression:\n",
    "        # 1. 연산자 경우 or 여는 괄호인 경우\n",
    "        if element in '+-*/(':\n",
    "            # 스택이 비었다면 그냥 추가\n",
    "            if not stack:\n",
    "                stack.append(element)\n",
    "                top += 1\n",
    "                \n",
    "            # 스택이 차있다면 isp, icp로 비교\n",
    "            else:\n",
    "                # 밖의 것이 더 큰 경우\n",
    "                if icp[element] > isp[stack[top]]:\n",
    "                    stack.append(element)\n",
    "                    top += 1\n",
    "                # 밖의 것이 더 크지 않은 경우\n",
    "                else:\n",
    "                    # stack이 비거나 자신보다 낮은 연산자가 나올 때까지 pop\n",
    "                    while True:\n",
    "                        if not stack:\n",
    "                            stack.append(element)\n",
    "                            top += 1\n",
    "                            break\n",
    "                        else: # 자신보다 같거나 큰 것 만나면 계속 pop 해서 출력\n",
    "                            if icp[element] <= isp[stack[-1]]:\n",
    "                                print(stack.pop(), end= ' ')\n",
    "                                top -= 1\n",
    "                            else: # 자신보다 낮은 것 만나서 stack에 추가되면 끝\n",
    "                                stack.append(element)\n",
    "                                top += 1\n",
    "                                break\n",
    "        # 2. 닫는 괄호의 경우\n",
    "        elif element == ')':\n",
    "            while stack[-1] != '(':\n",
    "                print(stack.pop(),end=' ')\n",
    "                top -= 1\n",
    "            stack.pop()\n",
    "            top -= 1\n",
    "            \n",
    "            \n",
    "            \n",
    "        # 3. 숫자 경우\n",
    "        else:\n",
    "            print(element, end=' ')\n",
    "    \n",
    "    while stack:\n",
    "        print(stack.pop(), end= ' ')\n",
    "        top -= 1\n",
    "    \n",
    "#     print()\n",
    "#     print(top)\n",
    "            \n",
    "        \n",
    "    \n",
    "    # 1. 연산자 경우 or 여는 괄호인 경우\n",
    "    # 1-1 ) isp ,icp로 나눠서 비교\n",
    "    # element와  instack의 최상단요소의 우선순위 비교\n",
    "        \n",
    "    \n",
    "    # 1-2 ) stack에 push 하는 경우\n",
    "    # 자신보다 낮은 연산자가 있을 때\n",
    "\n",
    "    \n",
    "    # 1-3 ) stack에서 pop 하는 경우\n",
    "    # 자신보다 낮지 않은 연산자가 있을 때\n",
    "       \n",
    "    \n",
    "    # 2. 닫는 괄호의 경우\n",
    "    #  top에 ( 가 나올때까지 stack에서 pop하기 / ( 나오면 pop하고 출력은 x\n",
    "    \n",
    "    # 3. 숫자경우\n",
    "    # 그냥 출력\n",
    "    \n",
    "\n",
    "    # 스택에 남아있는 것들 모두 pop 하고 출력"
   ]
  },
  {
   "cell_type": "code",
   "execution_count": 19,
   "metadata": {},
   "outputs": [
    {
     "name": "stdout",
     "output_type": "stream",
     "text": [
      "6 5 2 8 - * 2 / + "
     ]
    }
   ],
   "source": [
    "in_to_post('6+5*(2-8)/2')"
   ]
  },
  {
   "cell_type": "markdown",
   "metadata": {},
   "source": [
    "## 1-2 교수님 풀이"
   ]
  },
  {
   "cell_type": "code",
   "execution_count": 14,
   "metadata": {},
   "outputs": [],
   "source": [
    "def in_to_post2(expression:str):\n",
    "    stack = []\n",
    "    isp = {'(' : 0, '+' : 1, '-' : 1, '*' : 2, '/' : 2}\n",
    "    icp = {'(' : 3, '+' : 1, '-' : 1, '*' : 2, '/' : 2}\n",
    "    \n",
    "    for i in range(len(expression)):\n",
    "        # 1. 피연산자는 그냥 출력\n",
    "        if expression[i] in '0123456789':\n",
    "            print(expression[i], end = '')\n",
    "        # 2. 연산자는 우선순위에 따라서 stack에 push를 하거나\n",
    "        # pop 하고 push\n",
    "        elif expression[i] in '*/+-(':\n",
    "            if not stack: # 스택이 비어있으면\n",
    "                stack.append(expression[i])\n",
    "            else: # 스택이 비어있지 않으면 isp icp 비교\n",
    "                # 내가 크면 그냥 push\n",
    "                if isp[stack[-1]] < icp[expression[i]]:\n",
    "                    stack.append(expression[i])\n",
    "                    \n",
    "                else:\n",
    "                    while stack and isp[stack[-1]] >= icp[expression[i]]:\n",
    "                        print(stack.pop(), end='')\n",
    "                    \n",
    "                    stack.append(expression[i])\n",
    "                    \n",
    "                \n",
    "        # 3. 닫는 괄호가 나오면 여는 괄호가 나올 때까지 pop\n",
    "        else:\n",
    "            while stack[-1]!='(':\n",
    "                print(stack.pop(),end='')\n",
    "            stack.pop()\n",
    "    \n",
    "    # 남아있는 연산자 모두 출력\n",
    "    while stack:\n",
    "        print(stack.pop(),end='')\n",
    "    print()\n",
    "        "
   ]
  },
  {
   "cell_type": "code",
   "execution_count": 15,
   "metadata": {},
   "outputs": [
    {
     "name": "stdout",
     "output_type": "stream",
     "text": [
      "6528-*2/+\n"
     ]
    }
   ],
   "source": [
    "in_to_post2('6+5*(2-8)/2')"
   ]
  },
  {
   "cell_type": "markdown",
   "metadata": {},
   "source": [
    "# 2. 부분집합"
   ]
  },
  {
   "cell_type": "markdown",
   "metadata": {},
   "source": [
    "## 2-0 기본형 : 부분집합 비트연산\n",
    "+ 아래의 기본형 이해하는 것이 중요"
   ]
  },
  {
   "cell_type": "code",
   "execution_count": 20,
   "metadata": {},
   "outputs": [
    {
     "name": "stdout",
     "output_type": "stream",
     "text": [
      "[1, 1, 1]\n",
      "[1, 1, 0]\n",
      "[1, 0, 1]\n",
      "[1, 0, 0]\n",
      "[0, 1, 1]\n",
      "[0, 1, 0]\n",
      "[0, 0, 1]\n",
      "[0, 0, 0]\n"
     ]
    }
   ],
   "source": [
    "# 기본형 (bit 연산 하기)\n",
    "def f(i,N): # i : 부분집합에 포함될지 결정할 원소의 인덱스, N : 전체 원소 개수\n",
    "    if i == N:  # 한 개의 부분집합 완성\n",
    "        print(bit)\n",
    "        \n",
    "    else:\n",
    "        # 갈림길이 2번 나오면 2개 적어야\n",
    "        bit[i] = 1\n",
    "        f(i+1,N) # i + 1 로 이동\n",
    "        bit[i] = 0 # bit[i] = 1 인 경우는 다 봤으니까, bit[i] = 0인 경우 가지로 탐색\n",
    "        f(i+1,N) #i +1 로 이동\n",
    "    return\n",
    "\n",
    "a = [1, 2, 3]\n",
    "bit = [0, 0, 0]\n",
    "\n",
    "f(0,3)\n"
   ]
  },
  {
   "cell_type": "markdown",
   "metadata": {},
   "source": [
    "## 2-1 확장형 1 : 부분집합 구하기"
   ]
  },
  {
   "cell_type": "code",
   "execution_count": 23,
   "metadata": {},
   "outputs": [
    {
     "name": "stdout",
     "output_type": "stream",
     "text": [
      "[1, 1, 1] 1 2 3 \n",
      "[1, 1, 0] 1 2 \n",
      "[1, 0, 1] 1 3 \n",
      "[1, 0, 0] 1 \n",
      "[0, 1, 1] 2 3 \n",
      "[0, 1, 0] 2 \n",
      "[0, 0, 1] 3 \n",
      "[0, 0, 0] \n"
     ]
    }
   ],
   "source": [
    "# 확장형 1 (실제 부분집합 구하기)\n",
    "def f(i,N): # i : 부분집합에 포함될지 결정할 원소의 인덱스, N : 전체 원소 개수\n",
    "    if i == N:  # 한 개의 부분집합 완성\n",
    "        print(bit, end= ' ')\n",
    "        for j in range(N):\n",
    "            if bit[j]:\n",
    "                print(a[j],end= ' ')\n",
    "        print()\n",
    "        \n",
    "    else:\n",
    "        # 갈림길이 2번 나오면 2개 적어야\n",
    "        bit[i] = 1\n",
    "        f(i+1,N) # i + 1 로 이동\n",
    "        bit[i] = 0 # bit[i] = 1 인 경우는 다 봤으니까, bit[i] = 0인 경우 가지로 탐색\n",
    "        f(i+1,N) #i +1 로 이동\n",
    "    return\n",
    "\n",
    "a = [1, 2, 3]\n",
    "bit = [0, 0, 0]\n",
    "\n",
    "f(0,3)"
   ]
  },
  {
   "cell_type": "markdown",
   "metadata": {},
   "source": [
    "## 2-2 확장형 2 : 부분집합의 합 구하기"
   ]
  },
  {
   "cell_type": "code",
   "execution_count": 45,
   "metadata": {},
   "outputs": [
    {
     "name": "stdout",
     "output_type": "stream",
     "text": [
      "1 2 3 4 5 6 7 8 9 10 \n",
      "cnt = 2047\n"
     ]
    }
   ],
   "source": [
    "# 확장형 2 (부분집합의 합 구하기)\n",
    "def f2(i,N, t): # i : 부분집합에 포함될지 결정할 원소의 인덱스, N : 전체 원소 개수\n",
    "# t : 목표 합\n",
    "    \n",
    "    # 호출횟수 확장형2 와 확장형 3 비교\n",
    "    global cnt\n",
    "    cnt += 1 \n",
    "    if i == N:  # 한 개의 부분집합 완성\n",
    "#         print(bit, end= ' ')\n",
    "        s = 0\n",
    "        for j in range(N):\n",
    "            if bit[j]:\n",
    "                s += a[j]\n",
    "        \n",
    "#                 print(a[j],end= ' ')\n",
    "#         print()\n",
    "        \n",
    "        # 만약 내가 찾는 합이라면\n",
    "        if s == t:\n",
    "            for j in range(N):\n",
    "                if bit[j]:\n",
    "                    print(a[j],end= ' ')\n",
    "            print()\n",
    "                    \n",
    "    else:\n",
    "        # 갈림길이 2번 나오면 2개 적어야\n",
    "        bit[i] = 1\n",
    "        f2(i+1,N,t) # i + 1 로 이동\n",
    "        bit[i] = 0 # bit[i] = 1 인 경우는 다 봤으니까, bit[i] = 0인 경우 가지로 탐색\n",
    "        f2(i+1,N,t) #i +1 로 이동\n",
    "    return\n",
    "\n",
    "\n",
    "\n",
    "N = 10\n",
    "a = [x for x in range(1,N+1)]\n",
    "bit = [0]*N\n",
    "cnt = 0\n",
    "f2(i = 0,N = 10, t = 55)\n",
    "print(f\"cnt = {cnt}\")"
   ]
  },
  {
   "cell_type": "markdown",
   "metadata": {},
   "source": [
    "## 2-3 확장형 3 : 부분집합의 합 구하기 + 조건활용"
   ]
  },
  {
   "cell_type": "code",
   "execution_count": 46,
   "metadata": {},
   "outputs": [
    {
     "name": "stdout",
     "output_type": "stream",
     "text": [
      "1 2 3 4 5 6 7 8 9 10 \n",
      "cnt = 2047\n"
     ]
    }
   ],
   "source": [
    "# 확장형 3 (부분집합의 합 + 조건활용)\n",
    "def f3(i,N, s, t): # i : 부분집합에 포함될지 결정할 원소의 인덱스, N : 전체 원소 개수\n",
    "# s : 이전까지 고려된 원소의 합,  t : 목표 합\n",
    "    \n",
    "    # 호출횟수 확장형2 와 확장형 3 비교\n",
    "    global cnt\n",
    "    cnt += 1\n",
    "    # 1. 목표도달\n",
    "    if s == t:\n",
    "        for j in range(N):\n",
    "            if bit[j]:\n",
    "                print(a[j], end=' ')\n",
    "        print()\n",
    "    \n",
    "    \n",
    "    # 2.  더이상 고려할 원소가 없으면\n",
    "    elif i == N:  # 한 개의 부분집합 완성\n",
    "        return  # 되돌아가서 다른 것 고려해봐\n",
    "    \n",
    "    # 3. 고려한 원소의 합 s 가 이미 t를 넘은 경우도 이전으로 돌아가기\n",
    "    elif s > t:\n",
    "        return\n",
    "    \n",
    "                    \n",
    "    else:\n",
    "        # 갈림길이 2번 나오면 2개 적어야\n",
    "        bit[i] = 1\n",
    "        f3(i+1,N, s+a[i], t) # i + 1 로 이동\n",
    "        bit[i] = 0 # bit[i] = 1 인 경우는 다 봤으니까, bit[i] = 0인 경우 가지로 탐색\n",
    "        f3(i+1,N, s, t) #i +1 로 이동\n",
    "    return\n",
    "\n",
    "\n",
    "\n",
    "N = 10\n",
    "a = [x for x in range(1,N+1)]\n",
    "bit = [0]*N\n",
    "t = 10 # 합이 t가 되는 경우가 있는가?\n",
    "cnt = 0\n",
    "f3(i = 0,N = 10, s = 0 , t = 55)\n",
    "\n",
    "print(f\"cnt = {cnt}\")"
   ]
  },
  {
   "cell_type": "markdown",
   "metadata": {},
   "source": [
    "## 확장형2, 3 간 함수호출횟수 비교\n",
    "+ 값을 찾을 수 있는 경우, 조건을 추가한 확장형 3 이 훨씬 덜 호출한다"
   ]
  },
  {
   "cell_type": "code",
   "execution_count": 48,
   "metadata": {},
   "outputs": [
    {
     "name": "stdout",
     "output_type": "stream",
     "text": [
      "1 2 3 4 \n",
      "1 2 7 \n",
      "1 3 6 \n",
      "1 4 5 \n",
      "1 9 \n",
      "2 3 5 \n",
      "2 8 \n",
      "3 7 \n",
      "4 6 \n",
      "10 \n",
      "cnt = 2047\n",
      "1 2 3 4 \n",
      "1 2 7 \n",
      "1 3 6 \n",
      "1 4 5 \n",
      "1 9 \n",
      "2 3 5 \n",
      "2 8 \n",
      "3 7 \n",
      "4 6 \n",
      "10 \n",
      "cnt = 349\n"
     ]
    }
   ],
   "source": [
    "N = 10\n",
    "a = [x for x in range(1,N+1)]\n",
    "bit = [0]*N\n",
    "t = 10\n",
    "\n",
    "cnt = 0\n",
    "f2(i = 0, N = 10, t = t)\n",
    "print(f\"cnt = {cnt}\")\n",
    "\n",
    "cnt = 0\n",
    "f3(i = 0,N = 10, s = 0 , t = t)\n",
    "\n",
    "print(f\"cnt = {cnt}\")"
   ]
  },
  {
   "cell_type": "markdown",
   "metadata": {},
   "source": [
    "## 2 - 4 확장형 4 : 부분집합의 합 구하기 + 조건1 + 조건2 이용"
   ]
  },
  {
   "cell_type": "code",
   "execution_count": 52,
   "metadata": {},
   "outputs": [
    {
     "name": "stdout",
     "output_type": "stream",
     "text": [
      "1 2 3 4 5 6 7 8 9 10 \n",
      "cnt = 21\n"
     ]
    }
   ],
   "source": [
    "# 확장형 4 (부분집합의 합 + 조건활용)\n",
    "def f4(i,N, s, t, rs): # i : 부분집합에 포함될지 결정할 원소의 인덱스, N : 전체 원소 개수\n",
    "# s : 이전까지 고려된 원소의 합,  t : 목표 합\n",
    "    \n",
    "    # 호출횟수 확장형2 와 확장형 3 비교\n",
    "    global cnt\n",
    "    cnt += 1\n",
    "    # 1. 목표도달\n",
    "    if s == t:\n",
    "        for j in range(N):\n",
    "            if bit[j]:\n",
    "                print(a[j], end=' ')\n",
    "        print()\n",
    "    \n",
    "    \n",
    "    # 2.  더이상 고려할 원소가 없으면\n",
    "    elif i == N:  # 한 개의 부분집합 완성\n",
    "        return  # 되돌아가서 다른 것 고려해봐\n",
    "    \n",
    "    # 3. 고려한 원소의 합 s 가 이미 t를 넘은 경우도 이전으로 돌아가기\n",
    "    elif s > t:\n",
    "        return\n",
    "    \n",
    "    # 4. rs 고려\n",
    "    elif s + rs < t:\n",
    "        return\n",
    "    \n",
    "                    \n",
    "    else:\n",
    "        # 갈림길이 2번 나오면 2개 적어야\n",
    "        bit[i] = 1\n",
    "        f4(i+1,N, s+a[i], t, rs-a[i]) # i + 1 로 이동\n",
    "        bit[i] = 0 # bit[i] = 1 인 경우는 다 봤으니까, bit[i] = 0인 경우 가지로 탐색\n",
    "        f4(i+1,N, s, t, rs-a[i]) #i +1 로 이동\n",
    "    return\n",
    "\n",
    "\n",
    "\n",
    "N = 10\n",
    "a = [x for x in range(1,N+1)]\n",
    "bit = [0]*N\n",
    "t = 10 # 합이 t가 되는 경우가 있는가?\n",
    "cnt = 0\n",
    "f4(i = 0,N = 10, s = 0 , t = 55, rs = sum(a))\n",
    "\n",
    "print(f\"cnt = {cnt}\")"
   ]
  },
  {
   "cell_type": "markdown",
   "metadata": {},
   "source": [
    "## 확장형 3 과 확장형 4 의 비교\n",
    "+ target 의 값에 따라, 호출횟수 줄어드는 정도는 다르다"
   ]
  },
  {
   "cell_type": "code",
   "execution_count": 55,
   "metadata": {},
   "outputs": [
    {
     "name": "stdout",
     "output_type": "stream",
     "text": [
      "1 2 3 4 5 6 9 10 \n",
      "1 2 3 4 5 7 8 10 \n",
      "1 2 3 4 6 7 8 9 \n",
      "1 2 3 7 8 9 10 \n",
      "1 2 4 6 8 9 10 \n",
      "1 2 5 6 7 9 10 \n",
      "1 3 4 5 8 9 10 \n",
      "1 3 4 6 7 9 10 \n",
      "1 3 5 6 7 8 10 \n",
      "1 4 5 6 7 8 9 \n",
      "1 5 7 8 9 10 \n",
      "2 3 4 5 7 9 10 \n",
      "2 3 4 6 7 8 10 \n",
      "2 3 5 6 7 8 9 \n",
      "2 4 7 8 9 10 \n",
      "2 5 6 8 9 10 \n",
      "3 4 6 8 9 10 \n",
      "3 5 6 7 9 10 \n",
      "4 5 6 7 8 10 \n",
      "6 7 8 9 10 \n",
      "cnt = 2027\n",
      "1 2 3 4 5 6 9 10 \n",
      "1 2 3 4 5 7 8 10 \n",
      "1 2 3 4 6 7 8 9 \n",
      "1 2 3 7 8 9 10 \n",
      "1 2 4 6 8 9 10 \n",
      "1 2 5 6 7 9 10 \n",
      "1 3 4 5 8 9 10 \n",
      "1 3 4 6 7 9 10 \n",
      "1 3 5 6 7 8 10 \n",
      "1 4 5 6 7 8 9 \n",
      "1 5 7 8 9 10 \n",
      "2 3 4 5 7 9 10 \n",
      "2 3 4 6 7 8 10 \n",
      "2 3 5 6 7 8 9 \n",
      "2 4 7 8 9 10 \n",
      "2 5 6 8 9 10 \n",
      "3 4 6 8 9 10 \n",
      "3 5 6 7 9 10 \n",
      "4 5 6 7 8 10 \n",
      "6 7 8 9 10 \n",
      "cnt = 775\n"
     ]
    }
   ],
   "source": [
    "N = 10\n",
    "a = [x for x in range(1,N+1)]\n",
    "bit = [0]*N\n",
    "t = 40\n",
    "\n",
    "cnt = 0\n",
    "f3(i = 0, N = 10, s= 0 , t = t)\n",
    "print(f\"cnt = {cnt}\")\n",
    "\n",
    "cnt = 0\n",
    "f4(i = 0,N = 10, s = 0 , t = t, rs = sum(a))\n",
    "\n",
    "print(f\"cnt = {cnt}\")"
   ]
  },
  {
   "cell_type": "markdown",
   "metadata": {},
   "source": [
    "\n",
    "\n",
    "\n",
    "\n",
    "\n",
    "\n",
    "\n",
    "\n",
    "\n",
    "\n",
    "\n",
    "\n",
    "\n",
    "\n",
    "\n",
    "\n",
    "\n",
    "\n",
    "\n",
    "\n",
    "\n",
    "\n",
    "\n",
    "\n",
    "\n",
    "\n"
   ]
  },
  {
   "cell_type": "markdown",
   "metadata": {},
   "source": [
    "\n",
    "\n",
    "\n",
    "\n",
    "\n",
    "\n",
    "\n",
    "\n",
    "\n",
    "\n",
    "\n",
    "\n",
    "\n",
    "\n",
    "\n",
    "\n",
    "\n"
   ]
  },
  {
   "cell_type": "markdown",
   "metadata": {},
   "source": [
    "# 3. 순열"
   ]
  },
  {
   "cell_type": "code",
   "execution_count": 59,
   "metadata": {},
   "outputs": [
    {
     "name": "stdout",
     "output_type": "stream",
     "text": [
      "[1, 2, 3, 4, 5]\n",
      "[1, 2, 3, 5, 4]\n",
      "[1, 2, 4, 3, 5]\n",
      "[1, 2, 4, 5, 3]\n",
      "[1, 2, 5, 4, 3]\n",
      "[1, 2, 5, 3, 4]\n",
      "[1, 3, 2, 4, 5]\n",
      "[1, 3, 2, 5, 4]\n",
      "[1, 3, 4, 2, 5]\n",
      "[1, 3, 4, 5, 2]\n",
      "[1, 3, 5, 4, 2]\n",
      "[1, 3, 5, 2, 4]\n",
      "[1, 4, 3, 2, 5]\n",
      "[1, 4, 3, 5, 2]\n",
      "[1, 4, 2, 3, 5]\n",
      "[1, 4, 2, 5, 3]\n",
      "[1, 4, 5, 2, 3]\n",
      "[1, 4, 5, 3, 2]\n",
      "[1, 5, 3, 4, 2]\n",
      "[1, 5, 3, 2, 4]\n",
      "[1, 5, 4, 3, 2]\n",
      "[1, 5, 4, 2, 3]\n",
      "[1, 5, 2, 4, 3]\n",
      "[1, 5, 2, 3, 4]\n",
      "[2, 1, 3, 4, 5]\n",
      "[2, 1, 3, 5, 4]\n",
      "[2, 1, 4, 3, 5]\n",
      "[2, 1, 4, 5, 3]\n",
      "[2, 1, 5, 4, 3]\n",
      "[2, 1, 5, 3, 4]\n",
      "[2, 3, 1, 4, 5]\n",
      "[2, 3, 1, 5, 4]\n",
      "[2, 3, 4, 1, 5]\n",
      "[2, 3, 4, 5, 1]\n",
      "[2, 3, 5, 4, 1]\n",
      "[2, 3, 5, 1, 4]\n",
      "[2, 4, 3, 1, 5]\n",
      "[2, 4, 3, 5, 1]\n",
      "[2, 4, 1, 3, 5]\n",
      "[2, 4, 1, 5, 3]\n",
      "[2, 4, 5, 1, 3]\n",
      "[2, 4, 5, 3, 1]\n",
      "[2, 5, 3, 4, 1]\n",
      "[2, 5, 3, 1, 4]\n",
      "[2, 5, 4, 3, 1]\n",
      "[2, 5, 4, 1, 3]\n",
      "[2, 5, 1, 4, 3]\n",
      "[2, 5, 1, 3, 4]\n",
      "[3, 2, 1, 4, 5]\n",
      "[3, 2, 1, 5, 4]\n",
      "[3, 2, 4, 1, 5]\n",
      "[3, 2, 4, 5, 1]\n",
      "[3, 2, 5, 4, 1]\n",
      "[3, 2, 5, 1, 4]\n",
      "[3, 1, 2, 4, 5]\n",
      "[3, 1, 2, 5, 4]\n",
      "[3, 1, 4, 2, 5]\n",
      "[3, 1, 4, 5, 2]\n",
      "[3, 1, 5, 4, 2]\n",
      "[3, 1, 5, 2, 4]\n",
      "[3, 4, 1, 2, 5]\n",
      "[3, 4, 1, 5, 2]\n",
      "[3, 4, 2, 1, 5]\n",
      "[3, 4, 2, 5, 1]\n",
      "[3, 4, 5, 2, 1]\n",
      "[3, 4, 5, 1, 2]\n",
      "[3, 5, 1, 4, 2]\n",
      "[3, 5, 1, 2, 4]\n",
      "[3, 5, 4, 1, 2]\n",
      "[3, 5, 4, 2, 1]\n",
      "[3, 5, 2, 4, 1]\n",
      "[3, 5, 2, 1, 4]\n",
      "[4, 2, 3, 1, 5]\n",
      "[4, 2, 3, 5, 1]\n",
      "[4, 2, 1, 3, 5]\n",
      "[4, 2, 1, 5, 3]\n",
      "[4, 2, 5, 1, 3]\n",
      "[4, 2, 5, 3, 1]\n",
      "[4, 3, 2, 1, 5]\n",
      "[4, 3, 2, 5, 1]\n",
      "[4, 3, 1, 2, 5]\n",
      "[4, 3, 1, 5, 2]\n",
      "[4, 3, 5, 1, 2]\n",
      "[4, 3, 5, 2, 1]\n",
      "[4, 1, 3, 2, 5]\n",
      "[4, 1, 3, 5, 2]\n",
      "[4, 1, 2, 3, 5]\n",
      "[4, 1, 2, 5, 3]\n",
      "[4, 1, 5, 2, 3]\n",
      "[4, 1, 5, 3, 2]\n",
      "[4, 5, 3, 1, 2]\n",
      "[4, 5, 3, 2, 1]\n",
      "[4, 5, 1, 3, 2]\n",
      "[4, 5, 1, 2, 3]\n",
      "[4, 5, 2, 1, 3]\n",
      "[4, 5, 2, 3, 1]\n",
      "[5, 2, 3, 4, 1]\n",
      "[5, 2, 3, 1, 4]\n",
      "[5, 2, 4, 3, 1]\n",
      "[5, 2, 4, 1, 3]\n",
      "[5, 2, 1, 4, 3]\n",
      "[5, 2, 1, 3, 4]\n",
      "[5, 3, 2, 4, 1]\n",
      "[5, 3, 2, 1, 4]\n",
      "[5, 3, 4, 2, 1]\n",
      "[5, 3, 4, 1, 2]\n",
      "[5, 3, 1, 4, 2]\n",
      "[5, 3, 1, 2, 4]\n",
      "[5, 4, 3, 2, 1]\n",
      "[5, 4, 3, 1, 2]\n",
      "[5, 4, 2, 3, 1]\n",
      "[5, 4, 2, 1, 3]\n",
      "[5, 4, 1, 2, 3]\n",
      "[5, 4, 1, 3, 2]\n",
      "[5, 1, 3, 4, 2]\n",
      "[5, 1, 3, 2, 4]\n",
      "[5, 1, 4, 3, 2]\n",
      "[5, 1, 4, 2, 3]\n",
      "[5, 1, 2, 4, 3]\n",
      "[5, 1, 2, 3, 4]\n"
     ]
    }
   ],
   "source": [
    "def fp(i,N):\n",
    "    if i == N:\n",
    "        print(p)  # 만든 순열을 활용해야\n",
    "    else:\n",
    "        for j in range(i,N): # 원본을 바꿔야함 / i 부터 해야 중복 안생김\n",
    "            p[i], p[j] = p[j],p[i]\n",
    "            fp(i+1,N)\n",
    "            p[i], p[j] = p[j],p[i]\n",
    "            \n",
    "    return\n",
    "\n",
    "\n",
    "N = 5\n",
    "p = [x for x in range(1, N+1)]\n",
    "\n",
    "fp(0,N)\n",
    "            "
   ]
  },
  {
   "cell_type": "code",
   "execution_count": null,
   "metadata": {},
   "outputs": [],
   "source": []
  },
  {
   "cell_type": "code",
   "execution_count": null,
   "metadata": {},
   "outputs": [],
   "source": []
  },
  {
   "cell_type": "code",
   "execution_count": null,
   "metadata": {},
   "outputs": [],
   "source": []
  },
  {
   "cell_type": "code",
   "execution_count": null,
   "metadata": {},
   "outputs": [],
   "source": []
  },
  {
   "cell_type": "code",
   "execution_count": null,
   "metadata": {},
   "outputs": [],
   "source": []
  },
  {
   "cell_type": "code",
   "execution_count": null,
   "metadata": {},
   "outputs": [],
   "source": []
  },
  {
   "cell_type": "code",
   "execution_count": null,
   "metadata": {},
   "outputs": [],
   "source": []
  },
  {
   "cell_type": "code",
   "execution_count": null,
   "metadata": {},
   "outputs": [],
   "source": []
  },
  {
   "cell_type": "code",
   "execution_count": null,
   "metadata": {},
   "outputs": [],
   "source": []
  },
  {
   "cell_type": "code",
   "execution_count": null,
   "metadata": {},
   "outputs": [],
   "source": []
  },
  {
   "cell_type": "code",
   "execution_count": 69,
   "metadata": {},
   "outputs": [
    {
     "name": "stdout",
     "output_type": "stream",
     "text": [
      "10 500\n",
      "93 181 245 214 315 36 185 138 216 295\n",
      "497\n"
     ]
    }
   ],
   "source": [
    "def f(i,N,M): #idx, #of cards, target sum\n",
    "    global max_value\n",
    "    # 부분합 계산\n",
    "    if i == N: # bit 완성\n",
    "        is_3card = 0\n",
    "        cur_sum = 0\n",
    "        for j in range(N):\n",
    "            if bit[j]:\n",
    "                is_3card += 1\n",
    "                cur_sum += cards[j]\n",
    "        if is_3card != 3: # 3장의 카드가 아니므로 return으로 함수 끝내기\n",
    "            return\n",
    "        else: # 3장의 카드인 경우 max_value 비교\n",
    "            if max_value < cur_sum <= M:\n",
    "                max_value = cur_sum\n",
    "    \n",
    "    \n",
    "    else:\n",
    "        bit[i] = 1\n",
    "        f(i+1,N,M)\n",
    "        bit[i] = 0\n",
    "        f(i+1,N,M)\n",
    "    return\n",
    "\n",
    "\n",
    "N, M = map(int,input().split())\n",
    "cards = list(map(int,input().split()))\n",
    "max_value = 0\n",
    "bit = [0]*N\n",
    "\n",
    "\n",
    "f(0,N,M)\n",
    "\n",
    "print(max_value)"
   ]
  },
  {
   "cell_type": "code",
   "execution_count": null,
   "metadata": {},
   "outputs": [],
   "source": []
  }
 ],
 "metadata": {
  "kernelspec": {
   "display_name": "Python 3",
   "language": "python",
   "name": "python3"
  },
  "language_info": {
   "codemirror_mode": {
    "name": "ipython",
    "version": 3
   },
   "file_extension": ".py",
   "mimetype": "text/x-python",
   "name": "python",
   "nbconvert_exporter": "python",
   "pygments_lexer": "ipython3",
   "version": "3.9.4"
  }
 },
 "nbformat": 4,
 "nbformat_minor": 4
}
