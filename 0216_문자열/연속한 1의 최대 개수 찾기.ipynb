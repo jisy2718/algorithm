{
 "cells": [
  {
   "cell_type": "markdown",
   "metadata": {},
   "source": [
    "# 1.N개의 0과 1로 이루어진 수열에서 연속한 1의 개수 중 최대값을 출력하는 프로그램을 만드시오.\n",
    "\n",
    "* 입력\n",
    ">첫 줄에 테스트케이스 개수 T, 다음 줄부터 테스트케이스별로 첫 줄에 수열의 길이 N, 다음 줄에 N개의 0과1로 구성된 수열이 공백없이 제공된다.\n",
    "1<=T<=10, 10<=N<=1000\n",
    "\n",
    "* 출력\n",
    "> #과 테스트케이스 번호, 빈칸에 이어 답을 출력한다.\n",
    "\n",
    ">입력 예\n",
    "3\\\n",
    "10\\\n",
    "0011001110\\\n",
    "10\\\n",
    "0000100001\\\n",
    "10\\\n",
    "0111001111\n",
    "\n",
    ">출력 예\\\n",
    "#1 3\\\n",
    "#2 1\\\n",
    "#3 4"
   ]
  },
  {
   "cell_type": "code",
   "execution_count": 1,
   "metadata": {},
   "outputs": [
    {
     "name": "stdout",
     "output_type": "stream",
     "text": [
      "1\n",
      "10\n",
      "0111001111\n",
      "4\n"
     ]
    }
   ],
   "source": [
    "T = int(input())\n",
    "for tc in range(1,T+1):\n",
    "    N = int(input())\n",
    "    arr = list(map(int,input()))\n",
    "    \n",
    "    i = 0\n",
    "    cnt = 0\n",
    "    max_one = 0\n",
    "    \n",
    "    # idx를 하나씩 증가시켜가며 1의 개수를 센다\n",
    "    while i < N:\n",
    "        # 만약 0이 나온다면 현재 max_one 과 비교해주고, cnt를 0으로 초기화\n",
    "        if arr[i] == 0:\n",
    "            max_one = max(max_one, cnt)\n",
    "            cnt = 0\n",
    "        # 1이 나온다면, cnt 개수를 늘려준다.\n",
    "        else:\n",
    "            cnt += 1\n",
    "            \n",
    "        i += 1\n",
    "        \n",
    "    max_one = max(max_one, cnt)\n",
    "    \n",
    "    print(f\"#{tc} {max_one}\")"
   ]
  },
  {
   "cell_type": "markdown",
   "metadata": {},
   "source": [
    "# 2. 연속으로 커지는 수의 최대 길이\n",
    "\n",
    "영준이는 당근 크기 선별기를 이용해 수확한 순서대로 당근의 크기를 기록하였다. 이 당근 선별기에는 특별한 기능이 있는데 연속으로 당근의 크기가 커진 경우 그 개수를 알려준다. 당근의 크기가 수확한 순서로 주어질 때, 선별기가 알려준 연속으로 커지는 당근의 갯수는 최대 얼마인지 확인하기 위한 프로그램을 만드시오. 연속으로 커지지않는 경우 구간의 최소 길이는 1이다.\\\n",
    "\n",
    "N개의 당근을 수확하며, 당근의 크기 C는 1부터 10까지의 정수로 정해진다.\\\n",
    "\n",
    "5<=N<=1000, 1<=C<=10\\\n",
    "\n",
    ">입력\\\n",
    "첫 줄에 테스트케이스의 개수 T, 다음 줄 부터 테스트케이스별로 첫 줄에 당근 개수 N, 다음 줄 당근의 크기 C를 의미하는 N개의 정수가 주어진다.\n",
    "\n",
    ">출력\\\n",
    "#테스트케이스번호와 연속으로 커지는 당근 개수의 최대값을 출력한다.\n",
    "\n",
    "> 예시\n",
    "3\\\n",
    "5\\\n",
    "1 2 3 4 5\\\n",
    "5\\\n",
    "4 5 1 2 3\\\n",
    "5\\\n",
    "5 4 3 2 1"
   ]
  },
  {
   "cell_type": "code",
   "execution_count": 5,
   "metadata": {},
   "outputs": [
    {
     "name": "stdout",
     "output_type": "stream",
     "text": [
      "1\n",
      "5\n",
      "1 2 3 4 5\n",
      "#1 5\n"
     ]
    }
   ],
   "source": [
    "T = int(input())\n",
    "for tc in range(1,T+1):\n",
    "    N = int(input())\n",
    "    arr = list(map(int,input().split()))\n",
    "    \n",
    "    max_val = 1\n",
    "    cnt = 1\n",
    "    for i in range(N-1): # 앞뒤를 앞의 idx로 비교\n",
    "        if arr[i] < arr[i+1]:\n",
    "            cnt += 1\n",
    "        else:\n",
    "            if max_val < cnt:\n",
    "                max_val = cnt\n",
    "                #print(max_val)\n",
    "            cnt = 1\n",
    "        if max_val < cnt:\n",
    "            max_val = cnt\n",
    "        \n",
    "    print(f\"#{tc} {max_val}\")\n",
    "            \n",
    "                    \n",
    "        \n",
    "    "
   ]
  },
  {
   "cell_type": "markdown",
   "metadata": {},
   "source": [
    "# 3. 2차원배열에서 가로 or 세로 연속되는 1의 개수 최대값"
   ]
  },
  {
   "cell_type": "code",
   "execution_count": 2,
   "metadata": {},
   "outputs": [
    {
     "name": "stdout",
     "output_type": "stream",
     "text": [
      "1\n",
      "2 2\n",
      "1 1\n",
      "0 0\n",
      "#1 2\n"
     ]
    }
   ],
   "source": [
    "T = int(input())\n",
    "for tc in range(1,T+1):\n",
    "    N , M = list(map(int,input().split())) # 행, 열 개수\n",
    "    \n",
    "    arr = [list(map(int,input().split())) for _ in range(N)]\n",
    "    \n",
    "    # 행 순환\n",
    "    max_val = 0\n",
    "    for i in range(N):\n",
    "        cnt = 0 # 각 행마다 초기화\n",
    "        for j in range(M):\n",
    "            if arr[i][j] == 0:\n",
    "                if max_val < cnt:\n",
    "                    max_val = cnt\n",
    "                cnt = 0\n",
    "            else:\n",
    "                cnt += 1\n",
    "        if max_val < cnt:\n",
    "            max_val = cnt\n",
    "            \n",
    "    # 열 순환\n",
    "    for j in range(M):\n",
    "        cnt = 0 # 각 열마다 초기화\n",
    "        for i in range(N):\n",
    "            if arr[i][j] == 0:\n",
    "                if max_val < cnt:\n",
    "                    max_val = cnt\n",
    "                cnt = 0\n",
    "            else:\n",
    "                cnt += 1\n",
    "        if max_val < cnt:\n",
    "            max_val = cnt\n",
    "            \n",
    "    print(f\"#{tc} {max_val}\")\n",
    "        \n",
    "            "
   ]
  }
 ],
 "metadata": {
  "kernelspec": {
   "display_name": "Python 3",
   "language": "python",
   "name": "python3"
  },
  "language_info": {
   "codemirror_mode": {
    "name": "ipython",
    "version": 3
   },
   "file_extension": ".py",
   "mimetype": "text/x-python",
   "name": "python",
   "nbconvert_exporter": "python",
   "pygments_lexer": "ipython3",
   "version": "3.9.4"
  }
 },
 "nbformat": 4,
 "nbformat_minor": 4
}
