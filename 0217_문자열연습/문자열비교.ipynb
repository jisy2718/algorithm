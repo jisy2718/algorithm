{
 "cells": [
  {
   "cell_type": "markdown",
   "metadata": {},
   "source": [
    "# SW"
   ]
  },
  {
   "cell_type": "markdown",
   "metadata": {},
   "source": [
    "## 1. 12588. 4864. [파이썬 S/W 문제해결 기본] 3일차 - 문자열 비교"
   ]
  },
  {
   "cell_type": "code",
   "execution_count": 12,
   "metadata": {},
   "outputs": [
    {
     "name": "stdout",
     "output_type": "stream",
     "text": [
      "1\n",
      "abd\n",
      "aadfvdsfvsdvdvabd\n",
      "#2---------i,j : 1,1\n",
      "#2---------i,j : 2,0\n",
      "#2---------i,j : 3,0\n",
      "#2---------i,j : 4,0\n",
      "#2---------i,j : 5,0\n",
      "#2---------i,j : 6,0\n",
      "#2---------i,j : 7,0\n",
      "#2---------i,j : 8,0\n",
      "#2---------i,j : 9,0\n",
      "#2---------i,j : 10,0\n",
      "#2---------i,j : 11,0\n",
      "#2---------i,j : 12,0\n",
      "#2---------i,j : 13,0\n",
      "#2---------i,j : 14,0\n",
      "#2---------i,j : 15,1\n",
      "#2---------i,j : 16,2\n",
      "#2---------i,j : 17,3\n",
      "1\n"
     ]
    }
   ],
   "source": [
    "T = int(input())\n",
    "for tc in range(1,T+1):\n",
    "    p = input() # 찾을 패턴\n",
    "    total = input() # 전체 text\n",
    "    \n",
    "    # 고고한방법\n",
    "    i , j = 0, 0\n",
    "    n = len(total) # 전체 text 길이\n",
    "    m = len(p) # 찾을 패천의 길이\n",
    "   \n",
    "    # 패턴의 끝까지 갈때까지 or text를 전부 탐색할 때까지\n",
    "    while j < m and i < n: # 0 1 2 3 4 5 / 0 1 2\n",
    "        \n",
    "        if total[i] != p[j]:\n",
    "            j = -1\n",
    "\n",
    "        i += 1\n",
    "        j += 1\n",
    "        #print(f\"#2---------i,j : {i},{j}\")\n",
    "\n",
    "    if j == m:\n",
    "        print(1)\n",
    "    \n",
    "    else:\n",
    "        print(0)"
   ]
  },
  {
   "cell_type": "markdown",
   "metadata": {},
   "source": [
    "## 2."
   ]
  },
  {
   "cell_type": "code",
   "execution_count": 23,
   "metadata": {},
   "outputs": [
    {
     "name": "stdout",
     "output_type": "stream",
     "text": [
      "1\n",
      "10 10\n",
      "GOFFAKWFSM\n",
      "OYECRSLDLQ\n",
      "UJAJQVSYYC\n",
      "JAEZNNZEAJ\n",
      "WJAKCGSGCF\n",
      "QKUDGATDQL\n",
      "OKGPFPYRKQ\n",
      "TDCXBMQTIO\n",
      "UNADRPNETZ\n",
      "ZATWDEKDQF\n"
     ]
    },
    {
     "ename": "AttributeError",
     "evalue": "'list' object has no attribute 't'",
     "output_type": "error",
     "traceback": [
      "\u001b[1;31m---------------------------------------------------------------------------\u001b[0m",
      "\u001b[1;31mAttributeError\u001b[0m                            Traceback (most recent call last)",
      "\u001b[1;32m<ipython-input-23-99744675176e>\u001b[0m in \u001b[0;36m<module>\u001b[1;34m\u001b[0m\n\u001b[0;32m     26\u001b[0m     \u001b[0mprint\u001b[0m\u001b[1;33m(\u001b[0m\u001b[1;34mf\"#{tc} {pal}\"\u001b[0m\u001b[1;33m)\u001b[0m\u001b[1;33m\u001b[0m\u001b[1;33m\u001b[0m\u001b[0m\n\u001b[0;32m     27\u001b[0m \u001b[1;32melse\u001b[0m\u001b[1;33m:\u001b[0m\u001b[1;33m\u001b[0m\u001b[1;33m\u001b[0m\u001b[0m\n\u001b[1;32m---> 28\u001b[1;33m     \u001b[0marr\u001b[0m\u001b[1;33m.\u001b[0m\u001b[0mt\u001b[0m \u001b[1;33m=\u001b[0m \u001b[0mlist\u001b[0m\u001b[1;33m(\u001b[0m\u001b[0mmap\u001b[0m\u001b[1;33m(\u001b[0m\u001b[0mlist\u001b[0m\u001b[1;33m,\u001b[0m\u001b[0mzip\u001b[0m\u001b[1;33m(\u001b[0m\u001b[1;33m*\u001b[0m\u001b[0marr\u001b[0m\u001b[1;33m)\u001b[0m\u001b[1;33m)\u001b[0m\u001b[1;33m)\u001b[0m\u001b[1;33m\u001b[0m\u001b[1;33m\u001b[0m\u001b[0m\n\u001b[0m\u001b[0;32m     29\u001b[0m     \u001b[0mpal\u001b[0m \u001b[1;33m=\u001b[0m \u001b[0mfind_pal\u001b[0m\u001b[1;33m(\u001b[0m\u001b[0marr\u001b[0m\u001b[1;33m=\u001b[0m\u001b[0marr\u001b[0m\u001b[1;33m.\u001b[0m\u001b[0mt\u001b[0m\u001b[1;33m,\u001b[0m \u001b[0mM\u001b[0m\u001b[1;33m=\u001b[0m\u001b[0mM\u001b[0m\u001b[1;33m)\u001b[0m\u001b[1;33m\u001b[0m\u001b[1;33m\u001b[0m\u001b[0m\n\u001b[0;32m     30\u001b[0m     \u001b[0mprint\u001b[0m\u001b[1;33m(\u001b[0m\u001b[1;34mf\"#{tc} {pal}\"\u001b[0m\u001b[1;33m)\u001b[0m\u001b[1;33m\u001b[0m\u001b[1;33m\u001b[0m\u001b[0m\n",
      "\u001b[1;31mAttributeError\u001b[0m: 'list' object has no attribute 't'"
     ]
    }
   ],
   "source": [
    "def find_pal(arr: list, M: int):\n",
    "    N = len(arr)\n",
    "    for r in range(N):\n",
    "        row = arr[r]  # 탐색할 행\n",
    "        for start_col in range(N - M):\n",
    "            start = N  # 회문의 시작인덱스 초기화\n",
    "\n",
    "            for c in range(N - M):\n",
    "                p = 0  # 회문의 문자 개수 세는 변수 초기화\n",
    "                target = row[c:c + M]\n",
    "                for search in range(M):\n",
    "                    if target[search] == target[-1 - search]:\n",
    "                        p += 2\n",
    "                else:\n",
    "                    break\n",
    "\n",
    "                if p == M or p == M - 1:  # 짝수 / 홀수 경우\n",
    "                    return target\n",
    "    return None\n",
    "\n",
    "    N, M = list(map(int, input().split()))  # N : matrix 크기 / M : 회문의 길이\n",
    "    arr = [list(input()) for _ in range(N)]\n",
    "    \n",
    "    \n",
    "    \n",
    "    \n",
    "    pal = find_pal(arr=arr, M=M)\n",
    "    if pal:\n",
    "        print(f\"#{tc} {pal}\")\n",
    "    else:\n",
    "        arr_t = list(map(list, zip(*arr)))\n",
    "        pal = find_pal(arr=arr_t, M=M)\n",
    "        print(f\"#{tc} {pal}\")\n",
    "        \n",
    "    \n",
    "        \n",
    "\n",
    "\n",
    "\n",
    "# 행에대해서 찾은 후, 전치시켜서 다시 행에 대해 찾기\n",
    "# 회문이 시작하는 index\n",
    "    \n",
    "    \n",
    "# for r in range(N):\n",
    "#     row = arr[r] # 탐색할 행\n",
    "#     start = N # 회문의 시작인덱스 초기화\n",
    "#     for c in range(N//2):\n",
    "#         if row[c] == row[-1-c]:\n",
    "#             if c < start:\n",
    "#                 start = c\n",
    "#                 p += 2\n",
    "#         else:\n",
    "#             break\n",
    "#         if p == M or p == M - 1: # 짝수 / 홀수 경우\n",
    "#             print(f\"#{tc} {row[start,start+M]}\")\n",
    "#             break\n",
    "        \n",
    "                \n",
    "\n",
    "\n",
    "    \n"
   ]
  },
  {
   "cell_type": "markdown",
   "metadata": {},
   "source": [
    "# 2. 문자열 비교"
   ]
  },
  {
   "cell_type": "markdown",
   "metadata": {},
   "source": [
    "## 행끼리 비교 완료"
   ]
  },
  {
   "cell_type": "markdown",
   "metadata": {},
   "source": [
    "## 정답 : 행비교 이후에 열 비교도 전치행렬로 하기"
   ]
  },
  {
   "cell_type": "code",
   "execution_count": 126,
   "metadata": {},
   "outputs": [
    {
     "name": "stdout",
     "output_type": "stream",
     "text": [
      "1\n",
      "aaaaaaaaaaaaaa\n"
     ]
    },
    {
     "ename": "ValueError",
     "evalue": "invalid literal for int() with base 10: 'aaaaaaaaaaaaaa'",
     "output_type": "error",
     "traceback": [
      "\u001b[1;31m---------------------------------------------------------------------------\u001b[0m",
      "\u001b[1;31mValueError\u001b[0m                                Traceback (most recent call last)",
      "\u001b[1;32m<ipython-input-126-22656f31a061>\u001b[0m in \u001b[0;36m<module>\u001b[1;34m\u001b[0m\n\u001b[0;32m      4\u001b[0m \u001b[0mT\u001b[0m \u001b[1;33m=\u001b[0m \u001b[0mint\u001b[0m\u001b[1;33m(\u001b[0m\u001b[0minput\u001b[0m\u001b[1;33m(\u001b[0m\u001b[1;33m)\u001b[0m\u001b[1;33m)\u001b[0m\u001b[1;33m\u001b[0m\u001b[1;33m\u001b[0m\u001b[0m\n\u001b[0;32m      5\u001b[0m \u001b[1;32mfor\u001b[0m \u001b[0mtc\u001b[0m \u001b[1;32min\u001b[0m \u001b[0mrange\u001b[0m\u001b[1;33m(\u001b[0m\u001b[1;36m1\u001b[0m\u001b[1;33m,\u001b[0m \u001b[0mT\u001b[0m \u001b[1;33m+\u001b[0m \u001b[1;36m1\u001b[0m\u001b[1;33m)\u001b[0m\u001b[1;33m:\u001b[0m\u001b[1;33m\u001b[0m\u001b[1;33m\u001b[0m\u001b[0m\n\u001b[1;32m----> 6\u001b[1;33m     \u001b[0mN\u001b[0m\u001b[1;33m,\u001b[0m \u001b[0mM\u001b[0m \u001b[1;33m=\u001b[0m \u001b[0mlist\u001b[0m\u001b[1;33m(\u001b[0m\u001b[0mmap\u001b[0m\u001b[1;33m(\u001b[0m\u001b[0mint\u001b[0m\u001b[1;33m,\u001b[0m \u001b[0minput\u001b[0m\u001b[1;33m(\u001b[0m\u001b[1;33m)\u001b[0m\u001b[1;33m.\u001b[0m\u001b[0msplit\u001b[0m\u001b[1;33m(\u001b[0m\u001b[1;33m)\u001b[0m\u001b[1;33m)\u001b[0m\u001b[1;33m)\u001b[0m  \u001b[1;31m# N : matrix 크기 / M : 회문의 길이\u001b[0m\u001b[1;33m\u001b[0m\u001b[1;33m\u001b[0m\u001b[0m\n\u001b[0m\u001b[0;32m      7\u001b[0m     \u001b[0marr\u001b[0m \u001b[1;33m=\u001b[0m \u001b[1;33m[\u001b[0m\u001b[0mlist\u001b[0m\u001b[1;33m(\u001b[0m\u001b[0minput\u001b[0m\u001b[1;33m(\u001b[0m\u001b[1;33m)\u001b[0m\u001b[1;33m)\u001b[0m \u001b[1;32mfor\u001b[0m \u001b[0m_\u001b[0m \u001b[1;32min\u001b[0m \u001b[0mrange\u001b[0m\u001b[1;33m(\u001b[0m\u001b[0mN\u001b[0m\u001b[1;33m)\u001b[0m\u001b[1;33m]\u001b[0m\u001b[1;33m\u001b[0m\u001b[1;33m\u001b[0m\u001b[0m\n\u001b[0;32m      8\u001b[0m     \u001b[0marr_t\u001b[0m \u001b[1;33m=\u001b[0m \u001b[0mlist\u001b[0m\u001b[1;33m(\u001b[0m\u001b[0mmap\u001b[0m\u001b[1;33m(\u001b[0m\u001b[0mlist\u001b[0m\u001b[1;33m,\u001b[0m \u001b[0mzip\u001b[0m\u001b[1;33m(\u001b[0m\u001b[1;33m*\u001b[0m\u001b[0marr\u001b[0m\u001b[1;33m)\u001b[0m\u001b[1;33m)\u001b[0m\u001b[1;33m)\u001b[0m\u001b[1;33m\u001b[0m\u001b[1;33m\u001b[0m\u001b[0m\n",
      "\u001b[1;31mValueError\u001b[0m: invalid literal for int() with base 10: 'aaaaaaaaaaaaaa'"
     ]
    }
   ],
   "source": [
    "import sys\n",
    "sys.stdin = open(\"palidrome_input.txt\",\"r\")\n",
    "\n",
    "T = int(input())\n",
    "for tc in range(1, T + 1):\n",
    "    N, M = list(map(int, input().split()))  # N : matrix 크기 / M : 회문의 길이\n",
    "    arr = [list(input()) for _ in range(N)]\n",
    "    arr_t = list(map(list, zip(*arr)))\n",
    "\n",
    "    for target_arr in [arr,arr_t]:\n",
    "        # 한줄씩 가면서 M//2 개 원소 저장한후 그 뒤의 M//2 개 원소와 비교\n",
    "        for k in range(N):\n",
    "            row = target_arr[k]\n",
    "            palindrome = ''\n",
    "            is_pal = list()  # M//2 개 이동하면서 순서대로 저장\n",
    "            # N - M 번까지만 시작하면 됨. N -M , N-(M -1) , ... , N-1 : M 개\n",
    "            for i in range(N - M + 1):\n",
    "\n",
    "                for j in range(M // 2):\n",
    "                    is_pal.append(row[i + j])\n",
    "\n",
    "                # 그 뒤의 M //2 개와 비교\n",
    "                # case 1 ) M is even num\n",
    "                if not M % 2:\n",
    "                    for j in range(M // 2):\n",
    "                        if is_pal[M // 2 - 1 - j] == row[\n",
    "                            i + j + M // 2]:  # is_pal 은 뒤에서부터 앞으로, row는 is_pal 이 끝난 위치부터 뒤로 가며 비교\n",
    "\n",
    "                            is_pal.append(row[i + j + M // 2])  # 일치한다면 is_pal 뒤에 넣어주기\n",
    "\n",
    "                            continue\n",
    "                        else:\n",
    "                            is_pal = []  # 초기화 후 다음 i에 대해 진행\n",
    "                            break\n",
    "\n",
    "                # case 2) M is odd num\n",
    "                else:\n",
    "                    is_pal.append(row[i + M // 2])  # 중간글짜 넣어주기\n",
    "                    for j in range(M // 2):\n",
    "                        if is_pal[M // 2  - j - 1] == row[\n",
    "                            i + j + M // 2 + 1]:  # is_pal 은 뒤에서부터 앞으로, row는 is_pal 이 끝난 위치부터 뒤로 가며 비교\n",
    "\n",
    "                            is_pal.append(row[i + j + M // 2 +1])  # 일치한다면 is_pal 뒤에 넣어주기\n",
    "\n",
    "                            continue\n",
    "                        else:\n",
    "                            is_pal = []  # 초기화 후 다음 i에 대해 진행\n",
    "                            break\n",
    "\n",
    "                # 회문을 찾은 경우\n",
    "                if len(is_pal) == M:\n",
    "                    break\n",
    "            if len(is_pal) == M:\n",
    "                for i in range(len(is_pal)):\n",
    "                    palindrome = palindrome + is_pal[i]\n",
    "\n",
    "            if palindrome:\n",
    "                print(f\"#{tc} {palindrome}\")\n",
    "                break"
   ]
  },
  {
   "cell_type": "code",
   "execution_count": 27,
   "metadata": {},
   "outputs": [
    {
     "data": {
      "text/plain": [
       "[('G', 'O', 'U', 'J', 'W', 'Q', 'O', 'T', 'U', 'Z'),\n",
       " ('O', 'Y', 'J', 'A', 'J', 'K', 'K', 'D', 'N', 'A'),\n",
       " ('F', 'E', 'A', 'E', 'A', 'U', 'G', 'C', 'A', 'T'),\n",
       " ('F', 'C', 'J', 'Z', 'K', 'D', 'P', 'X', 'D', 'W'),\n",
       " ('A', 'R', 'Q', 'N', 'C', 'G', 'F', 'B', 'R', 'D'),\n",
       " ('K', 'S', 'V', 'N', 'G', 'A', 'P', 'M', 'P', 'E'),\n",
       " ('W', 'L', 'S', 'Z', 'S', 'T', 'Y', 'Q', 'N', 'K'),\n",
       " ('F', 'D', 'Y', 'E', 'G', 'D', 'R', 'T', 'E', 'D'),\n",
       " ('S', 'L', 'Y', 'A', 'C', 'Q', 'K', 'I', 'T', 'Q'),\n",
       " ('M', 'Q', 'C', 'J', 'F', 'L', 'Q', 'O', 'Z', 'F')]"
      ]
     },
     "execution_count": 27,
     "metadata": {},
     "output_type": "execute_result"
    }
   ],
   "source": [
    "list(zip(*arr))"
   ]
  },
  {
   "cell_type": "markdown",
   "metadata": {},
   "source": [
    "## 3. 문자의 개수 찾기 (num_of_char)"
   ]
  },
  {
   "cell_type": "code",
   "execution_count": 35,
   "metadata": {},
   "outputs": [
    {
     "name": "stdout",
     "output_type": "stream",
     "text": [
      "1\n",
      "asdddd\n",
      "aaaaaaaaaassssssssssssssssddddddddddddffffffffffgassa\n",
      "#1 18\n"
     ]
    }
   ],
   "source": [
    "T = int(input())\n",
    "for tc in range(1,T+1):\n",
    "    str1_set = set(input())\n",
    "    str2 = input()\n",
    "    \n",
    "    max_count = 0\n",
    "    for char in str1_set:   # 비교할 문자\n",
    "        cur_count = 0        # 해당문자 count 초기화\n",
    "        for char_in_str2 in str2:   # 전체 텍스트의 문자와 비교\n",
    "            if char_in_str2 == char:\n",
    "                cur_count +=1       # 일치하면 count 해주기\n",
    "        if max_count < cur_count:   # max 찾는 것이므로 비교 후 업데이트\n",
    "            max_count = cur_count\n",
    "    print(f\"#{tc} {max_count}\")\n"
   ]
  },
  {
   "cell_type": "markdown",
   "metadata": {},
   "source": [
    "## 4. 가장 빠른 문자열 타이핑\n",
    "+ 지정된 문자열 A를 입력할 때, B 라는 문자열을 하나의 알파벳 처럼 사용할 수 있을 때, 최소한으로 타이핑"
   ]
  },
  {
   "cell_type": "markdown",
   "metadata": {},
   "source": [
    "## 4-1 재귀 (실패)"
   ]
  },
  {
   "cell_type": "code",
   "execution_count": 83,
   "metadata": {},
   "outputs": [
    {
     "name": "stdout",
     "output_type": "stream",
     "text": [
      "2\n",
      "asdffffffffffffffffffffffffffasdfawefawef asdfsa\n",
      "#1 41\n",
      "asddddddddddddddddddddddddd dd\n",
      "#2 15\n"
     ]
    }
   ],
   "source": [
    "# recursion 이용\n",
    "\n",
    "T = int(input())\n",
    "for tc in range(1,T+1):\n",
    "    A , B = input().split()\n",
    "    \n",
    "    def find_str(A,B):\n",
    "        value = 0\n",
    "        # base case\n",
    "        if len(A) < len(B):\n",
    "            return len(A)\n",
    "        \n",
    "        # 키를 한 번 누름\n",
    "        value += 1\n",
    "        # 만약 B랑 같으면 해당 부분 생략하고 넘어가기\n",
    "        if A[:len(B)] == B:\n",
    "            value += find_str(A[len(B):],B)\n",
    "        \n",
    "        else:\n",
    "            value += find_str(A[1:],B)\n",
    "        \n",
    "        return value\n",
    "    \n",
    "    count = find_str(A,B)\n",
    "    print(f\"#{tc} {count}\")"
   ]
  },
  {
   "cell_type": "markdown",
   "metadata": {},
   "source": [
    "## 4-2 완전탐색"
   ]
  },
  {
   "cell_type": "code",
   "execution_count": 94,
   "metadata": {},
   "outputs": [
    {
     "name": "stdout",
     "output_type": "stream",
     "text": [
      "2\n",
      "asakusa sa\n",
      "#1 5\n",
      "banana bana\n",
      "#2 3\n"
     ]
    }
   ],
   "source": [
    "T = int(input())\n",
    "for tc in range(1,T+1):\n",
    "    A , B = input().split()\n",
    "    N, M = len(A), len(B)\n",
    "    count = 0\n",
    "    i = 0\n",
    "    while i < N:\n",
    "        # 같은 경우\n",
    "        if A[i:i+M] == B:\n",
    "            count += 1\n",
    "            i += M\n",
    "        else: # 다른 경우\n",
    "            count +=1\n",
    "            i += 1\n",
    "            \n",
    "    print(f\"#{tc} {count}\")            \n",
    "        "
   ]
  },
  {
   "cell_type": "code",
   "execution_count": null,
   "metadata": {},
   "outputs": [],
   "source": []
  },
  {
   "cell_type": "code",
   "execution_count": null,
   "metadata": {},
   "outputs": [],
   "source": []
  },
  {
   "cell_type": "code",
   "execution_count": null,
   "metadata": {},
   "outputs": [],
   "source": []
  },
  {
   "cell_type": "code",
   "execution_count": 95,
   "metadata": {},
   "outputs": [
    {
     "name": "stdout",
     "output_type": "stream",
     "text": [
      "123\n"
     ]
    },
    {
     "data": {
      "text/plain": [
       "['1', '2', '3']"
      ]
     },
     "execution_count": 95,
     "metadata": {},
     "output_type": "execute_result"
    }
   ],
   "source": [
    "list(input())"
   ]
  },
  {
   "cell_type": "code",
   "execution_count": 97,
   "metadata": {},
   "outputs": [
    {
     "data": {
      "text/plain": [
       "'aaa'"
      ]
     },
     "execution_count": 97,
     "metadata": {},
     "output_type": "execute_result"
    }
   ],
   "source": [
    "'a'*3"
   ]
  },
  {
   "cell_type": "code",
   "execution_count": 99,
   "metadata": {},
   "outputs": [
    {
     "data": {
      "text/plain": [
       "'\\\\'"
      ]
     },
     "execution_count": 99,
     "metadata": {},
     "output_type": "execute_result"
    }
   ],
   "source": [
    "\"\\\\\""
   ]
  },
  {
   "cell_type": "code",
   "execution_count": 102,
   "metadata": {},
   "outputs": [
    {
     "data": {
      "text/plain": [
       "'abdfads'"
      ]
     },
     "execution_count": 102,
     "metadata": {},
     "output_type": "execute_result"
    }
   ],
   "source": [
    "'ABDFADS'.lower()"
   ]
  },
  {
   "cell_type": "code",
   "execution_count": 105,
   "metadata": {},
   "outputs": [
    {
     "data": {
      "text/plain": [
       "{'1', '2', '3'}"
      ]
     },
     "execution_count": 105,
     "metadata": {},
     "output_type": "execute_result"
    }
   ],
   "source": [
    "a = '123213'\n",
    "set([*a])"
   ]
  },
  {
   "cell_type": "code",
   "execution_count": 108,
   "metadata": {},
   "outputs": [
    {
     "name": "stdout",
     "output_type": "stream",
     "text": [
      "baaa\n",
      "a\n"
     ]
    }
   ],
   "source": [
    "string = input()\n",
    "\n",
    "# 소문자로 변경\n",
    "string = string.lower()\n",
    "\n",
    "# 순회할 원소들 set으로 저장\n",
    "string_set = set([*string])\n",
    "\n",
    "# result 에 max 인 글자 저장\n",
    "result = ''\n",
    "max_cnt = 0\n",
    "\n",
    "for target in string_set:\n",
    "    cur_cnt = 0\n",
    "    for s in string:\n",
    "        if target == s:\n",
    "            cur_cnt += 1\n",
    "    if max_cnt < cur_cnt:\n",
    "        max_cnt = cur_cnt\n",
    "        result = target\n",
    "    elif max_cnt == cur_cnt:\n",
    "        result = '?'\n",
    "        \n",
    "print(result)"
   ]
  },
  {
   "cell_type": "code",
   "execution_count": 116,
   "metadata": {},
   "outputs": [
    {
     "data": {
      "text/plain": [
       "'a\\\\\\\\'"
      ]
     },
     "execution_count": 116,
     "metadata": {},
     "output_type": "execute_result"
    }
   ],
   "source": [
    "a = 'a'\n",
    "a = a + '\\\\\\\\'\n",
    "a"
   ]
  },
  {
   "cell_type": "code",
   "execution_count": 117,
   "metadata": {},
   "outputs": [
    {
     "ename": "SyntaxError",
     "evalue": "EOL while scanning string literal (<ipython-input-117-96270e8e5da5>, line 1)",
     "output_type": "error",
     "traceback": [
      "\u001b[1;36m  File \u001b[1;32m\"<ipython-input-117-96270e8e5da5>\"\u001b[1;36m, line \u001b[1;32m1\u001b[0m\n\u001b[1;33m    '\\'*4\u001b[0m\n\u001b[1;37m         ^\u001b[0m\n\u001b[1;31mSyntaxError\u001b[0m\u001b[1;31m:\u001b[0m EOL while scanning string literal\n"
     ]
    }
   ],
   "source": [
    "'\\'*4"
   ]
  },
  {
   "cell_type": "code",
   "execution_count": 120,
   "metadata": {},
   "outputs": [
    {
     "data": {
      "text/plain": [
       "'\\\\\\\\\\\\\\\\aaa'"
      ]
     },
     "execution_count": 120,
     "metadata": {},
     "output_type": "execute_result"
    }
   ],
   "source": [
    "a = \"\\\\\"*4 +'aaa'\n",
    "a"
   ]
  },
  {
   "cell_type": "code",
   "execution_count": 122,
   "metadata": {},
   "outputs": [
    {
     "name": "stdout",
     "output_type": "stream",
     "text": [
      "1\n",
      "3 a\\d\\b\\\\e\n",
      "chr is \\\n",
      "chr is \\\n",
      "chr is \\\n",
      "chr is \\\n",
      "aaa\\\\\\ddd\\\\\\bbb\\\\\\\\\\\\eee\n"
     ]
    }
   ],
   "source": [
    "N = int(input())\n",
    "for _ in range(N):\n",
    "    r, string = input().split()\n",
    "    r = int(r)\n",
    "    result = \"\"\n",
    "    for chr in string:\n",
    "        if chr != \"\\\\\":\n",
    "            result += chr*r\n",
    "        else:\n",
    "            print(\"chr is \\\\\")\n",
    "            result += \"\\\\\"*r\n",
    "    print(result)"
   ]
  },
  {
   "cell_type": "code",
   "execution_count": 124,
   "metadata": {},
   "outputs": [
    {
     "name": "stdout",
     "output_type": "stream",
     "text": [
      "1\n",
      "3 a\\a\\\\a\\\\\\a\n",
      "aaa\n",
      "aaa\\\\\\\n",
      "aaa\\\\\\aaa\n",
      "aaa\\\\\\aaa\\\\\\\n",
      "aaa\\\\\\aaa\\\\\\\\\\\\\n",
      "aaa\\\\\\aaa\\\\\\\\\\\\aaa\n",
      "aaa\\\\\\aaa\\\\\\\\\\\\aaa\\\\\\\n",
      "aaa\\\\\\aaa\\\\\\\\\\\\aaa\\\\\\\\\\\\\n",
      "aaa\\\\\\aaa\\\\\\\\\\\\aaa\\\\\\\\\\\\\\\\\\\n",
      "aaa\\\\\\aaa\\\\\\\\\\\\aaa\\\\\\\\\\\\\\\\\\aaa\n",
      "final result aaa\\\\\\aaa\\\\\\\\\\\\aaa\\\\\\\\\\\\\\\\\\aaa\n"
     ]
    }
   ],
   "source": [
    "N = int(input())\n",
    "for _ in range(N):\n",
    "    r, string = input().split()\n",
    "    r = int(r)\n",
    "    result = \"\"\n",
    "    for chr in string:\n",
    "        result += chr*r\n",
    "        print(result)\n",
    "    print(f\"final result {result}\")\n"
   ]
  },
  {
   "cell_type": "code",
   "execution_count": 125,
   "metadata": {},
   "outputs": [
    {
     "name": "stdout",
     "output_type": "stream",
     "text": [
      "asdf\n"
     ]
    },
    {
     "data": {
      "text/plain": [
       "['a', 's', 'd', 'f']"
      ]
     },
     "execution_count": 125,
     "metadata": {},
     "output_type": "execute_result"
    }
   ],
   "source": [
    "a= list(input())\n",
    "a"
   ]
  },
  {
   "cell_type": "code",
   "execution_count": 127,
   "metadata": {},
   "outputs": [],
   "source": [
    "a = [('G', 'O', 'U', 'J', 'W', 'Q', 'O', 'T', 'U', 'Z'),\n",
    " ('O', 'Y', 'J', 'A', 'J', 'K', 'K', 'D', 'N', 'A'),\n",
    " ('F', 'E', 'A', 'E', 'A', 'U', 'G', 'C', 'A', 'T'),\n",
    " ('F', 'C', 'J', 'Z', 'K', 'D', 'P', 'X', 'D', 'W'),\n",
    " ('A', 'R', 'Q', 'N', 'C', 'G', 'F', 'B', 'R', 'D'),\n",
    " ('K', 'S', 'V', 'N', 'G', 'A', 'P', 'M', 'P', 'E'),\n",
    " ('W', 'L', 'S', 'Z', 'S', 'T', 'Y', 'Q', 'N', 'K'),\n",
    " ('F', 'D', 'Y', 'E', 'G', 'D', 'R', 'T', 'E', 'D'),\n",
    " ('S', 'L', 'Y', 'A', 'C', 'Q', 'K', 'I', 'T', 'Q'),\n",
    " ('M', 'Q', 'C', 'J', 'F', 'L', 'Q', 'O', 'Z', 'F')]"
   ]
  },
  {
   "cell_type": "code",
   "execution_count": 129,
   "metadata": {},
   "outputs": [
    {
     "data": {
      "text/plain": [
       "[['G', 'O', 'U', 'J', 'W', 'Q', 'O', 'T', 'U', 'Z'],\n",
       " ['O', 'Y', 'J', 'A', 'J', 'K', 'K', 'D', 'N', 'A'],\n",
       " ['F', 'E', 'A', 'E', 'A', 'U', 'G', 'C', 'A', 'T'],\n",
       " ['F', 'C', 'J', 'Z', 'K', 'D', 'P', 'X', 'D', 'W'],\n",
       " ['A', 'R', 'Q', 'N', 'C', 'G', 'F', 'B', 'R', 'D'],\n",
       " ['K', 'S', 'V', 'N', 'G', 'A', 'P', 'M', 'P', 'E'],\n",
       " ['W', 'L', 'S', 'Z', 'S', 'T', 'Y', 'Q', 'N', 'K'],\n",
       " ['F', 'D', 'Y', 'E', 'G', 'D', 'R', 'T', 'E', 'D'],\n",
       " ['S', 'L', 'Y', 'A', 'C', 'Q', 'K', 'I', 'T', 'Q'],\n",
       " ['M', 'Q', 'C', 'J', 'F', 'L', 'Q', 'O', 'Z', 'F']]"
      ]
     },
     "execution_count": 129,
     "metadata": {},
     "output_type": "execute_result"
    }
   ],
   "source": [
    "list(map(list,a))"
   ]
  },
  {
   "cell_type": "code",
   "execution_count": null,
   "metadata": {},
   "outputs": [],
   "source": []
  }
 ],
 "metadata": {
  "kernelspec": {
   "display_name": "Python 3",
   "language": "python",
   "name": "python3"
  },
  "language_info": {
   "codemirror_mode": {
    "name": "ipython",
    "version": 3
   },
   "file_extension": ".py",
   "mimetype": "text/x-python",
   "name": "python",
   "nbconvert_exporter": "python",
   "pygments_lexer": "ipython3",
   "version": "3.9.4"
  }
 },
 "nbformat": 4,
 "nbformat_minor": 4
}
