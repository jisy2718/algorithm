{
 "cells": [
  {
   "cell_type": "markdown",
   "metadata": {},
   "source": [
    "# 18258 번"
   ]
  },
  {
   "cell_type": "code",
   "execution_count": 7,
   "metadata": {},
   "outputs": [
    {
     "name": "stdout",
     "output_type": "stream",
     "text": [
      "15 push 1 push 2 front back size empty pop pop pop size empty pop push 3 empty front\n"
     ]
    },
    {
     "ename": "ValueError",
     "evalue": "invalid literal for int() with base 10: '15 push 1 push 2 front back size empty pop pop pop size empty pop push 3 empty front'",
     "output_type": "error",
     "traceback": [
      "\u001b[1;31m---------------------------------------------------------------------------\u001b[0m",
      "\u001b[1;31mValueError\u001b[0m                                Traceback (most recent call last)",
      "\u001b[1;32m<ipython-input-7-a5ce592fa43d>\u001b[0m in \u001b[0;36m<module>\u001b[1;34m\u001b[0m\n\u001b[0;32m      1\u001b[0m \u001b[1;32mfrom\u001b[0m \u001b[0mcollections\u001b[0m \u001b[1;32mimport\u001b[0m \u001b[0mdeque\u001b[0m\u001b[1;33m\u001b[0m\u001b[1;33m\u001b[0m\u001b[0m\n\u001b[0;32m      2\u001b[0m \u001b[1;33m\u001b[0m\u001b[0m\n\u001b[1;32m----> 3\u001b[1;33m \u001b[0mN\u001b[0m \u001b[1;33m=\u001b[0m \u001b[0mint\u001b[0m\u001b[1;33m(\u001b[0m\u001b[0minput\u001b[0m\u001b[1;33m(\u001b[0m\u001b[1;33m)\u001b[0m\u001b[1;33m)\u001b[0m\u001b[1;33m\u001b[0m\u001b[1;33m\u001b[0m\u001b[0m\n\u001b[0m\u001b[0;32m      4\u001b[0m \u001b[1;33m\u001b[0m\u001b[0m\n\u001b[0;32m      5\u001b[0m \u001b[1;32mdef\u001b[0m \u001b[0mDQ\u001b[0m\u001b[1;33m(\u001b[0m\u001b[1;33m)\u001b[0m\u001b[1;33m:\u001b[0m\u001b[1;33m\u001b[0m\u001b[1;33m\u001b[0m\u001b[0m\n",
      "\u001b[1;31mValueError\u001b[0m: invalid literal for int() with base 10: '15 push 1 push 2 front back size empty pop pop pop size empty pop push 3 empty front'"
     ]
    }
   ],
   "source": [
    "from collections import deque\n",
    "\n",
    "N = int(input())\n",
    "\n",
    "def DQ():\n",
    "    def __init__(self):\n",
    "        self.size = 0\n",
    "        self.dq = deque([])\n",
    "        \n",
    "    def push(self, num):\n",
    "        self.dq.append(num)\n",
    "        self.size += 1\n",
    "    \n",
    "    def pop(self):\n",
    "        if self.size != 0:\n",
    "            first = self.dq.popleft()\n",
    "            self.size -= 1\n",
    "            print(first)\n",
    "\n",
    "        else:\n",
    "            print(-1)\n",
    "            \n",
    "    def empty(self):\n",
    "        if self.size != 0:\n",
    "            print(1)\n",
    "        else:\n",
    "            print(0)\n",
    "\n",
    "    def front(self):\n",
    "        if self.size == 0:\n",
    "            print(-1)\n",
    "        else:\n",
    "            print(self.dq[0])\n",
    "    \n",
    "    def back(self):\n",
    "        if self.size == 0:\n",
    "            print(-1)\n",
    "        else:\n",
    "            print(self.dq[-1])\n",
    "\n",
    "dq = DQ()\n",
    "for i in range(N):\n",
    "    order = input().split()\n",
    "    \n",
    "    if order[0] == 'push':\n",
    "        dq.push(int(order[-1]))\n",
    "    \n",
    "    elif order[0] == 'pop':\n",
    "        dq.pop()\n",
    "    elif order[0] == 'front':\n",
    "        dq.front()\n",
    "    elif order[0] == 'back':\n",
    "        dq.back()\n",
    "    elif order[0]== 'size':\n",
    "        print(dq.size)\n",
    "    elif order[0] == 'empty':\n",
    "        dq.empty()\n"
   ]
  },
  {
   "cell_type": "code",
   "execution_count": 12,
   "metadata": {},
   "outputs": [
    {
     "name": "stdout",
     "output_type": "stream",
     "text": [
      "15\n",
      "push1 push2 front back size empty pop pop pop size empty pop push3 empty front\n"
     ]
    },
    {
     "ename": "AttributeError",
     "evalue": "'NoneType' object has no attribute 'push'",
     "output_type": "error",
     "traceback": [
      "\u001b[1;31m---------------------------------------------------------------------------\u001b[0m",
      "\u001b[1;31mAttributeError\u001b[0m                            Traceback (most recent call last)",
      "\u001b[1;32m<ipython-input-12-4f609c8c85a4>\u001b[0m in \u001b[0;36m<module>\u001b[1;34m\u001b[0m\n\u001b[0;32m     45\u001b[0m \u001b[1;33m\u001b[0m\u001b[0m\n\u001b[0;32m     46\u001b[0m     \u001b[1;32mif\u001b[0m \u001b[0morder\u001b[0m\u001b[1;33m.\u001b[0m\u001b[0mstartswith\u001b[0m\u001b[1;33m(\u001b[0m\u001b[1;34m'push'\u001b[0m\u001b[1;33m)\u001b[0m\u001b[1;33m:\u001b[0m\u001b[1;33m\u001b[0m\u001b[1;33m\u001b[0m\u001b[0m\n\u001b[1;32m---> 47\u001b[1;33m         \u001b[0mdq\u001b[0m\u001b[1;33m.\u001b[0m\u001b[0mpush\u001b[0m\u001b[1;33m(\u001b[0m\u001b[0mint\u001b[0m\u001b[1;33m(\u001b[0m\u001b[0morder\u001b[0m\u001b[1;33m[\u001b[0m\u001b[1;33m-\u001b[0m\u001b[1;36m1\u001b[0m\u001b[1;33m]\u001b[0m\u001b[1;33m)\u001b[0m\u001b[1;33m)\u001b[0m\u001b[1;33m\u001b[0m\u001b[1;33m\u001b[0m\u001b[0m\n\u001b[0m\u001b[0;32m     48\u001b[0m \u001b[1;33m\u001b[0m\u001b[0m\n\u001b[0;32m     49\u001b[0m     \u001b[1;32melif\u001b[0m \u001b[0morder\u001b[0m\u001b[1;33m==\u001b[0m \u001b[1;34m'pop'\u001b[0m\u001b[1;33m:\u001b[0m\u001b[1;33m\u001b[0m\u001b[1;33m\u001b[0m\u001b[0m\n",
      "\u001b[1;31mAttributeError\u001b[0m: 'NoneType' object has no attribute 'push'"
     ]
    }
   ],
   "source": [
    "from collections import deque\n",
    "\n",
    "N = int(input())\n",
    "\n",
    "def DQ():\n",
    "    def __init__(self):\n",
    "        self.size = 0\n",
    "        self.dq = deque([])\n",
    "        \n",
    "    def push(self, num):\n",
    "        self.dq.append(num)\n",
    "        self.size += 1\n",
    "    \n",
    "    def pop(self):\n",
    "        if self.size != 0:\n",
    "            first = self.dq.popleft()\n",
    "            self.size -= 1\n",
    "            print(first)\n",
    "\n",
    "        else:\n",
    "            print(-1)\n",
    "            \n",
    "    def empty(self):\n",
    "        if self.size != 0:\n",
    "            print(1)\n",
    "        else:\n",
    "            print(0)\n",
    "\n",
    "    def front(self):\n",
    "        if self.size == 0:\n",
    "            print(-1)\n",
    "        else:\n",
    "            print(self.dq[0])\n",
    "    \n",
    "    def back(self):\n",
    "        if self.size == 0:\n",
    "            print(-1)\n",
    "        else:\n",
    "            print(self.dq[-1])\n",
    "\n",
    "dq = DQ()\n",
    "Total = input().split()\n",
    "for i in range(N):\n",
    "    order = Total[i]\n",
    "    \n",
    "    if order.startswith('push'):\n",
    "        dq.push(int(order[-1]))\n",
    "    \n",
    "    elif order== 'pop':\n",
    "        dq.pop()\n",
    "    elif order == 'front':\n",
    "        dq.front()\n",
    "    elif order == 'back':\n",
    "        dq.back()\n",
    "    elif order== 'size':\n",
    "        print(dq.size)\n",
    "    elif order == 'empty':\n",
    "        dq.empty()\n"
   ]
  },
  {
   "cell_type": "markdown",
   "metadata": {},
   "source": [
    "# 1966"
   ]
  },
  {
   "cell_type": "code",
   "execution_count": 1,
   "metadata": {},
   "outputs": [
    {
     "name": "stdout",
     "output_type": "stream",
     "text": [
      "1\n",
      "4 2\n"
     ]
    },
    {
     "ename": "AttributeError",
     "evalue": "'str' object has no attribute 'spilt'",
     "output_type": "error",
     "traceback": [
      "\u001b[1;31m---------------------------------------------------------------------------\u001b[0m",
      "\u001b[1;31mAttributeError\u001b[0m                            Traceback (most recent call last)",
      "\u001b[1;32m<ipython-input-1-346eaa314b7c>\u001b[0m in \u001b[0;36m<module>\u001b[1;34m\u001b[0m\n\u001b[0;32m      4\u001b[0m \u001b[0mT\u001b[0m \u001b[1;33m=\u001b[0m \u001b[0mint\u001b[0m\u001b[1;33m(\u001b[0m\u001b[0minput\u001b[0m\u001b[1;33m(\u001b[0m\u001b[1;33m)\u001b[0m\u001b[1;33m)\u001b[0m\u001b[1;33m\u001b[0m\u001b[1;33m\u001b[0m\u001b[0m\n\u001b[0;32m      5\u001b[0m \u001b[1;32mfor\u001b[0m \u001b[0m_\u001b[0m \u001b[1;32min\u001b[0m \u001b[0mrange\u001b[0m\u001b[1;33m(\u001b[0m\u001b[0mT\u001b[0m\u001b[1;33m)\u001b[0m\u001b[1;33m:\u001b[0m\u001b[1;33m\u001b[0m\u001b[1;33m\u001b[0m\u001b[0m\n\u001b[1;32m----> 6\u001b[1;33m     \u001b[0mN\u001b[0m\u001b[1;33m,\u001b[0m \u001b[0mM\u001b[0m \u001b[1;33m=\u001b[0m \u001b[0mmap\u001b[0m\u001b[1;33m(\u001b[0m\u001b[0mint\u001b[0m\u001b[1;33m,\u001b[0m\u001b[0minput\u001b[0m\u001b[1;33m(\u001b[0m\u001b[1;33m)\u001b[0m\u001b[1;33m.\u001b[0m\u001b[0mspilt\u001b[0m\u001b[1;33m(\u001b[0m\u001b[1;33m)\u001b[0m\u001b[1;33m)\u001b[0m\u001b[1;33m\u001b[0m\u001b[1;33m\u001b[0m\u001b[0m\n\u001b[0m\u001b[0;32m      7\u001b[0m \u001b[1;33m\u001b[0m\u001b[0m\n\u001b[0;32m      8\u001b[0m     \u001b[0mImportance\u001b[0m \u001b[1;33m=\u001b[0m \u001b[0mlist\u001b[0m\u001b[1;33m(\u001b[0m\u001b[0mmap\u001b[0m\u001b[1;33m(\u001b[0m\u001b[0mint\u001b[0m\u001b[1;33m,\u001b[0m\u001b[0minput\u001b[0m\u001b[1;33m(\u001b[0m\u001b[1;33m)\u001b[0m\u001b[1;33m.\u001b[0m\u001b[0msplit\u001b[0m\u001b[1;33m(\u001b[0m\u001b[1;33m)\u001b[0m\u001b[1;33m)\u001b[0m\u001b[1;33m)\u001b[0m \u001b[1;31m# 0 ~ N-1 문서의 중요도\u001b[0m\u001b[1;33m\u001b[0m\u001b[1;33m\u001b[0m\u001b[0m\n",
      "\u001b[1;31mAttributeError\u001b[0m: 'str' object has no attribute 'spilt'"
     ]
    }
   ],
   "source": [
    "# dictionary (key:value = num : importance) 와 같은 형태로 생성\n",
    "from collections import deque\n",
    "\n",
    "T = int(input())\n",
    "for _ in range(T):\n",
    "    N, M = map(int,input().split())\n",
    "    \n",
    "    Importance = list(map(int,input().split())) # 0 ~ N-1 문서의 중요도\n",
    "    num_importance = {}\n",
    "    dq = deque([])\n",
    "    for i in range(N):\n",
    "        num_importance[i] = Importance[i] # key에 0 ~ N-1 문서 넣기\n",
    "        dq.append(i)\n",
    "    \n",
    "    num_printed_doc = 0 # 현재까지 인쇄된 문서 수\n",
    "    while True:\n",
    "        cur = dq.popleft()\n",
    "        cur_importance = num_importance[cur]\n",
    "        for num in dq:\n",
    "            # pop된 문서보다 중요도 큰 문서 있는지 파악\n",
    "            if cur_importance < num_importance[num]:\n",
    "                dq.append(cur)\n",
    "                break\n",
    "        # 만약 뒤의 모든 문서 중 중요도 더 큰 것이 없다면 인쇄\n",
    "        else:\n",
    "            num_printed_doc += 1 # 인쇄된 문서 수 1개 더하기\n",
    "            if cur == M: # 만약 우리가 원하는 수라면 break 하고 끝\n",
    "                break\n",
    "    print(num_printed_doc)"
   ]
  },
  {
   "cell_type": "markdown",
   "metadata": {},
   "source": [
    "# 11866"
   ]
  },
  {
   "cell_type": "code",
   "execution_count": 6,
   "metadata": {},
   "outputs": [
    {
     "name": "stdout",
     "output_type": "stream",
     "text": [
      "7 3\n",
      "<3, 6, 2, 7, 5, 1, 4>\n"
     ]
    }
   ],
   "source": [
    "from collections import deque\n",
    "N ,K = map(int,input().split())\n",
    "\n",
    "dq = deque([])\n",
    "for num in range(1,N+1):\n",
    "    dq.append(num)\n",
    "\n",
    "count_k = 1\n",
    "print_order_list = []\n",
    "# dq에 원소가 있는 동안 반복\n",
    "while dq:\n",
    "    # 숫자를 K - 1개 세게 되면 while을 빠져나가고, K번 째 수를 인쇄\n",
    "    while count_k < K:\n",
    "        exit_to_entrance = dq.popleft()\n",
    "        dq.append(exit_to_entrance)\n",
    "        count_k +=1\n",
    "    out = dq.popleft()\n",
    "    print_order_list.append(out)\n",
    "    count_k = 1 # count_k 를 다시 1로 초기화해서 다시 K 번째 수 세기\n",
    "# print\n",
    "print(f'<{print_order_list[0]}',end='')\n",
    "for num in print_order_list[1:]:\n",
    "    print(',',num, end='')\n",
    "print('>')"
   ]
  },
  {
   "cell_type": "code",
   "execution_count": null,
   "metadata": {},
   "outputs": [],
   "source": []
  }
 ],
 "metadata": {
  "kernelspec": {
   "display_name": "Python 3",
   "language": "python",
   "name": "python3"
  },
  "language_info": {
   "codemirror_mode": {
    "name": "ipython",
    "version": 3
   },
   "file_extension": ".py",
   "mimetype": "text/x-python",
   "name": "python",
   "nbconvert_exporter": "python",
   "pygments_lexer": "ipython3",
   "version": "3.9.4"
  }
 },
 "nbformat": 4,
 "nbformat_minor": 4
}
