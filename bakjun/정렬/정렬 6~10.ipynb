{
 "cells": [
  {
   "cell_type": "markdown",
   "metadata": {},
   "source": [
    "# 18870 번"
   ]
  },
  {
   "cell_type": "markdown",
   "metadata": {},
   "source": [
    "# 18870-1 완전탐색"
   ]
  },
  {
   "cell_type": "code",
   "execution_count": 2,
   "metadata": {},
   "outputs": [
    {
     "name": "stdout",
     "output_type": "stream",
     "text": [
      "5\n",
      "1 5 2 3 1\n"
     ]
    },
    {
     "ename": "TypeError",
     "evalue": "'int' object is not subscriptable",
     "output_type": "error",
     "traceback": [
      "\u001b[1;31m---------------------------------------------------------------------------\u001b[0m",
      "\u001b[1;31mTypeError\u001b[0m                                 Traceback (most recent call last)",
      "\u001b[1;32m<ipython-input-2-46585b9c3fbb>\u001b[0m in \u001b[0;36m<module>\u001b[1;34m\u001b[0m\n\u001b[0;32m      7\u001b[0m     \u001b[0mcount\u001b[0m \u001b[1;33m=\u001b[0m \u001b[1;36m0\u001b[0m\u001b[1;33m\u001b[0m\u001b[1;33m\u001b[0m\u001b[0m\n\u001b[0;32m      8\u001b[0m     \u001b[1;32mfor\u001b[0m \u001b[0mj\u001b[0m \u001b[1;32min\u001b[0m \u001b[0mrange\u001b[0m\u001b[1;33m(\u001b[0m\u001b[0mN\u001b[0m\u001b[1;33m)\u001b[0m\u001b[1;33m:\u001b[0m\u001b[1;33m\u001b[0m\u001b[1;33m\u001b[0m\u001b[0m\n\u001b[1;32m----> 9\u001b[1;33m         \u001b[1;32mif\u001b[0m \u001b[0marr\u001b[0m\u001b[1;33m[\u001b[0m\u001b[0mj\u001b[0m\u001b[1;33m]\u001b[0m \u001b[1;33m<\u001b[0m \u001b[0mcur\u001b[0m\u001b[1;33m[\u001b[0m\u001b[0mj\u001b[0m\u001b[1;33m]\u001b[0m\u001b[1;33m:\u001b[0m\u001b[1;33m\u001b[0m\u001b[1;33m\u001b[0m\u001b[0m\n\u001b[0m\u001b[0;32m     10\u001b[0m             \u001b[0mcount\u001b[0m \u001b[1;33m+=\u001b[0m \u001b[1;36m1\u001b[0m\u001b[1;33m\u001b[0m\u001b[1;33m\u001b[0m\u001b[0m\n\u001b[0;32m     11\u001b[0m     \u001b[0mresult\u001b[0m\u001b[1;33m[\u001b[0m\u001b[0mi\u001b[0m\u001b[1;33m]\u001b[0m \u001b[1;33m=\u001b[0m \u001b[0mcount\u001b[0m\u001b[1;33m\u001b[0m\u001b[1;33m\u001b[0m\u001b[0m\n",
      "\u001b[1;31mTypeError\u001b[0m: 'int' object is not subscriptable"
     ]
    }
   ],
   "source": [
    "import sys\n",
    "N = int(input())\n",
    "arr = list(map(int,sys.stdin.readline().split()))\n",
    "result = [0]*N\n",
    "\n",
    "for i in range(N):\n",
    "    cur = arr[i]\n",
    "    count = 0\n",
    "    for j in range(N):\n",
    "        if arr[j] < cur:\n",
    "            count += 1\n",
    "    result[i] = count\n",
    "print(*result)"
   ]
  },
  {
   "cell_type": "markdown",
   "metadata": {},
   "source": [
    "## 18870 -2 완전탐색 + dictionary 활용"
   ]
  },
  {
   "cell_type": "code",
   "execution_count": 3,
   "metadata": {},
   "outputs": [
    {
     "name": "stdout",
     "output_type": "stream",
     "text": [
      "1\n"
     ]
    },
    {
     "ename": "IndexError",
     "evalue": "list index out of range",
     "output_type": "error",
     "traceback": [
      "\u001b[1;31m---------------------------------------------------------------------------\u001b[0m",
      "\u001b[1;31mIndexError\u001b[0m                                Traceback (most recent call last)",
      "\u001b[1;32m<ipython-input-3-b2efba3170d8>\u001b[0m in \u001b[0;36m<module>\u001b[1;34m\u001b[0m\n\u001b[0;32m      5\u001b[0m \u001b[0mdic\u001b[0m\u001b[1;33m=\u001b[0m\u001b[1;33m{\u001b[0m\u001b[1;33m}\u001b[0m\u001b[1;33m\u001b[0m\u001b[1;33m\u001b[0m\u001b[0m\n\u001b[0;32m      6\u001b[0m \u001b[1;32mfor\u001b[0m \u001b[0mi\u001b[0m \u001b[1;32min\u001b[0m \u001b[0mrange\u001b[0m\u001b[1;33m(\u001b[0m\u001b[0mN\u001b[0m\u001b[1;33m)\u001b[0m\u001b[1;33m:\u001b[0m\u001b[1;33m\u001b[0m\u001b[1;33m\u001b[0m\u001b[0m\n\u001b[1;32m----> 7\u001b[1;33m     \u001b[0mcur\u001b[0m \u001b[1;33m=\u001b[0m \u001b[0marr\u001b[0m\u001b[1;33m[\u001b[0m\u001b[0mi\u001b[0m\u001b[1;33m]\u001b[0m\u001b[1;33m\u001b[0m\u001b[1;33m\u001b[0m\u001b[0m\n\u001b[0m\u001b[0;32m      8\u001b[0m     \u001b[1;32mif\u001b[0m \u001b[0mcur\u001b[0m \u001b[1;32mnot\u001b[0m \u001b[1;32min\u001b[0m \u001b[0mdic\u001b[0m\u001b[1;33m:\u001b[0m\u001b[1;33m\u001b[0m\u001b[1;33m\u001b[0m\u001b[0m\n\u001b[0;32m      9\u001b[0m         \u001b[0mcount\u001b[0m \u001b[1;33m=\u001b[0m \u001b[1;36m0\u001b[0m\u001b[1;33m\u001b[0m\u001b[1;33m\u001b[0m\u001b[0m\n",
      "\u001b[1;31mIndexError\u001b[0m: list index out of range"
     ]
    }
   ],
   "source": [
    "import sys\n",
    "N = int(input())\n",
    "arr = list(map(int,sys.stdin.readline().split()))\n",
    "result = [0]*N\n",
    "dic={}\n",
    "for i in range(N):\n",
    "    cur = arr[i]\n",
    "    if cur not in dic:\n",
    "        count = 0\n",
    "        for j in range(N):\n",
    "            if arr[j] < cur:\n",
    "                count += 1\n",
    "        result[i] = count\n",
    "        dic[i] = count\n",
    "    else:\n",
    "        result[i] = dic[i]\n",
    "        \n",
    "print(*result)"
   ]
  },
  {
   "cell_type": "markdown",
   "metadata": {},
   "source": [
    "## 18870-3 merge sort + dictionary"
   ]
  },
  {
   "cell_type": "code",
   "execution_count": 36,
   "metadata": {},
   "outputs": [
    {
     "name": "stdout",
     "output_type": "stream",
     "text": [
      "3\n",
      "1 3 2\n",
      "0 2 1 "
     ]
    }
   ],
   "source": [
    "# merge sorting 후 탐색하여 자신 보다 작은 수 세어서 dictionary 이용\n",
    "\n",
    "# 1. input\n",
    "import sys\n",
    "N = int(input())\n",
    "arr = list(map(int,input().split()))\n",
    "\n",
    "# 2. merge sort\n",
    "def merge_sort(lst:list):\n",
    "    if len(lst) <= 1:\n",
    "        return lst\n",
    "    \n",
    "    mid = len(lst)//2\n",
    "    left = merge_sort(lst[:mid])\n",
    "    right = merge_sort(lst[mid:])\n",
    "    #print(f\"left {left}, right {right}\")\n",
    "    return merge(left, right)\n",
    "\n",
    "def merge(left,right):\n",
    "    l , r = 0, 0\n",
    "    result = []\n",
    "    while l < len(left) and r < len(right):\n",
    "        if left[l] < right[r]:\n",
    "            result.append(left[l])\n",
    "            l+=1\n",
    "        else:\n",
    "            result.append(right[r])\n",
    "            r+=1\n",
    "    \n",
    "    result += left[l:] + right[r:]\n",
    "    return result\n",
    "    \n",
    "    \n",
    "\n",
    "\n",
    "# 3. 횟수\n",
    "count_dict = {}\n",
    "sorted_arr = merge_sort(arr)\n",
    "#print(f\"arr : {arr}\")\n",
    "#print(f\"sorted_arr : {sorted_arr}\")\n",
    "# 3 - 1. count_dict에 각 숫자보다 작은 것 몇개 있는지 입력\n",
    "count_dict[sorted_arr[0]] = 0\n",
    "for i in range(1,N):\n",
    "    # cur_num = sorted_arr[i]\n",
    "    if sorted_arr[i] not in count_dict: # 처음 그 숫자가 나왔을 때, 해당 숫자보다 작은 수는 list 상에 i 개 있음\n",
    "        #count_dict[sorted_arr[i]] = i\n",
    "        count_dict[sorted_arr[i]] = len(set(sorted_arr[:i]))\n",
    "        #print(count_dict)\n",
    "\n",
    "# 3-2. 결과출력\n",
    "for i in range(N):\n",
    "    print(count_dict[arr[i]], end=' ')"
   ]
  },
  {
   "cell_type": "code",
   "execution_count": 19,
   "metadata": {},
   "outputs": [
    {
     "name": "stdout",
     "output_type": "stream",
     "text": [
      "left [5], right [1]\n",
      "left [2], right [41]\n",
      "left [1, 5], right [2, 41]\n",
      "left [512], right [5124]\n",
      "left [235], right [23]\n",
      "left [124], right [23, 235]\n",
      "left [512, 5124], right [23, 124, 235]\n",
      "left [1, 2, 5, 41], right [23, 124, 235, 512, 5124]\n"
     ]
    },
    {
     "data": {
      "text/plain": [
       "[1, 2, 5, 23, 41, 124, 235, 512, 5124]"
      ]
     },
     "execution_count": 19,
     "metadata": {},
     "output_type": "execute_result"
    }
   ],
   "source": [
    "merge_sort([5,1,2,41,512,5124,124,235,23])"
   ]
  },
  {
   "cell_type": "code",
   "execution_count": 20,
   "metadata": {},
   "outputs": [
    {
     "name": "stdout",
     "output_type": "stream",
     "text": [
      "left [1], right [4]\n",
      "left [2], right [3]\n",
      "left [1, 4], right [2, 3]\n"
     ]
    },
    {
     "data": {
      "text/plain": [
       "[1, 2, 3, 4]"
      ]
     },
     "execution_count": 20,
     "metadata": {},
     "output_type": "execute_result"
    }
   ],
   "source": [
    "merge_sort([1, 4, 2, 3])"
   ]
  },
  {
   "cell_type": "code",
   "execution_count": 30,
   "metadata": {},
   "outputs": [
    {
     "data": {
      "text/plain": [
       "0"
      ]
     },
     "execution_count": 30,
     "metadata": {},
     "output_type": "execute_result"
    }
   ],
   "source": [
    "len(set([1][:0]))"
   ]
  },
  {
   "cell_type": "code",
   "execution_count": 47,
   "metadata": {},
   "outputs": [
    {
     "name": "stdout",
     "output_type": "stream",
     "text": [
      "5\n",
      "1 2 2 3 3\n",
      "i : 0 sorted_arr[i] : 1\n",
      "i : 0, count_dcit :{1: 0, 2: 1}\n",
      "i : 1 sorted_arr[i] : 2\n",
      "i : 1, count_dcit :{1: 0, 2: 1}\n",
      "i : 2 sorted_arr[i] : 2\n",
      "i : 2, count_dcit :{1: 0, 2: 1, 3: 2}\n",
      "i : 3 sorted_arr[i] : 3\n",
      "i : 3, count_dcit :{1: 0, 2: 1, 3: 2}\n",
      "0 1 1 2 2 "
     ]
    }
   ],
   "source": [
    "# merge sorting 후 탐색하여 자신 보다 작은 수 세어서 dictionary 이용\n",
    "\n",
    "# 1. input\n",
    "import sys\n",
    "N = int(input())\n",
    "arr = list(map(int,input().split()))\n",
    "\n",
    "# 2. merge sort\n",
    "def merge_sort(lst:list):\n",
    "    if len(lst) <= 1:\n",
    "        return lst\n",
    "    \n",
    "    mid = len(lst)//2\n",
    "    left = merge_sort(lst[:mid])\n",
    "    right = merge_sort(lst[mid:])\n",
    "    #print(f\"left {left}, right {right}\")\n",
    "    return merge(left, right)\n",
    "\n",
    "def merge(left,right):\n",
    "    l , r = 0, 0\n",
    "    result = []\n",
    "    while l < len(left) and r < len(right):\n",
    "        if left[l] < right[r]:\n",
    "            result.append(left[l])\n",
    "            l+=1\n",
    "        else:\n",
    "            result.append(right[r])\n",
    "            r+=1\n",
    "    \n",
    "    result += left[l:] + right[r:]\n",
    "    return result\n",
    "    \n",
    "    \n",
    "\n",
    "\n",
    "# 3. 횟수\n",
    "count_dict = {}\n",
    "sorted_arr = merge_sort(arr)\n",
    "#print(f\"arr : {arr}\")\n",
    "#print(f\"sorted_arr : {sorted_arr}\")\n",
    "# 3 - 1. count_dict에 각 숫자보다 작은 것 몇개 있는지 입력\n",
    "duplicated = 0\n",
    "count_dict[sorted_arr[0]] = 0\n",
    "for i in range(N-1):\n",
    "    # 뒤의 것이 앞에 것과 같으면 중복 1개 추가\n",
    "    print(f\"i : {i} sorted_arr[i] : {sorted_arr[i]}\")\n",
    "    if sorted_arr[i+1] == sorted_arr[i]:\n",
    "        duplicated += 1\n",
    "    else:  #sorted_arr[i+1] != sorted_arr[i]:\n",
    "        # 뒤의 것이 앞에 것과 다르면, 뒤에 것 추가\n",
    "        count_dict[sorted_arr[i+1]] = i+1 - duplicated  # 자신보다 작으면서 중복되지 않은 것의 개수\n",
    "    print(f\"i : {i}, count_dcit :{count_dict}\")\n",
    "\n",
    "    \n",
    "\n",
    "# 3-2. 결과출력\n",
    "for i in range(N):\n",
    "    print(count_dict[arr[i]], end=' ')"
   ]
  },
  {
   "cell_type": "markdown",
   "metadata": {},
   "source": [
    "### "
   ]
  },
  {
   "cell_type": "code",
   "execution_count": 55,
   "metadata": {},
   "outputs": [
    {
     "name": "stdout",
     "output_type": "stream",
     "text": [
      "5\n",
      "1 1 2 2 3\n",
      "n:[1, 1, 2, 2, 3]\n",
      "d : {1: 0, 2: 1, 3: 2}\n",
      "0 0 1 1 2\n"
     ]
    }
   ],
   "source": [
    "input()\n",
    "n=[*map(int,input().split())]\n",
    "print(f\"n:{n}\")\n",
    "d={j:i for i,j in enumerate(sorted({*n}))}\n",
    "print(f\"d : {d}\")\n",
    "print(*[d[i]for i in n])"
   ]
  },
  {
   "cell_type": "code",
   "execution_count": 76,
   "metadata": {},
   "outputs": [
    {
     "name": "stdout",
     "output_type": "stream",
     "text": [
      "4\n",
      "100 200 300 200\n",
      "n:[100, 200, 300, 200]\n",
      " key: 100, value:0 \n",
      " key: 200, value:1 \n",
      " key: 300, value:2 \n",
      "d : {100: 0, 200: 1, 300: 2}\n",
      "0 1 2 1\n"
     ]
    }
   ],
   "source": [
    "input()\n",
    "n=[*map(int,input().split())]\n",
    "print(f\"n:{n}\")\n",
    "d = {}\n",
    "for i,j in enumerate(sorted({*n})):\n",
    "    d[j] = i\n",
    "    print(f\" key: {j}, value:{i} \")\n",
    "#d={j:i for i,j in enumerate(sorted({*n}))}\n",
    "print(f\"d : {d}\")\n",
    "print(*[d[i]for i in n])"
   ]
  },
  {
   "cell_type": "code",
   "execution_count": 78,
   "metadata": {},
   "outputs": [
    {
     "name": "stdout",
     "output_type": "stream",
     "text": [
      "0 1\n",
      "1 2\n",
      "2 3\n",
      "3 100\n",
      "4 4\n",
      "5 101\n"
     ]
    }
   ],
   "source": [
    "for idx, value in enumerate({*sorted([1,2,2,3,4,100,100,101])}):\n",
    "    print(idx, value)"
   ]
  },
  {
   "cell_type": "code",
   "execution_count": 84,
   "metadata": {},
   "outputs": [
    {
     "name": "stdout",
     "output_type": "stream",
     "text": [
      "0 200\n",
      "1 100\n",
      "2 300\n",
      "{200: 0, 100: 1, 300: 2}\n",
      "1 0 2 0\n"
     ]
    }
   ],
   "source": [
    "t = {}\n",
    "for idx, value in enumerate(set())):\n",
    "    print(idx, value)\n",
    "    t[value] = idx\n",
    "print(t)\n",
    "print(*[t[i]for i in [100,200,300,200]])"
   ]
  },
  {
   "cell_type": "code",
   "execution_count": 57,
   "metadata": {},
   "outputs": [
    {
     "name": "stdout",
     "output_type": "stream",
     "text": [
      "0 200\n",
      "1 100\n"
     ]
    }
   ],
   "source": [
    "for i,j in enumerate({*[100,200]}):\n",
    "    print(i,j)"
   ]
  },
  {
   "cell_type": "code",
   "execution_count": 70,
   "metadata": {},
   "outputs": [
    {
     "data": {
      "text/plain": [
       "{-1, 1, 2, 3, 4, 5, 6, 10, 100}"
      ]
     },
     "execution_count": 70,
     "metadata": {},
     "output_type": "execute_result"
    }
   ],
   "source": [
    "{*[1,2,3,4,5,6,100,-1,10]}"
   ]
  },
  {
   "cell_type": "code",
   "execution_count": 81,
   "metadata": {},
   "outputs": [
    {
     "data": {
      "text/plain": [
       "[100, 200, 200, 300]"
      ]
     },
     "execution_count": 81,
     "metadata": {},
     "output_type": "execute_result"
    }
   ],
   "source": [
    "sorted([100,200,300,200])"
   ]
  },
  {
   "cell_type": "code",
   "execution_count": 82,
   "metadata": {},
   "outputs": [
    {
     "name": "stdout",
     "output_type": "stream",
     "text": [
      "0 200\n",
      "1 100\n",
      "2 300\n",
      "{200: 0, 100: 1, 300: 2}\n",
      "1 0 2 0\n"
     ]
    }
   ],
   "source": [
    "n = [100,200,300,200]\n",
    "t = {}\n",
    "for idx, value in enumerate({*sorted(n)}):\n",
    "    print(idx, value)\n",
    "    t[value] = idx\n",
    "print(t)\n",
    "print(*[t[i]for i in [100,200,300,200]])"
   ]
  },
  {
   "cell_type": "code",
   "execution_count": 85,
   "metadata": {},
   "outputs": [
    {
     "ename": "SyntaxError",
     "evalue": "invalid syntax (<ipython-input-85-572eca0926f1>, line 11)",
     "output_type": "error",
     "traceback": [
      "\u001b[1;36m  File \u001b[1;32m\"<ipython-input-85-572eca0926f1>\"\u001b[1;36m, line \u001b[1;32m11\u001b[0m\n\u001b[1;33m    print(*[result_dict[value] for value in arr:])\u001b[0m\n\u001b[1;37m                                               ^\u001b[0m\n\u001b[1;31mSyntaxError\u001b[0m\u001b[1;31m:\u001b[0m invalid syntax\n"
     ]
    }
   ],
   "source": [
    "N = int(input())\n",
    "\n",
    "arr = list(map(int,input().split()))\n",
    "\n",
    "arr = sorted(list(set(arr)))\n",
    "\n",
    "result_dict = {}\n",
    "for count, value in enumerate(arr):\n",
    "    result_dict[value] = count\n",
    "\n",
    "print(*[result_dict[value] for value in arr])\n"
   ]
  },
  {
   "cell_type": "code",
   "execution_count": 89,
   "metadata": {},
   "outputs": [
    {
     "name": "stdout",
     "output_type": "stream",
     "text": [
      "5\n",
      "2 2 3 3 1\n",
      "[1, 2, 3]\n",
      "1 1 3 3 4\n"
     ]
    }
   ],
   "source": [
    "N = int(input())\n",
    "\n",
    "arr = list(map(int,input().split()))\n",
    "\n",
    "# set : 유일한 것 개수만 찾으면 됨\n",
    "# 그 후 list 로 만들어서 정렬하면 자기보다 작은 수가 몇개인지 인덱스로 알 수 있음\n",
    "arr2 = sorted(list(set(arr)))\n",
    "print(arr2)\n",
    "\n",
    "result_dict = {}\n",
    "# count가 자신의 인덱스이고, 이는 자신보다 작은 원소의 개수\n",
    "for count, value in enumerate(arr):\n",
    "    result_dict[value] = count\n",
    "\n",
    "print(*[result_dict[value] for value in arr])"
   ]
  },
  {
   "cell_type": "code",
   "execution_count": 90,
   "metadata": {},
   "outputs": [
    {
     "data": {
      "text/plain": [
       "['aa', 'ww', 'z']"
      ]
     },
     "execution_count": 90,
     "metadata": {},
     "output_type": "execute_result"
    }
   ],
   "source": [
    "sorted(['ww','aa','z'])"
   ]
  },
  {
   "cell_type": "code",
   "execution_count": 92,
   "metadata": {},
   "outputs": [
    {
     "data": {
      "text/plain": [
       "['yzzz', 'zyyy']"
      ]
     },
     "execution_count": 92,
     "metadata": {},
     "output_type": "execute_result"
    }
   ],
   "source": [
    "sorted(['yzzz','zyyy'])"
   ]
  },
  {
   "cell_type": "code",
   "execution_count": 95,
   "metadata": {},
   "outputs": [
    {
     "ename": "TypeError",
     "evalue": "cannot convert dictionary update sequence element #0 to a sequence",
     "output_type": "error",
     "traceback": [
      "\u001b[1;31m---------------------------------------------------------------------------\u001b[0m",
      "\u001b[1;31mTypeError\u001b[0m                                 Traceback (most recent call last)",
      "\u001b[1;32m<ipython-input-95-9d63daf40dd2>\u001b[0m in \u001b[0;36m<module>\u001b[1;34m\u001b[0m\n\u001b[1;32m----> 1\u001b[1;33m \u001b[0mdict\u001b[0m\u001b[1;33m(\u001b[0m\u001b[0mlist\u001b[0m\u001b[1;33m(\u001b[0m\u001b[0mrange\u001b[0m\u001b[1;33m(\u001b[0m\u001b[1;36m5\u001b[0m\u001b[1;33m)\u001b[0m\u001b[1;33m)\u001b[0m\u001b[1;33m)\u001b[0m\u001b[1;33m\u001b[0m\u001b[1;33m\u001b[0m\u001b[0m\n\u001b[0m",
      "\u001b[1;31mTypeError\u001b[0m: cannot convert dictionary update sequence element #0 to a sequence"
     ]
    }
   ],
   "source": [
    "dict(list(range(5)))"
   ]
  },
  {
   "cell_type": "code",
   "execution_count": 94,
   "metadata": {},
   "outputs": [
    {
     "data": {
      "text/plain": [
       "[0, 1, 2]"
      ]
     },
     "execution_count": 94,
     "metadata": {},
     "output_type": "execute_result"
    }
   ],
   "source": [
    "list(range(3))"
   ]
  },
  {
   "cell_type": "code",
   "execution_count": 96,
   "metadata": {},
   "outputs": [
    {
     "data": {
      "text/plain": [
       "[1, 100, 200, 3]"
      ]
     },
     "execution_count": 96,
     "metadata": {},
     "output_type": "execute_result"
    }
   ],
   "source": [
    "a = [1,5,2,3]\n",
    "a[1:3] = [100,200]\n",
    "a"
   ]
  },
  {
   "cell_type": "code",
   "execution_count": 106,
   "metadata": {},
   "outputs": [
    {
     "name": "stdout",
     "output_type": "stream",
     "text": [
      "3\n",
      "asdfasdf\n",
      "asdfasdf\n",
      "asdfsadfa\n",
      "asdfasdf asdfsadfa\n"
     ]
    }
   ],
   "source": [
    "# input\n",
    "\n",
    "N = int(input())\n",
    "\n",
    "arr = [input() for _ in range(N)]\n",
    "\n",
    "# 길이순 정렬함수\n",
    "def length_sort(lst):\n",
    "    #print(f\"lst : {lst}\")\n",
    "    if len(lst)<=1:\n",
    "        return lst\n",
    "    mid = len(lst)//2\n",
    "    left = lst[:mid]\n",
    "    right = lst[mid:]\n",
    "    #print(f\"before recursion, lst :{lst}, left: {left}, right : {right}  \")\n",
    "    left = length_sort(left)\n",
    "    right = length_sort(right)\n",
    "    #print(f\"after recursion lst : {lst}, left: {left}, right : {right} \")\n",
    "    return merge(left,right)\n",
    "\n",
    "def merge(left, right):\n",
    "    l, r = 0, 0\n",
    "    result = []\n",
    "    \n",
    "    while l < len(left) and r < len(right):\n",
    "        if len(left[l]) < len(right[r]):\n",
    "            result.append(left[l])\n",
    "            l+=1\n",
    "        else:\n",
    "            result.append(right[r])\n",
    "            r+=1\n",
    "    result += left[l:] + right[r:]\n",
    "    return result\n",
    "\n",
    "    \n",
    "def alpha_sort(lst,change_point):\n",
    "    n = len(lst)\n",
    "    result = [0]*n\n",
    "    change_point.insert(0,0)\n",
    "    change_point.append(n)\n",
    "    c = len(change_point)\n",
    "    \n",
    "    # c = [0,2,5,n] 라면 0,1 / 2,3,4 / 5,...,n-1 까지 같은 길이 글자임 / c[0]... / c[1]...n-1\n",
    "    for i in range(0,c-1):\n",
    "        start = change_point[i]\n",
    "        end = change_point[i+1] # i+1 포함 x\n",
    "        result[start:end] = sorted(lst[start:end])\n",
    "    return result\n",
    "        \n",
    "        \n",
    "        \n",
    "        \n",
    "\n",
    "# set으로 유일하게 만들고 / 리스트로 만들기\n",
    "unique_arr = list(set(arr))\n",
    "\n",
    "# 글자 개수 순 sorting\n",
    "length_sorted_arr = length_sort(unique_arr)\n",
    "\n",
    "# 글자 개수가 달라지는 idx 체크\n",
    "change_point = []\n",
    "for i in range(len(length_sorted_arr)-1):\n",
    "    # 앞의 것(i)과 뒤의 것(i+1)이 다르면 뒤의 인덱스(i+1)를 추가\n",
    "    if len(length_sorted_arr[i]) != len(length_sorted_arr[i+1]):\n",
    "        change_point.append(i+1)\n",
    "    \n",
    "# 길이가 같은 것들 알파벳 순 sorting\n",
    "result = alpha_sort(length_sorted_arr, change_point)\n",
    "\n",
    "print(*result)"
   ]
  },
  {
   "cell_type": "code",
   "execution_count": null,
   "metadata": {},
   "outputs": [],
   "source": [
    "# 2. merge sort\n",
    "def merge_sort(lst:list):\n",
    "    if len(lst) <= 1:\n",
    "        return lst\n",
    "    \n",
    "    mid = len(lst)//2\n",
    "    left = merge_sort(lst[:mid])\n",
    "    right = merge_sort(lst[mid:])\n",
    "    #print(f\"left {left}, right {right}\")\n",
    "    return merge(left, right)\n",
    "\n",
    "def merge(left,right):\n",
    "    l , r = 0, 0\n",
    "    result = []\n",
    "    while l < len(left) and r < len(right):\n",
    "        if left[l] < right[r]:\n",
    "            result.append(left[l])\n",
    "            l+=1\n",
    "        else:\n",
    "            result.append(right[r])\n",
    "            r+=1\n",
    "    \n",
    "    result += left[l:] + right[r:]\n",
    "    return result"
   ]
  },
  {
   "cell_type": "code",
   "execution_count": null,
   "metadata": {},
   "outputs": [],
   "source": []
  },
  {
   "cell_type": "code",
   "execution_count": 103,
   "metadata": {},
   "outputs": [
    {
     "name": "stdout",
     "output_type": "stream",
     "text": [
      "3\n",
      "asdf\n",
      "asdfb\n",
      "asdfa\n",
      "before recursion, lst :['asdf', 'asdfa', 'asdfb'], left: ['asdf'], right : ['asdfa', 'asdfb']  \n",
      "before recursion, lst :['asdfa', 'asdfb'], left: ['asdfa'], right : ['asdfb']  \n",
      "after recursion lst : ['asdfa', 'asdfb'], left: ['asdfa'], right : ['asdfb'] \n",
      "after recursion lst : ['asdf', 'asdfa', 'asdfb'], left: ['asdf'], right : None \n"
     ]
    },
    {
     "ename": "TypeError",
     "evalue": "object of type 'NoneType' has no len()",
     "output_type": "error",
     "traceback": [
      "\u001b[1;31m---------------------------------------------------------------------------\u001b[0m",
      "\u001b[1;31mTypeError\u001b[0m                                 Traceback (most recent call last)",
      "\u001b[1;32m<ipython-input-103-fc76815ad10f>\u001b[0m in \u001b[0;36m<module>\u001b[1;34m\u001b[0m\n\u001b[0;32m     54\u001b[0m \u001b[1;33m\u001b[0m\u001b[0m\n\u001b[0;32m     55\u001b[0m \u001b[1;31m# 글자 개수 순 sorting\u001b[0m\u001b[1;33m\u001b[0m\u001b[1;33m\u001b[0m\u001b[1;33m\u001b[0m\u001b[0m\n\u001b[1;32m---> 56\u001b[1;33m \u001b[0mlength_sorted_arr\u001b[0m \u001b[1;33m=\u001b[0m \u001b[0mlength_sort\u001b[0m\u001b[1;33m(\u001b[0m\u001b[0munique_arr\u001b[0m\u001b[1;33m)\u001b[0m\u001b[1;33m\u001b[0m\u001b[1;33m\u001b[0m\u001b[0m\n\u001b[0m\u001b[0;32m     57\u001b[0m \u001b[1;33m\u001b[0m\u001b[0m\n\u001b[0;32m     58\u001b[0m \u001b[1;31m# 글자 개수가 달라지는 idx 체크\u001b[0m\u001b[1;33m\u001b[0m\u001b[1;33m\u001b[0m\u001b[1;33m\u001b[0m\u001b[0m\n",
      "\u001b[1;32m<ipython-input-103-fc76815ad10f>\u001b[0m in \u001b[0;36mlength_sort\u001b[1;34m(lst)\u001b[0m\n\u001b[0;32m     17\u001b[0m     \u001b[0mright\u001b[0m \u001b[1;33m=\u001b[0m \u001b[0mlength_sort\u001b[0m\u001b[1;33m(\u001b[0m\u001b[0mright\u001b[0m\u001b[1;33m)\u001b[0m\u001b[1;33m\u001b[0m\u001b[1;33m\u001b[0m\u001b[0m\n\u001b[0;32m     18\u001b[0m     \u001b[0mprint\u001b[0m\u001b[1;33m(\u001b[0m\u001b[1;34mf\"after recursion lst : {lst}, left: {left}, right : {right} \"\u001b[0m\u001b[1;33m)\u001b[0m\u001b[1;33m\u001b[0m\u001b[1;33m\u001b[0m\u001b[0m\n\u001b[1;32m---> 19\u001b[1;33m     \u001b[1;32mreturn\u001b[0m \u001b[0mmerge\u001b[0m\u001b[1;33m(\u001b[0m\u001b[0mleft\u001b[0m\u001b[1;33m,\u001b[0m\u001b[0mright\u001b[0m\u001b[1;33m)\u001b[0m\u001b[1;33m\u001b[0m\u001b[1;33m\u001b[0m\u001b[0m\n\u001b[0m\u001b[0;32m     20\u001b[0m \u001b[1;33m\u001b[0m\u001b[0m\n\u001b[0;32m     21\u001b[0m \u001b[1;32mdef\u001b[0m \u001b[0mmerge\u001b[0m\u001b[1;33m(\u001b[0m\u001b[0mleft\u001b[0m\u001b[1;33m,\u001b[0m \u001b[0mright\u001b[0m\u001b[1;33m)\u001b[0m\u001b[1;33m:\u001b[0m\u001b[1;33m\u001b[0m\u001b[1;33m\u001b[0m\u001b[0m\n",
      "\u001b[1;32m<ipython-input-103-fc76815ad10f>\u001b[0m in \u001b[0;36mmerge\u001b[1;34m(left, right)\u001b[0m\n\u001b[0;32m     23\u001b[0m     \u001b[0mresult\u001b[0m \u001b[1;33m=\u001b[0m \u001b[1;33m[\u001b[0m\u001b[1;33m]\u001b[0m\u001b[1;33m\u001b[0m\u001b[1;33m\u001b[0m\u001b[0m\n\u001b[0;32m     24\u001b[0m \u001b[1;33m\u001b[0m\u001b[0m\n\u001b[1;32m---> 25\u001b[1;33m     \u001b[1;32mwhile\u001b[0m \u001b[0ml\u001b[0m \u001b[1;33m<\u001b[0m \u001b[0mlen\u001b[0m\u001b[1;33m(\u001b[0m\u001b[0mleft\u001b[0m\u001b[1;33m)\u001b[0m \u001b[1;32mand\u001b[0m \u001b[0mr\u001b[0m \u001b[1;33m<\u001b[0m \u001b[0mlen\u001b[0m\u001b[1;33m(\u001b[0m\u001b[0mright\u001b[0m\u001b[1;33m)\u001b[0m\u001b[1;33m:\u001b[0m\u001b[1;33m\u001b[0m\u001b[1;33m\u001b[0m\u001b[0m\n\u001b[0m\u001b[0;32m     26\u001b[0m         \u001b[1;32mif\u001b[0m \u001b[0mlen\u001b[0m\u001b[1;33m(\u001b[0m\u001b[0mleft\u001b[0m\u001b[1;33m[\u001b[0m\u001b[0ml\u001b[0m\u001b[1;33m]\u001b[0m\u001b[1;33m)\u001b[0m \u001b[1;33m<\u001b[0m \u001b[0mlen\u001b[0m\u001b[1;33m(\u001b[0m\u001b[0mright\u001b[0m\u001b[1;33m[\u001b[0m\u001b[0mr\u001b[0m\u001b[1;33m]\u001b[0m\u001b[1;33m)\u001b[0m\u001b[1;33m:\u001b[0m\u001b[1;33m\u001b[0m\u001b[1;33m\u001b[0m\u001b[0m\n\u001b[0;32m     27\u001b[0m             \u001b[0mresult\u001b[0m\u001b[1;33m.\u001b[0m\u001b[0mappend\u001b[0m\u001b[1;33m(\u001b[0m\u001b[0mleft\u001b[0m\u001b[1;33m[\u001b[0m\u001b[0ml\u001b[0m\u001b[1;33m]\u001b[0m\u001b[1;33m)\u001b[0m\u001b[1;33m\u001b[0m\u001b[1;33m\u001b[0m\u001b[0m\n",
      "\u001b[1;31mTypeError\u001b[0m: object of type 'NoneType' has no len()"
     ]
    }
   ],
   "source": [
    "# input\n",
    "\n",
    "N = int(input())\n",
    "\n",
    "arr = [input() for _ in range(N)]\n",
    "\n",
    "# 길이순 정렬함수\n",
    "def length_sort(lst):\n",
    "    #print(f\"lst : {lst}\")\n",
    "    if len(lst)<=1:\n",
    "        return lst\n",
    "    mid = len(lst)//2\n",
    "    left = lst[:mid]\n",
    "    right = lst[mid:]\n",
    "    print(f\"before recursion, lst :{lst}, left: {left}, right : {right}  \")\n",
    "    left = length_sort(left)\n",
    "    right = length_sort(right)\n",
    "    print(f\"after recursion lst : {lst}, left: {left}, right : {right} \")\n",
    "    return merge(left,right)\n",
    "\n",
    "def merge(left, right):\n",
    "    l, r = 0, 0\n",
    "    result = []\n",
    "    \n",
    "    while l < len(left) and r < len(right):\n",
    "        if len(left[l]) < len(right[r]):\n",
    "            result.append(left[l])\n",
    "            l+=1\n",
    "        else:\n",
    "            result.append(right[r])\n",
    "            r+=1\n",
    "    result += left[l:] + right[r:]\n",
    "    \n",
    "def alpha_sort(lst,change_point):\n",
    "    n = len(lst)\n",
    "    result = [0]*n\n",
    "    change_point.insert(0,0)\n",
    "    change_point.append(n)\n",
    "    c = len(change_point)\n",
    "    \n",
    "    # c = [0,2,5,n] 라면 0,1 / 2,3,4 / 5,...,n-1 까지 같은 길이 글자임 / c[0]... / c[1]...n-1\n",
    "    for i in range(0,c-1):\n",
    "        start = c[i]\n",
    "        end = c[i+1] # i+1 포함 x\n",
    "        result[start:end] = sorted(lst[start:end])\n",
    "    return result\n",
    "        \n",
    "        \n",
    "        \n",
    "        \n",
    "\n",
    "# set으로 유일하게 만들고 / 리스트로 만들기\n",
    "unique_arr = list(set(arr))\n",
    "\n",
    "# 글자 개수 순 sorting\n",
    "length_sorted_arr = length_sort(unique_arr)\n",
    "\n",
    "# 글자 개수가 달라지는 idx 체크\n",
    "change_point = []\n",
    "for i in range(len(length_sorted_arr)-1):\n",
    "    # 앞의 것(i)과 뒤의 것(i+1)이 다르면 뒤의 인덱스(i+1)를 추가\n",
    "    if len(length_sorted_arr[i]) != len(length_sorted_arr[i+1]):\n",
    "        change_point.append(i+1)\n",
    "    \n",
    "# 길이가 같은 것들 알파벳 순 sorting\n",
    "result = alpha_sort(length_sorted_arr, change_point)\n",
    "\n",
    "print(*result)"
   ]
  },
  {
   "cell_type": "code",
   "execution_count": 107,
   "metadata": {},
   "outputs": [
    {
     "name": "stdout",
     "output_type": "stream",
     "text": [
      "3\n",
      "asdfsad\n",
      "asdfsadf\n",
      "asdfasdf\n",
      "asdfsad asdfasdf asdfsadf\n"
     ]
    }
   ],
   "source": [
    "print(*sorted  (  sorted(  set(  input() for _ in range(int(input()))  )  ) ,key=len) )"
   ]
  },
  {
   "cell_type": "code",
   "execution_count": 109,
   "metadata": {},
   "outputs": [
    {
     "name": "stdout",
     "output_type": "stream",
     "text": [
      "['a', 'aac', 'ab', 'caa', 'cca']\n",
      "['a', 'ab', 'caa', 'cca', 'aac']\n"
     ]
    }
   ],
   "source": [
    "a = ['a','ab','caa','cca','aac']\n",
    "b = sorted(a)\n",
    "print(b)\n",
    "c = sorted(a, key=len)\n",
    "print(c)"
   ]
  },
  {
   "cell_type": "code",
   "execution_count": 119,
   "metadata": {},
   "outputs": [
    {
     "name": "stdout",
     "output_type": "stream",
     "text": [
      "2\n",
      "21 Junkyu\n",
      "21 Dohyun\n",
      "[[21, 'Junkyu'], [21, 'Dohyun']]\n",
      "[[21, 'Dohyun'], [21, 'Junkyu']]\n",
      "[21, 'Dohyun']\n",
      "[21, 'Junkyu']\n"
     ]
    }
   ],
   "source": [
    "N = int(input())\n",
    "\n",
    "arr = [input().split() for _ in range(N)]\n",
    "for i in range(N):\n",
    "    arr[i][0] = int(arr[i][0])\n",
    "print(arr)\n",
    "a = sorted(arr)\n",
    "print(a)\n",
    "for person in a:\n",
    "    print(*person)"
   ]
  },
  {
   "cell_type": "code",
   "execution_count": 118,
   "metadata": {},
   "outputs": [
    {
     "data": {
      "text/plain": [
       "[[0, '232'], [1, 'fdf'], [2, 'fdf']]"
      ]
     },
     "execution_count": 118,
     "metadata": {},
     "output_type": "execute_result"
    }
   ],
   "source": [
    "a = [[1,'fdf'],[2,'fdf'],[0,'232']]\n",
    "sorted(a)\n",
    "a.sort()\n",
    "a"
   ]
  },
  {
   "cell_type": "code",
   "execution_count": null,
   "metadata": {},
   "outputs": [],
   "source": [
    "N = int(input())\n",
    "\n",
    "arr = [input().split() for _ in range(N)]\n",
    "for i in range(N):\n",
    "    arr[i][0] = int(arr[i][0])\n",
    "print(arr)\n",
    "a = sorted(arr)\n",
    "#print(a)\n",
    "for person in a:\n",
    "    print(*person)"
   ]
  },
  {
   "cell_type": "code",
   "execution_count": null,
   "metadata": {},
   "outputs": [],
   "source": [
    "21 Junkyu\n",
    "21 Dohyun\n",
    "20 Sunyoung"
   ]
  },
  {
   "cell_type": "code",
   "execution_count": null,
   "metadata": {},
   "outputs": [],
   "source": [
    "# 2. merge sort\n",
    "def merge_sort(lst:list):\n",
    "    if len(lst) <= 1:\n",
    "        return lst\n",
    "    \n",
    "    mid = len(lst)//2\n",
    "    left = merge_sort(lst[:mid])\n",
    "    right = merge_sort(lst[mid:])\n",
    "    #print(f\"left {left}, right {right}\")\n",
    "    return merge(left, right)\n",
    "\n",
    "def merge(left,right):\n",
    "    l , r = 0, 0\n",
    "    result = []\n",
    "    while l < len(left) and r < len(right):\n",
    "        if left[l][0] <= right[r][0]:\n",
    "            result.append(left[l])\n",
    "            l+=1\n",
    "        else:\n",
    "            result.append(right[r])\n",
    "            r+=1\n",
    "    \n",
    "    result += left[l:] + right[r:]\n",
    "    return result\n",
    "\n",
    "N = int(input())\n",
    "\n",
    "arr = [input().split() for _ in range(N)]\n",
    "for i in range(N):\n",
    "    arr[i][0] = int(arr[i][0])\n",
    "#print(arr)\n",
    "a = merge_sort(arr)\n",
    "#print(a)\n",
    "for person in a:\n",
    "    print(*person)\n",
    "\n"
   ]
  }
 ],
 "metadata": {
  "kernelspec": {
   "display_name": "Python 3",
   "language": "python",
   "name": "python3"
  },
  "language_info": {
   "codemirror_mode": {
    "name": "ipython",
    "version": 3
   },
   "file_extension": ".py",
   "mimetype": "text/x-python",
   "name": "python",
   "nbconvert_exporter": "python",
   "pygments_lexer": "ipython3",
   "version": "3.9.4"
  }
 },
 "nbformat": 4,
 "nbformat_minor": 4
}
