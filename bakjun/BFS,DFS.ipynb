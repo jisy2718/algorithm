{
 "cells": [
  {
   "cell_type": "markdown",
   "metadata": {},
   "source": [
    "# 1260"
   ]
  },
  {
   "cell_type": "code",
   "execution_count": 18,
   "metadata": {},
   "outputs": [
    {
     "name": "stdout",
     "output_type": "stream",
     "text": [
      "4 5 1\n",
      "1 2\n",
      "1 3\n",
      "1 4\n",
      "2 4\n",
      "3 4\n",
      "1 2 4 3\n",
      "1 2 3 4\n"
     ]
    }
   ],
   "source": [
    "N, M, V = map(int,input().split())\n",
    "\n",
    "# adj matrix 생성 및 연결 반영\n",
    "adj = [ [0]*(N+1) for _ in range(N+1)] # index 1 ~ N 이용\n",
    "\n",
    "for _ in range(M):\n",
    "    v1, v2 = map(int,input().split())\n",
    "    adj[v1][v2] = 1\n",
    "    adj[v2][v1] = 1\n",
    "    \n",
    "# visited list 생성\n",
    "visited_DFS = [False]*(N+1)\n",
    "visited_BFS = [False]*(N+1)\n",
    "\n",
    "# DFS (stack 이용)\n",
    "# 방문 가능 정점 찾으면 바로 방문\n",
    "# stack 추가가 방문의 의미\n",
    "# stack에서 pop 되면 더 이상 이동할 정점 없다는 것\n",
    "path_DFS = [V]\n",
    "stack = [V]\n",
    "visited_DFS[V] = True\n",
    "while stack:\n",
    "    # cur 에서 정점 탐색 시작\n",
    "    cur = stack[-1]\n",
    "    \n",
    "    # 간선 추가 if not visited\n",
    "    for v in range(1,N+1): # 정점 번호가 작은 곳 부터 방문\n",
    "        if adj[cur][v] == 1 and visited_DFS[v] == False: # 방문 안한 곳 찾으면 바로 이동\n",
    "            stack.append(v)  # stack 추가시 방문\n",
    "            visited_DFS[v] = True\n",
    "            path_DFS.append(v)\n",
    "            break\n",
    "    else:\n",
    "        stack.pop() # 해당 노드가 더 이상 연결 된 간선 없는 경우 pop\n",
    "print(' '.join(map(str,path_DFS)))\n",
    "\n",
    "\n",
    "\n",
    "# BFS (큐 이용)\n",
    "from collections import deque\n",
    "path_BFS = []\n",
    "dq = deque([V])\n",
    "# 연결 된 곳 모두 deque에 넣기\n",
    "# 맨 앞의 것 popleft()하고 visited 여부 체크\n",
    "# not visited 라면 visit 하고 연결 된 곳 모두 deque에 넣기\n",
    "# visited 라면 다음으로 넘어가기\n",
    "while dq:\n",
    "    cur = dq.popleft() # popleft가 방문 여부 결정\n",
    "    if visited_BFS[cur] == False: # False 인 경우에만 방문\n",
    "        path_BFS.append(cur)\n",
    "        visited_BFS[cur] = True\n",
    "        for v in range(1,N+1): # 정점 번호가 작은 곳 부터 방문\n",
    "            if adj[cur][v] == 1 and visited_BFS[v]==False:\n",
    "                dq.append(v)\n",
    "print(' '.join(map(str,path_BFS)))\n",
    "                         \n",
    "         \n"
   ]
  },
  {
   "cell_type": "code",
   "execution_count": 1,
   "metadata": {},
   "outputs": [
    {
     "name": "stdout",
     "output_type": "stream",
     "text": [
      "3 5 6\n"
     ]
    }
   ],
   "source": [
    "4 5 1\n",
    "1 2\n",
    "1 3\n",
    "1 4\n",
    "2 4\n",
    "3 4"
   ]
  },
  {
   "cell_type": "markdown",
   "metadata": {},
   "source": [
    "# 2606 번 / 연결된 덩어리의 원소개수 구하기"
   ]
  },
  {
   "cell_type": "code",
   "execution_count": 21,
   "metadata": {},
   "outputs": [
    {
     "name": "stdout",
     "output_type": "stream",
     "text": [
      "7\n",
      "6\n",
      "1 2\n",
      "2 3\n",
      "1 5\n",
      "5 2\n",
      "5 6\n",
      "4 7\n",
      "5\n",
      "[False, True, True, True, False, True, True, False]\n"
     ]
    }
   ],
   "source": [
    "N = int(input())  # 컴퓨터 개수\n",
    "M = int(input())  # 간선 개수\n",
    "\n",
    "# adj matrix 생성\n",
    "adj = [[0]*(N+1) for _ in range(N+1)] # 1 ~ N index 이용\n",
    "\n",
    "for _ in range(M):\n",
    "    v1, v2 = map(int,input().split())\n",
    "    adj[v1][v2] = 1\n",
    "    adj[v2][v1] = 1\n",
    "\n",
    "# visited 생성\n",
    "visited = [False]*(N+1)\n",
    "stack = [1]\n",
    "visited[1] = True\n",
    "while stack:\n",
    "    cur = stack[-1]\n",
    "    for v in range(1,N+1):\n",
    "        if adj[cur][v] == 1 and visited[v] ==False:\n",
    "            stack.append(v) # 바로 방문\n",
    "            visited[v] = True\n",
    "            break\n",
    "    else: # 방문 할 곳 없으면 pop\n",
    "        stack.pop()\n",
    "print(sum(visited))\n",
    "print(visited)"
   ]
  },
  {
   "cell_type": "code",
   "execution_count": null,
   "metadata": {},
   "outputs": [],
   "source": [
    "7\n",
    "6\n",
    "1 2\n",
    "2 3\n",
    "1 5\n",
    "5 2\n",
    "5 6\n",
    "4 7"
   ]
  },
  {
   "cell_type": "code",
   "execution_count": 23,
   "metadata": {},
   "outputs": [
    {
     "data": {
      "text/plain": [
       "[2, 4]"
      ]
     },
     "execution_count": 23,
     "metadata": {},
     "output_type": "execute_result"
    }
   ],
   "source": [
    "sorted([4,2])"
   ]
  },
  {
   "cell_type": "markdown",
   "metadata": {},
   "source": [
    "# 2667"
   ]
  },
  {
   "cell_type": "code",
   "execution_count": 29,
   "metadata": {},
   "outputs": [
    {
     "name": "stdout",
     "output_type": "stream",
     "text": [
      "4\n",
      "1100\n",
      "1011\n",
      "1001\n",
      "0110\n",
      "3\n",
      "2\n",
      "3\n",
      "4\n"
     ]
    }
   ],
   "source": [
    "# for loop 으로 전체 탐색.\n",
    "# 이 때 visited = False인 경우 for loop으로 방문 시작하고, 이의 개수가 단지의 갯수\n",
    "# for loop으로 방문시, DFS 로 탐색\n",
    "# 탐색 순서는 상우하좌\n",
    "\n",
    "N = int(input())\n",
    "arr = [list(map(int,input())) for _ in range(N)]\n",
    "visited = [[True]*N for _ in range(N)]\n",
    "\n",
    "# visited 초기화 (1인 곳 False, 나머지 True)\n",
    "for i in range(N):\n",
    "    for j in range(N):\n",
    "        if arr[i][j] == 1:\n",
    "            visited[i][j] = False\n",
    "\n",
    "count = 0  # 단지 수\n",
    "num_of_apart = []\n",
    "\n",
    "# 이동방향 / 상우하좌\n",
    "dr = [-1,0,1,0]\n",
    "dc = [0,1,0,-1]\n",
    "\n",
    "# arr 순회\n",
    "for r in range(N):\n",
    "    for c in range(N):\n",
    "        if arr[r][c] == 1 and visited[r][c]==False:\n",
    "            count += 1\n",
    "            cur_num = 0 # 연결된 집의 수\n",
    "            # DFS 진행\n",
    "            stack = [[r,c]]\n",
    "            while stack:\n",
    "                cr, cc = stack[-1]\n",
    "                for i in range(4):\n",
    "                    nr = cr + dr[i]\n",
    "                    nc = cc + dc[i]\n",
    "                    if 0 <= nr < N and 0<= nc < N and visited[nr][nc] == False:\n",
    "                        visited[nr][nc]=True\n",
    "                        cur_num += 1 # 집 수 1개 추가\n",
    "                        stack.append([nr,nc]) # stack에 추가후 break\n",
    "                        break\n",
    "                else:\n",
    "                    stack.pop() # 더 이상 움직일 곳이 없다면 pop하기.\n",
    "            num_of_apart.append(cur_num) # 현재 단지의 집의 수를 리스트에 저장\n",
    "\n",
    "print(count)\n",
    "for num in sorted(num_of_apart):\n",
    "    print(num)"
   ]
  },
  {
   "cell_type": "code",
   "execution_count": null,
   "metadata": {},
   "outputs": [],
   "source": [
    "7\n",
    "0110100\n",
    "0110101\n",
    "1110101\n",
    "0000111\n",
    "0100000\n",
    "0111110\n",
    "0111000"
   ]
  }
 ],
 "metadata": {
  "kernelspec": {
   "display_name": "Python 3",
   "language": "python",
   "name": "python3"
  },
  "language_info": {
   "codemirror_mode": {
    "name": "ipython",
    "version": 3
   },
   "file_extension": ".py",
   "mimetype": "text/x-python",
   "name": "python",
   "nbconvert_exporter": "python",
   "pygments_lexer": "ipython3",
   "version": "3.9.4"
  }
 },
 "nbformat": 4,
 "nbformat_minor": 4
}
