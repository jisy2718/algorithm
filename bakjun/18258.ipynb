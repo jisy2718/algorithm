{
 "cells": [
  {
   "cell_type": "code",
   "execution_count": 4,
   "metadata": {},
   "outputs": [
    {
     "name": "stdout",
     "output_type": "stream",
     "text": [
      "5\n",
      "push 1\n"
     ]
    },
    {
     "ename": "AttributeError",
     "evalue": "'collections.deque' object has no attribute 'push'",
     "output_type": "error",
     "traceback": [
      "\u001b[1;31m---------------------------------------------------------------------------\u001b[0m",
      "\u001b[1;31mAttributeError\u001b[0m                            Traceback (most recent call last)",
      "\u001b[1;32m<ipython-input-4-77a186f77d8b>\u001b[0m in \u001b[0;36m<module>\u001b[1;34m\u001b[0m\n\u001b[0;32m     44\u001b[0m \u001b[1;33m\u001b[0m\u001b[0m\n\u001b[0;32m     45\u001b[0m     \u001b[1;32mif\u001b[0m \u001b[0morder\u001b[0m\u001b[1;33m[\u001b[0m\u001b[1;36m0\u001b[0m\u001b[1;33m]\u001b[0m \u001b[1;33m==\u001b[0m \u001b[1;34m'push'\u001b[0m\u001b[1;33m:\u001b[0m\u001b[1;33m\u001b[0m\u001b[1;33m\u001b[0m\u001b[0m\n\u001b[1;32m---> 46\u001b[1;33m         \u001b[0mdq\u001b[0m\u001b[1;33m.\u001b[0m\u001b[0mdq\u001b[0m\u001b[1;33m.\u001b[0m\u001b[0mpush\u001b[0m\u001b[1;33m(\u001b[0m\u001b[0mint\u001b[0m\u001b[1;33m(\u001b[0m\u001b[0morder\u001b[0m\u001b[1;33m[\u001b[0m\u001b[1;33m-\u001b[0m\u001b[1;36m1\u001b[0m\u001b[1;33m]\u001b[0m\u001b[1;33m)\u001b[0m\u001b[1;33m)\u001b[0m\u001b[1;33m\u001b[0m\u001b[1;33m\u001b[0m\u001b[0m\n\u001b[0m\u001b[0;32m     47\u001b[0m \u001b[1;33m\u001b[0m\u001b[0m\n\u001b[0;32m     48\u001b[0m     \u001b[1;32melif\u001b[0m \u001b[0morder\u001b[0m\u001b[1;33m[\u001b[0m\u001b[1;36m0\u001b[0m\u001b[1;33m]\u001b[0m \u001b[1;33m==\u001b[0m \u001b[1;34m'pop'\u001b[0m\u001b[1;33m:\u001b[0m\u001b[1;33m\u001b[0m\u001b[1;33m\u001b[0m\u001b[0m\n",
      "\u001b[1;31mAttributeError\u001b[0m: 'collections.deque' object has no attribute 'push'"
     ]
    }
   ],
   "source": [
    "from collections import deque\n",
    "\n",
    "N = int(input())\n",
    "\n",
    "class DQ():\n",
    "    def __init__(self):\n",
    "        self.size = 0\n",
    "        self.dq = deque([])\n",
    "        \n",
    "    def push(self, num):\n",
    "        self.dq.append(num)\n",
    "        self.size += 1\n",
    "    \n",
    "    def pop(self):\n",
    "        if self.size != 0:\n",
    "            first = self.dq.popleft()\n",
    "            self.size -= 1\n",
    "            print(first)\n",
    "\n",
    "        else:\n",
    "            print(-1)\n",
    "            \n",
    "    def empty(self):\n",
    "        if self.size != 0:\n",
    "            print(1)\n",
    "        else:\n",
    "            print(0)\n",
    "\n",
    "    def front(self):\n",
    "        if self.size == 0:\n",
    "            print(-1)\n",
    "        else:\n",
    "            print(self.dq[0])\n",
    "    \n",
    "    def back(self):\n",
    "        if self.size == 0:\n",
    "            print(-1)\n",
    "        else:\n",
    "            print(self.dq[-1])\n",
    "\n",
    "dq = DQ()\n",
    "for i in range(N):\n",
    "    order = input().split()\n",
    "    \n",
    "    if order[0] == 'push':\n",
    "        dq.dq.push(int(order[-1]))\n",
    "    \n",
    "    elif order[0] == 'pop':\n",
    "        dq.pop()\n",
    "    elif order[0] == 'front':\n",
    "        dq.front()\n",
    "    elif order[0] == 'back':\n",
    "        dq.back()\n",
    "    elif order[0]== 'size':\n",
    "        print(dq.size)\n",
    "    elif order[0] == 'empty':\n",
    "        dq.empty()\n",
    "            "
   ]
  },
  {
   "cell_type": "code",
   "execution_count": null,
   "metadata": {},
   "outputs": [],
   "source": []
  }
 ],
 "metadata": {
  "kernelspec": {
   "display_name": "Python 3",
   "language": "python",
   "name": "python3"
  },
  "language_info": {
   "codemirror_mode": {
    "name": "ipython",
    "version": 3
   },
   "file_extension": ".py",
   "mimetype": "text/x-python",
   "name": "python",
   "nbconvert_exporter": "python",
   "pygments_lexer": "ipython3",
   "version": "3.9.4"
  }
 },
 "nbformat": 4,
 "nbformat_minor": 4
}
