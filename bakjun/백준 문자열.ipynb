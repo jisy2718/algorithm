{
 "cells": [
  {
   "cell_type": "code",
   "execution_count": 3,
   "metadata": {},
   "outputs": [
    {
     "name": "stdout",
     "output_type": "stream",
     "text": [
      "839 237\n",
      "938\n"
     ]
    }
   ],
   "source": [
    "a, b = map(int,input().split())\n",
    "\n",
    "def find_reverse_max(a,b):\n",
    "    # 3 자리수로 정해져있고, 대소관계가 있으므로, 이와같이 while문 가능\n",
    "    while True:\n",
    "        ra = a % 10\n",
    "        rb = b % 10\n",
    "        if ra > rb:\n",
    "            return a\n",
    "        elif ra < rb:\n",
    "            return b\n",
    "        else:\n",
    "            a //= 10\n",
    "            b //= 10\n",
    "\n",
    "def reverse_num(a):\n",
    "    result = 0\n",
    "    while a > 0:\n",
    "        r = a % 10\n",
    "        a = a // 10\n",
    "        result = 10*result + r\n",
    "    return result\n",
    "\n",
    "# 3자리 수임\n",
    "max_value = find_reverse_max(a,b)\n",
    "print(reverse_num(max_value))"
   ]
  },
  {
   "cell_type": "markdown",
   "metadata": {},
   "source": [
    "# 2941"
   ]
  },
  {
   "cell_type": "code",
   "execution_count": 11,
   "metadata": {},
   "outputs": [
    {
     "name": "stdout",
     "output_type": "stream",
     "text": [
      "ddz=z=\n",
      "3\n"
     ]
    }
   ],
   "source": [
    "#1. 크로아티아 문자리스트\n",
    "char_list = [\"c=\", \"c-\",  \"d-\",\"dz=\", \"lj\", \"nj\", \"s=\", \"z=\"] #\" 는 \"z=\" 개수만 세면 됨\n",
    "\n",
    "\n",
    "#2. input\n",
    "string = input()\n",
    "\n",
    "#3. 전체길이 세어 준후, 크로아티아 문자리스트의 문자들이 나온 횟수를 고려해서, 전체길이에서 빼주기\n",
    "total = len(string)\n",
    "count = {}\n",
    "# 크로아티아 문자 나온횟수 세기\n",
    "for char in char_list:\n",
    "    char_len = len(char)\n",
    "    count[char] = 0 # 크로아티아 문자 나온 횟수\n",
    "    for i in range(len(string)-char_len+1): # string을 인덱스로 검사할 때, char이 있는지 보려면, 앞 인덱스기 준 여기까지 보면 됨\n",
    "        if char == string[i:i+char_len]:\n",
    "            count[char] += 1\n",
    "    # 전체 길이에서 빼주기\n",
    "    \n",
    "# 4. dz= 과 z= 의 중복된 개수를 세기 : z= 의 개수 - dz= 의 개수가 z=의 개수이다.\n",
    "count[\"z=\"] = count[\"z=\"] - count[\"dz=\"]\n",
    "for char in count:\n",
    "    char_len = len(char)\n",
    "    total = total - (char_len-1)*count[char]  # char이 1글자씩은 세어야하므로, 1을 빼고 count 곱해주기\n",
    "print(total)"
   ]
  }
 ],
 "metadata": {
  "kernelspec": {
   "display_name": "Python 3",
   "language": "python",
   "name": "python3"
  },
  "language_info": {
   "codemirror_mode": {
    "name": "ipython",
    "version": 3
   },
   "file_extension": ".py",
   "mimetype": "text/x-python",
   "name": "python",
   "nbconvert_exporter": "python",
   "pygments_lexer": "ipython3",
   "version": "3.9.4"
  }
 },
 "nbformat": 4,
 "nbformat_minor": 4
}
