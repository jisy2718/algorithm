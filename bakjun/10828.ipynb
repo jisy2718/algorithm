{
 "cells": [
  {
   "cell_type": "code",
   "execution_count": 2,
   "metadata": {},
   "outputs": [
    {
     "name": "stdout",
     "output_type": "stream",
     "text": [
      "14\n",
      "14 push 1 push 2 top size empty pop pop pop size empty pop push 3 empty top\n"
     ]
    },
    {
     "ename": "TypeError",
     "evalue": "'int' object is not callable",
     "output_type": "error",
     "traceback": [
      "\u001b[1;31m---------------------------------------------------------------------------\u001b[0m",
      "\u001b[1;31mTypeError\u001b[0m                                 Traceback (most recent call last)",
      "\u001b[1;32m<ipython-input-2-e1f7bec55ff9>\u001b[0m in \u001b[0;36m<module>\u001b[1;34m\u001b[0m\n\u001b[0;32m     51\u001b[0m     \u001b[1;31m# top 경우\u001b[0m\u001b[1;33m\u001b[0m\u001b[1;33m\u001b[0m\u001b[1;33m\u001b[0m\u001b[0m\n\u001b[0;32m     52\u001b[0m     \u001b[1;32melse\u001b[0m\u001b[1;33m:\u001b[0m\u001b[1;33m\u001b[0m\u001b[1;33m\u001b[0m\u001b[0m\n\u001b[1;32m---> 53\u001b[1;33m         \u001b[0mstack\u001b[0m\u001b[1;33m.\u001b[0m\u001b[0mtop\u001b[0m\u001b[1;33m(\u001b[0m\u001b[1;33m)\u001b[0m\u001b[1;33m\u001b[0m\u001b[1;33m\u001b[0m\u001b[0m\n\u001b[0m\u001b[0;32m     54\u001b[0m \u001b[1;33m\u001b[0m\u001b[0m\n\u001b[0;32m     55\u001b[0m \u001b[1;33m\u001b[0m\u001b[0m\n",
      "\u001b[1;31mTypeError\u001b[0m: 'int' object is not callable"
     ]
    }
   ],
   "source": [
    "class stack():\n",
    "    def __init__(self):\n",
    "        self.top = -1\n",
    "        self.stack = []\n",
    "    \n",
    "    def push(self, num):\n",
    "        self.stack.append(num)\n",
    "        self.top += 1\n",
    "        \n",
    "    def pop(self):\n",
    "        if self.stack:\n",
    "            print(self.stack.pop())\n",
    "            top -= 1\n",
    "        else:\n",
    "            print(-1)\n",
    "    \n",
    "    def size(self):\n",
    "        print(self.top+1)\n",
    "        \n",
    "    def empty(self):\n",
    "        if self.top >= 0:\n",
    "            print(1)\n",
    "        else:\n",
    "            print(0)\n",
    "        \n",
    "    def top(self):\n",
    "        if self.top == -1:\n",
    "            print(-1)\n",
    "        else:\n",
    "            print(self.stack[-1])\n",
    "\n",
    "stack = stack()\n",
    "\n",
    "N = int(input())\n",
    "for _ in range(N):\n",
    "    cur_input = input().split()\n",
    "    # push 경우\n",
    "    if cur_input[0] == 'push':\n",
    "        stack.push(cur_input[1])\n",
    "    \n",
    "    # pop 경우\n",
    "    elif cur_input[0] == 'pop':\n",
    "        stack.pop()\n",
    "           \n",
    "    # size 경우\n",
    "    elif cur_input[0] == 'size':\n",
    "        stack.size()\n",
    "    # empty 경우\n",
    "    elif cur_input[0] == 'empty':\n",
    "        stack.empty()\n",
    "    # top 경우\n",
    "    else:\n",
    "        stack.top()\n",
    "\n",
    "    "
   ]
  },
  {
   "cell_type": "code",
   "execution_count": 4,
   "metadata": {},
   "outputs": [],
   "source": [
    "for i in range(6+2, 7):\n",
    "    print(i)"
   ]
  },
  {
   "cell_type": "code",
   "execution_count": 5,
   "metadata": {},
   "outputs": [
    {
     "name": "stdout",
     "output_type": "stream",
     "text": [
      "123\n"
     ]
    },
    {
     "data": {
      "text/plain": [
       "['1', '2', '3']"
      ]
     },
     "execution_count": 5,
     "metadata": {},
     "output_type": "execute_result"
    }
   ],
   "source": [
    "list(input())"
   ]
  },
  {
   "cell_type": "markdown",
   "metadata": {},
   "source": [
    "## 백준 9012"
   ]
  },
  {
   "cell_type": "code",
   "execution_count": 11,
   "metadata": {},
   "outputs": [
    {
     "name": "stdout",
     "output_type": "stream",
     "text": [
      "1\n",
      "()()()()(()()())()\n",
      "push stack ['('] YES\n",
      "pop stack [] NO\n",
      "push stack ['('] NO\n",
      "pop stack [] NO\n",
      "push stack ['('] NO\n",
      "pop stack [] NO\n",
      "push stack ['('] NO\n",
      "pop stack [] NO\n",
      "push stack ['('] NO\n",
      "push stack ['(', '('] NO\n",
      "pop stack ['('] NO\n",
      "push stack ['(', '('] NO\n",
      "pop stack ['('] NO\n",
      "push stack ['(', '('] NO\n",
      "pop stack ['('] NO\n",
      "pop stack [] NO\n",
      "push stack ['('] NO\n",
      "pop stack [] NO\n",
      "NO\n"
     ]
    }
   ],
   "source": [
    "T = int(input())\n",
    "for tc in range(1,T+1):\n",
    "    string = list(input())\n",
    "    stack = []\n",
    "    result = 'YES'\n",
    "    \n",
    "    # 잘못된 경우 2가지\n",
    "    # stack이 비었는데, ) 나온 경우\n",
    "    # 다 끝났는데 stack에 남아 있는 경우\n",
    "    \n",
    "    for char in string:\n",
    "        # 1. ( 경우\n",
    "        # stack에 넣기\n",
    "        if char == '(':\n",
    "            stack.append('(')\n",
    "            print(f\"push stack {stack} {result}\")\n",
    "        # 2. ) 경우\n",
    "        # stack에서 pop\n",
    "        else:\n",
    "            if not stack:\n",
    "                result = 'NO'\n",
    "                print(\"NO\")\n",
    "            else:\n",
    "                stack.pop()\n",
    "                print(f\"pop stack {stack} {result}\")\n",
    "        \n",
    "    if stack:\n",
    "        result = 'NO'\n",
    "    print(result)\n",
    "    \n"
   ]
  },
  {
   "cell_type": "markdown",
   "metadata": {},
   "source": [
    "## 4949"
   ]
  },
  {
   "cell_type": "code",
   "execution_count": 16,
   "metadata": {},
   "outputs": [
    {
     "name": "stdout",
     "output_type": "stream",
     "text": [
      "1\n",
      "Help( I[m being held prisoner in a fortune cookie factory)].\n",
      "no\n"
     ]
    }
   ],
   "source": [
    "T = int(input())\n",
    "for _ in range(1,T+1):\n",
    "    string = list(input())\n",
    "    # 만약 괄호 하나도 없으면 true 되도록 true로 시작\n",
    "    result = 'yes'\n",
    "    match = {'(':')', '[':']'}\n",
    "    stack = []\n",
    "    for char in string:\n",
    "    \n",
    "        # (, [ 경우\n",
    "        if char in ['(','[']:\n",
    "            stack.append(char)\n",
    "    \n",
    "        # ), ] 경우\n",
    "        elif char in [')',']']:\n",
    "            # stack 이 없으면 no\n",
    "            if not stack:\n",
    "                result = 'no'\n",
    "                break\n",
    "            # 짝이 안 맞으면 no\n",
    "            else:\n",
    "                if match[stack[-1]] != char:\n",
    "                    result = 'no'\n",
    "                    break\n",
    "                else:\n",
    "                    stack.pop()\n",
    "    \n",
    "        # 그 외 경우\n",
    "        else:\n",
    "            continue\n",
    "\n",
    "    # stack 이 남아 있으면 no\n",
    "    if stack:\n",
    "        result = 'no'\n",
    "    print(result)"
   ]
  },
  {
   "cell_type": "code",
   "execution_count": null,
   "metadata": {},
   "outputs": [],
   "source": []
  }
 ],
 "metadata": {
  "kernelspec": {
   "display_name": "Python 3",
   "language": "python",
   "name": "python3"
  },
  "language_info": {
   "codemirror_mode": {
    "name": "ipython",
    "version": 3
   },
   "file_extension": ".py",
   "mimetype": "text/x-python",
   "name": "python",
   "nbconvert_exporter": "python",
   "pygments_lexer": "ipython3",
   "version": "3.9.4"
  }
 },
 "nbformat": 4,
 "nbformat_minor": 4
}
