{
 "cells": [
  {
   "cell_type": "markdown",
   "metadata": {},
   "source": [
    "# 1. 선택정렬\n",
    "+ 주어진 자료들 중 가장 작은 값의 원소부터 차례대로 선택하여 위치를 교환하는 방식\n",
    "+ 구간의 시작이 점점 뒤로 가고 / 구간의 끝은 맨 끝으로 일정\n",
    "+ 즉 앞부분부터 차례로 정렬이 됨\n",
    "+ O(n^2) 시간복잡도\n",
    "+ 외우기"
   ]
  },
  {
   "cell_type": "code",
   "execution_count": null,
   "metadata": {},
   "outputs": [],
   "source": [
    "def select(arr,k):\n",
    "    for i in range(k):\n",
    "        min_idx = i\n",
    "        for j in range(i+1,len(arr)):\n",
    "            if arr[min_idx] > arr[j]:\n",
    "                min_idx = arr[j]\n",
    "        arr[min_idx] , arr[i] = arr[i], arr[min_idx]\n",
    "    return arr[k-1]"
   ]
  },
  {
   "cell_type": "markdown",
   "metadata": {},
   "source": [
    "# 2. k 번째로 작은 원소를 찾는 알고리즘\n",
    "+ k 가 작을 때 유용\n",
    "+ O(kn)의 시간 복잡도"
   ]
  },
  {
   "cell_type": "code",
   "execution_count": null,
   "metadata": {},
   "outputs": [],
   "source": [
    "def select(arr,k):\n",
    "    for i in range(k):\n",
    "        min_idx = i\n",
    "        for j in range(i+1,len(arr)):\n",
    "            if arr[min_idx] > arr[j]:\n",
    "                min_idx = arr[j]\n",
    "        arr[min_idx] , arr[i] = arr[i], arr[min_idx]\n",
    "    return arr[k-1]"
   ]
  }
 ],
 "metadata": {
  "kernelspec": {
   "display_name": "Python 3",
   "language": "python",
   "name": "python3"
  },
  "language_info": {
   "codemirror_mode": {
    "name": "ipython",
    "version": 3
   },
   "file_extension": ".py",
   "mimetype": "text/x-python",
   "name": "python",
   "nbconvert_exporter": "python",
   "pygments_lexer": "ipython3",
   "version": "3.9.4"
  }
 },
 "nbformat": 4,
 "nbformat_minor": 4
}
