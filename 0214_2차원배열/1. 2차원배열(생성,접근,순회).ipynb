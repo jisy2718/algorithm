{
 "cells": [
  {
   "cell_type": "markdown",
   "metadata": {},
   "source": [
    "# 1. 생성"
   ]
  },
  {
   "cell_type": "markdown",
   "metadata": {},
   "source": [
    "## 1-1. 행열 index와 list index 일치시키기"
   ]
  },
  {
   "cell_type": "code",
   "execution_count": 5,
   "metadata": {},
   "outputs": [
    {
     "name": "stdout",
     "output_type": "stream",
     "text": [
      "3\n",
      "1 2 3\n",
      "3 4 5\n",
      "6 7 8\n",
      "[[0, 0, 0, 0], [0, 1, 2, 3], [0, 3, 4, 5], [0, 6, 7, 8]]\n"
     ]
    }
   ],
   "source": [
    "N = int(input())\n",
    "\n",
    "arr2 = [[0]*(N+1)] + [[0]+ list(map(int,input().split())) for _ in range(N)]\n",
    "print(arr2)"
   ]
  },
  {
   "cell_type": "markdown",
   "metadata": {},
   "source": [
    "## 1-2. 주어진 행렬을 0으로 둘러싸기"
   ]
  },
  {
   "cell_type": "code",
   "execution_count": 7,
   "metadata": {},
   "outputs": [
    {
     "name": "stdout",
     "output_type": "stream",
     "text": [
      "3\n",
      "1 2 3\n",
      "4 5 6\n",
      "7 8 9\n",
      "[[0, 0, 0, 0, 0], [0, 1, 2, 3, 0], [0, 4, 5, 6, 0], [0, 7, 8, 9, 0], [0, 0, 0, 0, 0]]\n"
     ]
    }
   ],
   "source": [
    "N = int(input())\n",
    "arr3 = [[0]*(N+2)] + [[0]+ list(map(int,input().split())) + [0] for _ in range(N)] +[[0]*(N+2)]\n",
    "print(arr3)"
   ]
  },
  {
   "cell_type": "markdown",
   "metadata": {},
   "source": [
    "# 2. 접근"
   ]
  },
  {
   "cell_type": "markdown",
   "metadata": {},
   "source": [
    "## 2-1. 델타를 이용한 2차 배열 탐색"
   ]
  },
  {
   "cell_type": "code",
   "execution_count": 25,
   "metadata": {},
   "outputs": [],
   "source": [
    "# NxM array\n",
    "N , M = 3, 4\n",
    "arr = [[0]*M for _ in range(N)]\n",
    "\n",
    "\n",
    "di = [0,1,0,-1] # 우하좌상\n",
    "dj = [1,0,-1,0] # 우하좌상\n",
    "\n",
    "\n",
    "for i in range(N):\n",
    "    for j in range(M):        \n",
    "\n",
    "        # general form\n",
    "        for k in range(4):\n",
    "            #print(f\"di, k : {di} {k}\")\n",
    "            ni = i + di[k]\n",
    "            nj = j + dj[k]\n",
    "            if 0<=ni<=N-1 and 0<=nj<=M-1: # valid index\n",
    "                pass\n",
    "                #print(arr[ni][nj] + i + j)\n",
    "                \n",
    "#         # python only form\n",
    "#         for di, dj in [(0,1), (1,0), (0,-1),(-1,0)]:\n",
    "#             ni = i + di\n",
    "#             nj = j + dj\n",
    "#             if 0<=ni<=N-1 and 0<=nj<=M-1: # valid index\n",
    "#                 print(arr[ni][nj] + i + j)"
   ]
  },
  {
   "cell_type": "code",
   "execution_count": null,
   "metadata": {},
   "outputs": [],
   "source": [
    "\n"
   ]
  },
  {
   "cell_type": "markdown",
   "metadata": {},
   "source": [
    "# 3. 전치행렬"
   ]
  },
  {
   "cell_type": "code",
   "execution_count": 28,
   "metadata": {},
   "outputs": [
    {
     "name": "stdout",
     "output_type": "stream",
     "text": [
      "1 2 3\n",
      "4 5 6\n",
      "7 8 9\n",
      "[['1', '2', '3'], ['4', '5', '6'], ['7', '8', '9']]\n"
     ]
    }
   ],
   "source": [
    "arr = [input().split() for _ in range(3)]\n",
    "print(arr)\n",
    "for i in range(3):\n",
    "    for j in range(i,3):\n",
    "        arr[i][j], arr[j][i] = arr[j][i], arr[i][j]"
   ]
  },
  {
   "cell_type": "code",
   "execution_count": 27,
   "metadata": {},
   "outputs": [
    {
     "data": {
      "text/plain": [
       "[['1', '4', '7'], ['2', '5', '8'], ['3', '6', '9']]"
      ]
     },
     "execution_count": 27,
     "metadata": {},
     "output_type": "execute_result"
    }
   ],
   "source": [
    "arr"
   ]
  },
  {
   "cell_type": "code",
   "execution_count": null,
   "metadata": {},
   "outputs": [],
   "source": []
  },
  {
   "cell_type": "code",
   "execution_count": 22,
   "metadata": {},
   "outputs": [
    {
     "name": "stdout",
     "output_type": "stream",
     "text": [
      "1 2\n",
      "1 2\n",
      "1 2\n"
     ]
    }
   ],
   "source": [
    "arr = [input().split() for _ in range(3)]"
   ]
  },
  {
   "cell_type": "code",
   "execution_count": 23,
   "metadata": {},
   "outputs": [
    {
     "data": {
      "text/plain": [
       "[['1', '2'], ['1', '2'], ['1', '2']]"
      ]
     },
     "execution_count": 23,
     "metadata": {},
     "output_type": "execute_result"
    }
   ],
   "source": [
    "arr"
   ]
  },
  {
   "cell_type": "code",
   "execution_count": null,
   "metadata": {},
   "outputs": [],
   "source": []
  }
 ],
 "metadata": {
  "kernelspec": {
   "display_name": "Python 3",
   "language": "python",
   "name": "python3"
  },
  "language_info": {
   "codemirror_mode": {
    "name": "ipython",
    "version": 3
   },
   "file_extension": ".py",
   "mimetype": "text/x-python",
   "name": "python",
   "nbconvert_exporter": "python",
   "pygments_lexer": "ipython3",
   "version": "3.9.4"
  }
 },
 "nbformat": 4,
 "nbformat_minor": 4
}
